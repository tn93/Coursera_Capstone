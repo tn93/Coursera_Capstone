{
  "nbformat": 4,
  "nbformat_minor": 0,
  "metadata": {
    "colab": {
      "name": "Coursera IBM Capstone Project Notebook Final.ipynb",
      "provenance": [],
      "collapsed_sections": [],
      "toc_visible": true,
      "authorship_tag": "ABX9TyPAzNz0BEO0FhbKQNKf2e6g"
    },
    "kernelspec": {
      "name": "python3",
      "display_name": "Python 3"
    },
    "language_info": {
      "name": "python"
    }
  },
  "cells": [
    {
      "cell_type": "markdown",
      "metadata": {
        "id": "wM9n1c-91z42"
      },
      "source": [
        "### **This notebook will be the primary notebook for my Coursera IBM Capstone Project**"
      ]
    },
    {
      "cell_type": "code",
      "metadata": {
        "id": "StJSVEtf18jC"
      },
      "source": [
        "import numpy as np\n",
        "import pandas as pd\n",
        "pd.set_option('display.max_rows', 10 )\n",
        "import json\n",
        "from geopy.geocoders import Nominatim\n",
        "import requests\n",
        "from pandas.io.json import json_normalize\n",
        "import matplotlib.cm as cm\n",
        "import matplotlib.colors as colors\n",
        "from sklearn.cluster import KMeans\n",
        "import folium\n",
        "from folium import plugins\n",
        "from folium.plugins import HeatMap"
      ],
      "execution_count": null,
      "outputs": []
    },
    {
      "cell_type": "code",
      "metadata": {
        "colab": {
          "base_uri": "https://localhost:8080/"
        },
        "id": "9TfxmZbg2Ddq",
        "outputId": "f81aef9f-0af1-4665-faec-5ee3b5c5237b"
      },
      "source": [
        "print('Hello Capstone Project Course!')"
      ],
      "execution_count": null,
      "outputs": [
        {
          "output_type": "stream",
          "text": [
            "Hello Capstone Project Course!\n"
          ],
          "name": "stdout"
        }
      ]
    },
    {
      "cell_type": "markdown",
      "metadata": {
        "id": "nyQmbIjNJ3e-"
      },
      "source": [
        "\n",
        "---\n",
        "### **Introduction: Business Problem**\n",
        "\n",
        "\n",
        "Analyzing the number of fitness centers in Manhattan, New York to decide where would be a good location to start a new gym.\n",
        "\n",
        "Who would be interested in this project: Investors and business owners who would like to start a gym, as well as fitness enthusiasts who would like to live closer to a ym or fitness center\n",
        "\n",
        "---"
      ]
    },
    {
      "cell_type": "markdown",
      "metadata": {
        "id": "NG-ncRBhiZDP"
      },
      "source": [
        "### **Data**\n",
        "\n",
        "I used the '**newyork_data.json**' dataset from IBM, as well as the Foursqaure API to get the information on gyms and fitness centers in Manhattan\n"
      ]
    },
    {
      "cell_type": "markdown",
      "metadata": {
        "id": "Y7Gd4Nwkk6J-"
      },
      "source": [
        "### **Methodology**\n",
        "\n",
        "I started off by loading the **newyork_data.json** Json file into a data set. I organized the data set into four columns - Borough, Neighborhood, Latitude and Longitude.\n",
        "\n",
        "I then took the data from the new york dataset and created a new dataset for just Manhattan, which consisted of clusters of all the Neighborhoods in Manhattan using their Latitude and Longitude coordinates\n",
        "\n",
        "After that I used the Foursquare API combined with the Manhattan Neighborhood Dataset to get a list of every Gym and Fitness center in the Borough along with their Latitude and Longitudes.\n",
        "\n",
        "Then using Folium I generated a heatmap to see the density or 'heat' of the number of Gyms and Fitness Centers in different parts of Manhattan"
      ]
    },
    {
      "cell_type": "code",
      "metadata": {
        "id": "PJZZhCVViSpT"
      },
      "source": [
        "!wget -q -O 'newyork_data.json' https://cf-courses-data.s3.us.cloud-object-storage.appdomain.cloud/IBMDeveloperSkillsNetwork-DS0701EN-SkillsNetwork/labs/newyork_data.json"
      ],
      "execution_count": null,
      "outputs": []
    },
    {
      "cell_type": "code",
      "metadata": {
        "id": "PUJr70iykBL_"
      },
      "source": [
        "with open('newyork_data.json') as json_data:\n",
        "  newyork_data = json.load(json_data)"
      ],
      "execution_count": null,
      "outputs": []
    },
    {
      "cell_type": "code",
      "metadata": {
        "colab": {
          "base_uri": "https://localhost:8080/"
        },
        "id": "IZo3p4qikJzI",
        "outputId": "070fea5a-9fab-40a3-af58-65ed097c6052"
      },
      "source": [
        "print(newyork_data)"
      ],
      "execution_count": null,
      "outputs": [
        {
          "output_type": "stream",
          "text": [
            "{'type': 'FeatureCollection', 'totalFeatures': 306, 'features': [{'type': 'Feature', 'id': 'nyu_2451_34572.1', 'geometry': {'type': 'Point', 'coordinates': [-73.84720052054902, 40.89470517661]}, 'geometry_name': 'geom', 'properties': {'name': 'Wakefield', 'stacked': 1, 'annoline1': 'Wakefield', 'annoline2': None, 'annoline3': None, 'annoangle': 0.0, 'borough': 'Bronx', 'bbox': [-73.84720052054902, 40.89470517661, -73.84720052054902, 40.89470517661]}}, {'type': 'Feature', 'id': 'nyu_2451_34572.2', 'geometry': {'type': 'Point', 'coordinates': [-73.82993910812398, 40.87429419303012]}, 'geometry_name': 'geom', 'properties': {'name': 'Co-op City', 'stacked': 2, 'annoline1': 'Co-op', 'annoline2': 'City', 'annoline3': None, 'annoangle': 0.0, 'borough': 'Bronx', 'bbox': [-73.82993910812398, 40.87429419303012, -73.82993910812398, 40.87429419303012]}}, {'type': 'Feature', 'id': 'nyu_2451_34572.3', 'geometry': {'type': 'Point', 'coordinates': [-73.82780644716412, 40.887555677350775]}, 'geometry_name': 'geom', 'properties': {'name': 'Eastchester', 'stacked': 1, 'annoline1': 'Eastchester', 'annoline2': None, 'annoline3': None, 'annoangle': 0.0, 'borough': 'Bronx', 'bbox': [-73.82780644716412, 40.887555677350775, -73.82780644716412, 40.887555677350775]}}, {'type': 'Feature', 'id': 'nyu_2451_34572.4', 'geometry': {'type': 'Point', 'coordinates': [-73.90564259591682, 40.89543742690383]}, 'geometry_name': 'geom', 'properties': {'name': 'Fieldston', 'stacked': 1, 'annoline1': 'Fieldston', 'annoline2': None, 'annoline3': None, 'annoangle': 0.0, 'borough': 'Bronx', 'bbox': [-73.90564259591682, 40.89543742690383, -73.90564259591682, 40.89543742690383]}}, {'type': 'Feature', 'id': 'nyu_2451_34572.5', 'geometry': {'type': 'Point', 'coordinates': [-73.9125854610857, 40.890834493891305]}, 'geometry_name': 'geom', 'properties': {'name': 'Riverdale', 'stacked': 1, 'annoline1': 'Riverdale', 'annoline2': None, 'annoline3': None, 'annoangle': 0.0, 'borough': 'Bronx', 'bbox': [-73.9125854610857, 40.890834493891305, -73.9125854610857, 40.890834493891305]}}, {'type': 'Feature', 'id': 'nyu_2451_34572.6', 'geometry': {'type': 'Point', 'coordinates': [-73.90281798724604, 40.88168737120521]}, 'geometry_name': 'geom', 'properties': {'name': 'Kingsbridge', 'stacked': 1, 'annoline1': 'Kingsbridge', 'annoline2': None, 'annoline3': None, 'annoangle': 0.0, 'borough': 'Bronx', 'bbox': [-73.90281798724604, 40.88168737120521, -73.90281798724604, 40.88168737120521]}}, {'type': 'Feature', 'id': 'nyu_2451_34572.7', 'geometry': {'type': 'Point', 'coordinates': [-73.91065965862981, 40.87655077879964]}, 'geometry_name': 'geom', 'properties': {'name': 'Marble Hill', 'stacked': 2, 'annoline1': 'Marble', 'annoline2': 'Hill', 'annoline3': None, 'annoangle': 0.0, 'borough': 'Manhattan', 'bbox': [-73.91065965862981, 40.87655077879964, -73.91065965862981, 40.87655077879964]}}, {'type': 'Feature', 'id': 'nyu_2451_34572.8', 'geometry': {'type': 'Point', 'coordinates': [-73.86731496814176, 40.89827261213805]}, 'geometry_name': 'geom', 'properties': {'name': 'Woodlawn', 'stacked': 1, 'annoline1': 'Woodlawn', 'annoline2': None, 'annoline3': None, 'annoangle': 0.0, 'borough': 'Bronx', 'bbox': [-73.86731496814176, 40.89827261213805, -73.86731496814176, 40.89827261213805]}}, {'type': 'Feature', 'id': 'nyu_2451_34572.9', 'geometry': {'type': 'Point', 'coordinates': [-73.8793907395681, 40.87722415599446]}, 'geometry_name': 'geom', 'properties': {'name': 'Norwood', 'stacked': 1, 'annoline1': 'Norwood', 'annoline2': None, 'annoline3': None, 'annoangle': 0.0, 'borough': 'Bronx', 'bbox': [-73.8793907395681, 40.87722415599446, -73.8793907395681, 40.87722415599446]}}, {'type': 'Feature', 'id': 'nyu_2451_34572.10', 'geometry': {'type': 'Point', 'coordinates': [-73.85744642974207, 40.88103887819211]}, 'geometry_name': 'geom', 'properties': {'name': 'Williamsbridge', 'stacked': 1, 'annoline1': 'Williamsbridge', 'annoline2': None, 'annoline3': None, 'annoangle': 0.0, 'borough': 'Bronx', 'bbox': [-73.85744642974207, 40.88103887819211, -73.85744642974207, 40.88103887819211]}}, {'type': 'Feature', 'id': 'nyu_2451_34572.11', 'geometry': {'type': 'Point', 'coordinates': [-73.83579759808117, 40.866858107252696]}, 'geometry_name': 'geom', 'properties': {'name': 'Baychester', 'stacked': 1, 'annoline1': 'Baychester', 'annoline2': None, 'annoline3': None, 'annoangle': 0.0, 'borough': 'Bronx', 'bbox': [-73.83579759808117, 40.866858107252696, -73.83579759808117, 40.866858107252696]}}, {'type': 'Feature', 'id': 'nyu_2451_34572.12', 'geometry': {'type': 'Point', 'coordinates': [-73.85475564017999, 40.85741349808865]}, 'geometry_name': 'geom', 'properties': {'name': 'Pelham Parkway', 'stacked': 1, 'annoline1': 'Pelham Parkway', 'annoline2': None, 'annoline3': None, 'annoangle': 0.0, 'borough': 'Bronx', 'bbox': [-73.85475564017999, 40.85741349808865, -73.85475564017999, 40.85741349808865]}}, {'type': 'Feature', 'id': 'nyu_2451_34572.13', 'geometry': {'type': 'Point', 'coordinates': [-73.78648845267413, 40.84724670491813]}, 'geometry_name': 'geom', 'properties': {'name': 'City Island', 'stacked': 2, 'annoline1': 'City', 'annoline2': 'Island', 'annoline3': None, 'annoangle': 0.0, 'borough': 'Bronx', 'bbox': [-73.78648845267413, 40.84724670491813, -73.78648845267413, 40.84724670491813]}}, {'type': 'Feature', 'id': 'nyu_2451_34572.14', 'geometry': {'type': 'Point', 'coordinates': [-73.8855121841913, 40.870185164975325]}, 'geometry_name': 'geom', 'properties': {'name': 'Bedford Park', 'stacked': 2, 'annoline1': 'Bedford', 'annoline2': 'Park', 'annoline3': None, 'annoangle': 0.0, 'borough': 'Bronx', 'bbox': [-73.8855121841913, 40.870185164975325, -73.8855121841913, 40.870185164975325]}}, {'type': 'Feature', 'id': 'nyu_2451_34572.15', 'geometry': {'type': 'Point', 'coordinates': [-73.9104159619131, 40.85572707719664]}, 'geometry_name': 'geom', 'properties': {'name': 'University Heights', 'stacked': 2, 'annoline1': 'University', 'annoline2': 'Heights', 'annoline3': None, 'annoangle': 0.0, 'borough': 'Bronx', 'bbox': [-73.9104159619131, 40.85572707719664, -73.9104159619131, 40.85572707719664]}}, {'type': 'Feature', 'id': 'nyu_2451_34572.16', 'geometry': {'type': 'Point', 'coordinates': [-73.91967159119565, 40.84789792606271]}, 'geometry_name': 'geom', 'properties': {'name': 'Morris Heights', 'stacked': 2, 'annoline1': 'Morris', 'annoline2': 'Heights', 'annoline3': None, 'annoangle': 0.0, 'borough': 'Bronx', 'bbox': [-73.91967159119565, 40.84789792606271, -73.91967159119565, 40.84789792606271]}}, {'type': 'Feature', 'id': 'nyu_2451_34572.17', 'geometry': {'type': 'Point', 'coordinates': [-73.89642655981623, 40.86099679638654]}, 'geometry_name': 'geom', 'properties': {'name': 'Fordham', 'stacked': 1, 'annoline1': 'Fordham', 'annoline2': None, 'annoline3': None, 'annoangle': 0.0, 'borough': 'Bronx', 'bbox': [-73.89642655981623, 40.86099679638654, -73.89642655981623, 40.86099679638654]}}, {'type': 'Feature', 'id': 'nyu_2451_34572.18', 'geometry': {'type': 'Point', 'coordinates': [-73.88735617532338, 40.84269615786053]}, 'geometry_name': 'geom', 'properties': {'name': 'East Tremont', 'stacked': 2, 'annoline1': 'East', 'annoline2': 'Tremont', 'annoline3': None, 'annoangle': 0.0, 'borough': 'Bronx', 'bbox': [-73.88735617532338, 40.84269615786053, -73.88735617532338, 40.84269615786053]}}, {'type': 'Feature', 'id': 'nyu_2451_34572.19', 'geometry': {'type': 'Point', 'coordinates': [-73.87774474910545, 40.83947505672653]}, 'geometry_name': 'geom', 'properties': {'name': 'West Farms', 'stacked': 2, 'annoline1': 'West', 'annoline2': 'Farms', 'annoline3': None, 'annoangle': 0.0, 'borough': 'Bronx', 'bbox': [-73.87774474910545, 40.83947505672653, -73.87774474910545, 40.83947505672653]}}, {'type': 'Feature', 'id': 'nyu_2451_34572.20', 'geometry': {'type': 'Point', 'coordinates': [-73.9261020935813, 40.836623010706056]}, 'geometry_name': 'geom', 'properties': {'name': 'High  Bridge', 'stacked': 1, 'annoline1': 'Highbridge', 'annoline2': None, 'annoline3': None, 'annoangle': 0.0, 'borough': 'Bronx', 'bbox': [-73.9261020935813, 40.836623010706056, -73.9261020935813, 40.836623010706056]}}, {'type': 'Feature', 'id': 'nyu_2451_34572.21', 'geometry': {'type': 'Point', 'coordinates': [-73.90942160757436, 40.819754370594936]}, 'geometry_name': 'geom', 'properties': {'name': 'Melrose', 'stacked': 1, 'annoline1': 'Melrose', 'annoline2': None, 'annoline3': None, 'annoangle': 0.0, 'borough': 'Bronx', 'bbox': [-73.90942160757436, 40.819754370594936, -73.90942160757436, 40.819754370594936]}}, {'type': 'Feature', 'id': 'nyu_2451_34572.22', 'geometry': {'type': 'Point', 'coordinates': [-73.91609987487575, 40.80623874935177]}, 'geometry_name': 'geom', 'properties': {'name': 'Mott Haven', 'stacked': 1, 'annoline1': 'Mott Haven', 'annoline2': None, 'annoline3': None, 'annoangle': 0.0, 'borough': 'Bronx', 'bbox': [-73.91609987487575, 40.80623874935177, -73.91609987487575, 40.80623874935177]}}, {'type': 'Feature', 'id': 'nyu_2451_34572.23', 'geometry': {'type': 'Point', 'coordinates': [-73.91322139386135, 40.801663627756206]}, 'geometry_name': 'geom', 'properties': {'name': 'Port Morris', 'stacked': 2, 'annoline1': 'Port', 'annoline2': 'Morris', 'annoline3': None, 'annoangle': 0.0, 'borough': 'Bronx', 'bbox': [-73.91322139386135, 40.801663627756206, -73.91322139386135, 40.801663627756206]}}, {'type': 'Feature', 'id': 'nyu_2451_34572.24', 'geometry': {'type': 'Point', 'coordinates': [-73.8957882009446, 40.81509904545822]}, 'geometry_name': 'geom', 'properties': {'name': 'Longwood', 'stacked': 1, 'annoline1': 'Longwood', 'annoline2': None, 'annoline3': None, 'annoangle': 0.0, 'borough': 'Bronx', 'bbox': [-73.8957882009446, 40.81509904545822, -73.8957882009446, 40.81509904545822]}}, {'type': 'Feature', 'id': 'nyu_2451_34572.25', 'geometry': {'type': 'Point', 'coordinates': [-73.88331505955291, 40.80972987938709]}, 'geometry_name': 'geom', 'properties': {'name': 'Hunts Point', 'stacked': 2, 'annoline1': 'Hunts', 'annoline2': 'Point', 'annoline3': None, 'annoangle': 0.0, 'borough': 'Bronx', 'bbox': [-73.88331505955291, 40.80972987938709, -73.88331505955291, 40.80972987938709]}}, {'type': 'Feature', 'id': 'nyu_2451_34572.26', 'geometry': {'type': 'Point', 'coordinates': [-73.90150648943059, 40.82359198585534]}, 'geometry_name': 'geom', 'properties': {'name': 'Morrisania', 'stacked': 1, 'annoline1': 'Morrisania', 'annoline2': None, 'annoline3': None, 'annoangle': 0.0, 'borough': 'Bronx', 'bbox': [-73.90150648943059, 40.82359198585534, -73.90150648943059, 40.82359198585534]}}, {'type': 'Feature', 'id': 'nyu_2451_34572.27', 'geometry': {'type': 'Point', 'coordinates': [-73.86574609554924, 40.821012197914015]}, 'geometry_name': 'geom', 'properties': {'name': 'Soundview', 'stacked': 1, 'annoline1': 'Soundview', 'annoline2': None, 'annoline3': None, 'annoangle': 0.0, 'borough': 'Bronx', 'bbox': [-73.86574609554924, 40.821012197914015, -73.86574609554924, 40.821012197914015]}}, {'type': 'Feature', 'id': 'nyu_2451_34572.28', 'geometry': {'type': 'Point', 'coordinates': [-73.85414416189266, 40.80655112003589]}, 'geometry_name': 'geom', 'properties': {'name': 'Clason Point', 'stacked': 2, 'annoline1': 'Clason', 'annoline2': 'Point', 'annoline3': None, 'annoangle': 0.0, 'borough': 'Bronx', 'bbox': [-73.85414416189266, 40.80655112003589, -73.85414416189266, 40.80655112003589]}}, {'type': 'Feature', 'id': 'nyu_2451_34572.29', 'geometry': {'type': 'Point', 'coordinates': [-73.81635002158441, 40.81510925804005]}, 'geometry_name': 'geom', 'properties': {'name': 'Throgs Neck', 'stacked': 1, 'annoline1': 'Throgs Neck', 'annoline2': None, 'annoline3': None, 'annoangle': 0.0, 'borough': 'Bronx', 'bbox': [-73.81635002158441, 40.81510925804005, -73.81635002158441, 40.81510925804005]}}, {'type': 'Feature', 'id': 'nyu_2451_34572.30', 'geometry': {'type': 'Point', 'coordinates': [-73.8240992675385, 40.844245936947374]}, 'geometry_name': 'geom', 'properties': {'name': 'Country Club', 'stacked': 2, 'annoline1': 'Country', 'annoline2': 'Club', 'annoline3': None, 'annoangle': 0.0, 'borough': 'Bronx', 'bbox': [-73.8240992675385, 40.844245936947374, -73.8240992675385, 40.844245936947374]}}, {'type': 'Feature', 'id': 'nyu_2451_34572.31', 'geometry': {'type': 'Point', 'coordinates': [-73.85600310535783, 40.837937822267286]}, 'geometry_name': 'geom', 'properties': {'name': 'Parkchester', 'stacked': 1, 'annoline1': 'Parkchester', 'annoline2': None, 'annoline3': None, 'annoangle': 0.0, 'borough': 'Bronx', 'bbox': [-73.85600310535783, 40.837937822267286, -73.85600310535783, 40.837937822267286]}}, {'type': 'Feature', 'id': 'nyu_2451_34572.32', 'geometry': {'type': 'Point', 'coordinates': [-73.84219407604444, 40.8406194964327]}, 'geometry_name': 'geom', 'properties': {'name': 'Westchester Square', 'stacked': 2, 'annoline1': 'Westchester', 'annoline2': 'Square', 'annoline3': None, 'annoangle': 0.0, 'borough': 'Bronx', 'bbox': [-73.84219407604444, 40.8406194964327, -73.84219407604444, 40.8406194964327]}}, {'type': 'Feature', 'id': 'nyu_2451_34572.33', 'geometry': {'type': 'Point', 'coordinates': [-73.8662991807561, 40.84360847124718]}, 'geometry_name': 'geom', 'properties': {'name': 'Van Nest', 'stacked': 2, 'annoline1': 'Van', 'annoline2': 'Nest', 'annoline3': None, 'annoangle': 0.0, 'borough': 'Bronx', 'bbox': [-73.8662991807561, 40.84360847124718, -73.8662991807561, 40.84360847124718]}}, {'type': 'Feature', 'id': 'nyu_2451_34572.34', 'geometry': {'type': 'Point', 'coordinates': [-73.85040178030421, 40.847549063536334]}, 'geometry_name': 'geom', 'properties': {'name': 'Morris Park', 'stacked': 1, 'annoline1': 'Morris Park', 'annoline2': None, 'annoline3': None, 'annoangle': 0.0, 'borough': 'Bronx', 'bbox': [-73.85040178030421, 40.847549063536334, -73.85040178030421, 40.847549063536334]}}, {'type': 'Feature', 'id': 'nyu_2451_34572.35', 'geometry': {'type': 'Point', 'coordinates': [-73.88845196134804, 40.85727710073895]}, 'geometry_name': 'geom', 'properties': {'name': 'Belmont', 'stacked': 1, 'annoline1': 'Belmont', 'annoline2': None, 'annoline3': None, 'annoangle': 0.0, 'borough': 'Bronx', 'bbox': [-73.88845196134804, 40.85727710073895, -73.88845196134804, 40.85727710073895]}}, {'type': 'Feature', 'id': 'nyu_2451_34572.36', 'geometry': {'type': 'Point', 'coordinates': [-73.91719048210393, 40.88139497727086]}, 'geometry_name': 'geom', 'properties': {'name': 'Spuyten Duyvil', 'stacked': 2, 'annoline1': 'Spuyten', 'annoline2': 'Duyvil', 'annoline3': None, 'annoangle': 0.0, 'borough': 'Bronx', 'bbox': [-73.91719048210393, 40.88139497727086, -73.91719048210393, 40.88139497727086]}}, {'type': 'Feature', 'id': 'nyu_2451_34572.37', 'geometry': {'type': 'Point', 'coordinates': [-73.90453054908927, 40.90854282950666]}, 'geometry_name': 'geom', 'properties': {'name': 'North Riverdale', 'stacked': 2, 'annoline1': 'North', 'annoline2': 'Riverdale', 'annoline3': None, 'annoangle': 0.0, 'borough': 'Bronx', 'bbox': [-73.90453054908927, 40.90854282950666, -73.90453054908927, 40.90854282950666]}}, {'type': 'Feature', 'id': 'nyu_2451_34572.38', 'geometry': {'type': 'Point', 'coordinates': [-73.8320737824047, 40.85064140940335]}, 'geometry_name': 'geom', 'properties': {'name': 'Pelham Bay', 'stacked': 2, 'annoline1': 'Pelham', 'annoline2': 'Bay', 'annoline3': None, 'annoangle': 0.0, 'borough': 'Bronx', 'bbox': [-73.8320737824047, 40.85064140940335, -73.8320737824047, 40.85064140940335]}}, {'type': 'Feature', 'id': 'nyu_2451_34572.39', 'geometry': {'type': 'Point', 'coordinates': [-73.82620275994073, 40.82657951686922]}, 'geometry_name': 'geom', 'properties': {'name': 'Schuylerville', 'stacked': 1, 'annoline1': 'Schuylerville', 'annoline2': None, 'annoline3': None, 'annoangle': 0.0, 'borough': 'Bronx', 'bbox': [-73.82620275994073, 40.82657951686922, -73.82620275994073, 40.82657951686922]}}, {'type': 'Feature', 'id': 'nyu_2451_34572.40', 'geometry': {'type': 'Point', 'coordinates': [-73.81388514428619, 40.821986118163494]}, 'geometry_name': 'geom', 'properties': {'name': 'Edgewater Park', 'stacked': 2, 'annoline1': 'Edgewater', 'annoline2': 'Park', 'annoline3': None, 'annoangle': 0.0, 'borough': 'Bronx', 'bbox': [-73.81388514428619, 40.821986118163494, -73.81388514428619, 40.821986118163494]}}, {'type': 'Feature', 'id': 'nyu_2451_34572.41', 'geometry': {'type': 'Point', 'coordinates': [-73.84802729582735, 40.819014376988314]}, 'geometry_name': 'geom', 'properties': {'name': 'Castle Hill', 'stacked': 2, 'annoline1': 'Castle', 'annoline2': 'Hill', 'annoline3': None, 'annoangle': 0.0, 'borough': 'Bronx', 'bbox': [-73.84802729582735, 40.819014376988314, -73.84802729582735, 40.819014376988314]}}, {'type': 'Feature', 'id': 'nyu_2451_34572.42', 'geometry': {'type': 'Point', 'coordinates': [-73.86332361652777, 40.87137078192371]}, 'geometry_name': 'geom', 'properties': {'name': 'Olinville', 'stacked': 1, 'annoline1': 'Olinville', 'annoline2': None, 'annoline3': None, 'annoangle': 0.0, 'borough': 'Bronx', 'bbox': [-73.86332361652777, 40.87137078192371, -73.86332361652777, 40.87137078192371]}}, {'type': 'Feature', 'id': 'nyu_2451_34572.43', 'geometry': {'type': 'Point', 'coordinates': [-73.84161194831223, 40.86296562477998]}, 'geometry_name': 'geom', 'properties': {'name': 'Pelham Gardens', 'stacked': 2, 'annoline1': 'Pelham', 'annoline2': 'Gardens', 'annoline3': None, 'annoangle': 0.0, 'borough': 'Bronx', 'bbox': [-73.84161194831223, 40.86296562477998, -73.84161194831223, 40.86296562477998]}}, {'type': 'Feature', 'id': 'nyu_2451_34572.44', 'geometry': {'type': 'Point', 'coordinates': [-73.91558941773444, 40.83428380733851]}, 'geometry_name': 'geom', 'properties': {'name': 'Concourse', 'stacked': 1, 'annoline1': 'Concourse', 'annoline2': None, 'annoline3': None, 'annoangle': 0.0, 'borough': 'Bronx', 'bbox': [-73.91558941773444, 40.83428380733851, -73.91558941773444, 40.83428380733851]}}, {'type': 'Feature', 'id': 'nyu_2451_34572.45', 'geometry': {'type': 'Point', 'coordinates': [-73.85053524451935, 40.82977429787161]}, 'geometry_name': 'geom', 'properties': {'name': 'Unionport', 'stacked': 1, 'annoline1': 'Unionport', 'annoline2': None, 'annoline3': None, 'annoangle': 0.0, 'borough': 'Bronx', 'bbox': [-73.85053524451935, 40.82977429787161, -73.85053524451935, 40.82977429787161]}}, {'type': 'Feature', 'id': 'nyu_2451_34572.46', 'geometry': {'type': 'Point', 'coordinates': [-73.84808271877168, 40.88456130303732]}, 'geometry_name': 'geom', 'properties': {'name': 'Edenwald', 'stacked': 1, 'annoline1': 'Edenwald', 'annoline2': None, 'annoline3': None, 'annoangle': 0.0, 'borough': 'Bronx', 'bbox': [-73.84808271877168, 40.88456130303732, -73.84808271877168, 40.88456130303732]}}, {'type': 'Feature', 'id': 'nyu_2451_34572.47', 'geometry': {'type': 'Point', 'coordinates': [-74.03062069353813, 40.625801065010656]}, 'geometry_name': 'geom', 'properties': {'name': 'Bay Ridge', 'stacked': 1, 'annoline1': 'Bay Ridge', 'annoline2': None, 'annoline3': None, 'annoangle': 0.0, 'borough': 'Brooklyn', 'bbox': [-74.03062069353813, 40.625801065010656, -74.03062069353813, 40.625801065010656]}}, {'type': 'Feature', 'id': 'nyu_2451_34572.48', 'geometry': {'type': 'Point', 'coordinates': [-73.99517998380729, 40.61100890202044]}, 'geometry_name': 'geom', 'properties': {'name': 'Bensonhurst', 'stacked': 1, 'annoline1': 'Bensonhurst', 'annoline2': None, 'annoline3': None, 'annoangle': 0.0, 'borough': 'Brooklyn', 'bbox': [-73.99517998380729, 40.61100890202044, -73.99517998380729, 40.61100890202044]}}, {'type': 'Feature', 'id': 'nyu_2451_34572.49', 'geometry': {'type': 'Point', 'coordinates': [-74.01031618527784, 40.64510294925429]}, 'geometry_name': 'geom', 'properties': {'name': 'Sunset Park', 'stacked': 2, 'annoline1': 'Sunset', 'annoline2': 'Park', 'annoline3': None, 'annoangle': 0.0, 'borough': 'Brooklyn', 'bbox': [-74.01031618527784, 40.64510294925429, -74.01031618527784, 40.64510294925429]}}, {'type': 'Feature', 'id': 'nyu_2451_34572.50', 'geometry': {'type': 'Point', 'coordinates': [-73.95424093127393, 40.7302009848647]}, 'geometry_name': 'geom', 'properties': {'name': 'Greenpoint', 'stacked': 1, 'annoline1': 'Greenpoint', 'annoline2': None, 'annoline3': None, 'annoangle': 0.0, 'borough': 'Brooklyn', 'bbox': [-73.95424093127393, 40.7302009848647, -73.95424093127393, 40.7302009848647]}}, {'type': 'Feature', 'id': 'nyu_2451_34572.51', 'geometry': {'type': 'Point', 'coordinates': [-73.97347087708445, 40.59526001306593]}, 'geometry_name': 'geom', 'properties': {'name': 'Gravesend', 'stacked': 1, 'annoline1': 'Gravesend', 'annoline2': None, 'annoline3': None, 'annoangle': 0.0, 'borough': 'Brooklyn', 'bbox': [-73.97347087708445, 40.59526001306593, -73.97347087708445, 40.59526001306593]}}, {'type': 'Feature', 'id': 'nyu_2451_34572.52', 'geometry': {'type': 'Point', 'coordinates': [-73.96509448785336, 40.57682506566604]}, 'geometry_name': 'geom', 'properties': {'name': 'Brighton Beach', 'stacked': 2, 'annoline1': 'Brighton', 'annoline2': 'Beach', 'annoline3': None, 'annoangle': 0.0, 'borough': 'Brooklyn', 'bbox': [-73.96509448785336, 40.57682506566604, -73.96509448785336, 40.57682506566604]}}, {'type': 'Feature', 'id': 'nyu_2451_34572.53', 'geometry': {'type': 'Point', 'coordinates': [-73.94318640482979, 40.58689012678384]}, 'geometry_name': 'geom', 'properties': {'name': 'Sheepshead Bay', 'stacked': 2, 'annoline1': 'Sheepshead', 'annoline2': 'Bay', 'annoline3': None, 'annoangle': 0.0, 'borough': 'Brooklyn', 'bbox': [-73.94318640482979, 40.58689012678384, -73.94318640482979, 40.58689012678384]}}, {'type': 'Feature', 'id': 'nyu_2451_34572.54', 'geometry': {'type': 'Point', 'coordinates': [-73.95743840559939, 40.61443251335098]}, 'geometry_name': 'geom', 'properties': {'name': 'Manhattan Terrace', 'stacked': 2, 'annoline1': 'Manhattan', 'annoline2': 'Terrace', 'annoline3': None, 'annoangle': 0.0, 'borough': 'Brooklyn', 'bbox': [-73.95743840559939, 40.61443251335098, -73.95743840559939, 40.61443251335098]}}, {'type': 'Feature', 'id': 'nyu_2451_34572.55', 'geometry': {'type': 'Point', 'coordinates': [-73.95840106533903, 40.63632589026677]}, 'geometry_name': 'geom', 'properties': {'name': 'Flatbush', 'stacked': 1, 'annoline1': 'Flatbush', 'annoline2': None, 'annoline3': None, 'annoangle': 0.0, 'borough': 'Brooklyn', 'bbox': [-73.95840106533903, 40.63632589026677, -73.95840106533903, 40.63632589026677]}}, {'type': 'Feature', 'id': 'nyu_2451_34572.56', 'geometry': {'type': 'Point', 'coordinates': [-73.94329119073582, 40.67082917695294]}, 'geometry_name': 'geom', 'properties': {'name': 'Crown Heights', 'stacked': 2, 'annoline1': 'Crown', 'annoline2': 'Heights', 'annoline3': None, 'annoangle': 0.0, 'borough': 'Brooklyn', 'bbox': [-73.94329119073582, 40.67082917695294, -73.94329119073582, 40.67082917695294]}}, {'type': 'Feature', 'id': 'nyu_2451_34572.57', 'geometry': {'type': 'Point', 'coordinates': [-73.93610256185836, 40.64171776668961]}, 'geometry_name': 'geom', 'properties': {'name': 'East Flatbush', 'stacked': 1, 'annoline1': 'East Flatbush', 'annoline2': None, 'annoline3': None, 'annoangle': 0.0, 'borough': 'Brooklyn', 'bbox': [-73.93610256185836, 40.64171776668961, -73.93610256185836, 40.64171776668961]}}, {'type': 'Feature', 'id': 'nyu_2451_34572.58', 'geometry': {'type': 'Point', 'coordinates': [-73.98042110559474, 40.642381958003526]}, 'geometry_name': 'geom', 'properties': {'name': 'Kensington', 'stacked': 1, 'annoline1': 'Kensington', 'annoline2': None, 'annoline3': None, 'annoangle': 0.0, 'borough': 'Brooklyn', 'bbox': [-73.98042110559474, 40.642381958003526, -73.98042110559474, 40.642381958003526]}}, {'type': 'Feature', 'id': 'nyu_2451_34572.59', 'geometry': {'type': 'Point', 'coordinates': [-73.98007340430172, 40.65694583575104]}, 'geometry_name': 'geom', 'properties': {'name': 'Windsor Terrace', 'stacked': 2, 'annoline1': 'Windsor', 'annoline2': 'Terrace', 'annoline3': None, 'annoangle': 0.0, 'borough': 'Brooklyn', 'bbox': [-73.98007340430172, 40.65694583575104, -73.98007340430172, 40.65694583575104]}}, {'type': 'Feature', 'id': 'nyu_2451_34572.60', 'geometry': {'type': 'Point', 'coordinates': [-73.9648592426269, 40.676822262254724]}, 'geometry_name': 'geom', 'properties': {'name': 'Prospect Heights', 'stacked': 2, 'annoline1': 'Prospect', 'annoline2': 'Heights', 'annoline3': None, 'annoangle': 0.0, 'borough': 'Brooklyn', 'bbox': [-73.9648592426269, 40.676822262254724, -73.9648592426269, 40.676822262254724]}}, {'type': 'Feature', 'id': 'nyu_2451_34572.61', 'geometry': {'type': 'Point', 'coordinates': [-73.91023536176607, 40.66394994339755]}, 'geometry_name': 'geom', 'properties': {'name': 'Brownsville', 'stacked': 1, 'annoline1': 'Brownsville', 'annoline2': None, 'annoline3': None, 'annoangle': 0.0, 'borough': 'Brooklyn', 'bbox': [-73.91023536176607, 40.66394994339755, -73.91023536176607, 40.66394994339755]}}, {'type': 'Feature', 'id': 'nyu_2451_34572.62', 'geometry': {'type': 'Point', 'coordinates': [-73.95811529220927, 40.70714439344251]}, 'geometry_name': 'geom', 'properties': {'name': 'Williamsburg', 'stacked': 1, 'annoline1': 'Williamsburg', 'annoline2': None, 'annoline3': None, 'annoangle': 0.0, 'borough': 'Brooklyn', 'bbox': [-73.95811529220927, 40.70714439344251, -73.95811529220927, 40.70714439344251]}}, {'type': 'Feature', 'id': 'nyu_2451_34572.63', 'geometry': {'type': 'Point', 'coordinates': [-73.92525797487045, 40.69811611017901]}, 'geometry_name': 'geom', 'properties': {'name': 'Bushwick', 'stacked': 1, 'annoline1': 'Bushwick', 'annoline2': None, 'annoline3': None, 'annoangle': 0.0, 'borough': 'Brooklyn', 'bbox': [-73.92525797487045, 40.69811611017901, -73.92525797487045, 40.69811611017901]}}, {'type': 'Feature', 'id': 'nyu_2451_34572.64', 'geometry': {'type': 'Point', 'coordinates': [-73.94178488690297, 40.687231607720456]}, 'geometry_name': 'geom', 'properties': {'name': 'Bedford Stuyvesant', 'stacked': 1, 'annoline1': 'Bedford Stuyvesant', 'annoline2': None, 'annoline3': None, 'annoangle': 0.0, 'borough': 'Brooklyn', 'bbox': [-73.94178488690297, 40.687231607720456, -73.94178488690297, 40.687231607720456]}}, {'type': 'Feature', 'id': 'nyu_2451_34572.65', 'geometry': {'type': 'Point', 'coordinates': [-73.99378225496424, 40.695863722724084]}, 'geometry_name': 'geom', 'properties': {'name': 'Brooklyn Heights', 'stacked': 2, 'annoline1': 'Brooklyn', 'annoline2': 'Heights', 'annoline3': None, 'annoangle': 0.0, 'borough': 'Brooklyn', 'bbox': [-73.99378225496424, 40.695863722724084, -73.99378225496424, 40.695863722724084]}}, {'type': 'Feature', 'id': 'nyu_2451_34572.66', 'geometry': {'type': 'Point', 'coordinates': [-73.99856139218463, 40.687919722485574]}, 'geometry_name': 'geom', 'properties': {'name': 'Cobble Hill', 'stacked': 2, 'annoline1': 'Cobble', 'annoline2': 'Hill', 'annoline3': None, 'annoangle': 0.0, 'borough': 'Brooklyn', 'bbox': [-73.99856139218463, 40.687919722485574, -73.99856139218463, 40.687919722485574]}}, {'type': 'Feature', 'id': 'nyu_2451_34572.67', 'geometry': {'type': 'Point', 'coordinates': [-73.99465372828006, 40.680540231076485]}, 'geometry_name': 'geom', 'properties': {'name': 'Carroll Gardens', 'stacked': 2, 'annoline1': 'Carroll', 'annoline2': 'Gardens', 'annoline3': None, 'annoangle': 0.0, 'borough': 'Brooklyn', 'bbox': [-73.99465372828006, 40.680540231076485, -73.99465372828006, 40.680540231076485]}}, {'type': 'Feature', 'id': 'nyu_2451_34572.68', 'geometry': {'type': 'Point', 'coordinates': [-74.0127589747356, 40.676253230250886]}, 'geometry_name': 'geom', 'properties': {'name': 'Red Hook', 'stacked': 2, 'annoline1': 'Red', 'annoline2': 'Hook', 'annoline3': None, 'annoangle': 0.0, 'borough': 'Brooklyn', 'bbox': [-74.0127589747356, 40.676253230250886, -74.0127589747356, 40.676253230250886]}}, {'type': 'Feature', 'id': 'nyu_2451_34572.69', 'geometry': {'type': 'Point', 'coordinates': [-73.99444087145339, 40.673931143187154]}, 'geometry_name': 'geom', 'properties': {'name': 'Gowanus', 'stacked': 1, 'annoline1': 'Gowanus', 'annoline2': None, 'annoline3': None, 'annoangle': 0.0, 'borough': 'Brooklyn', 'bbox': [-73.99444087145339, 40.673931143187154, -73.99444087145339, 40.673931143187154]}}, {'type': 'Feature', 'id': 'nyu_2451_34572.70', 'geometry': {'type': 'Point', 'coordinates': [-73.97290574369092, 40.68852726018977]}, 'geometry_name': 'geom', 'properties': {'name': 'Fort Greene', 'stacked': 2, 'annoline1': 'Fort', 'annoline2': 'Greene', 'annoline3': None, 'annoangle': 0.0, 'borough': 'Brooklyn', 'bbox': [-73.97290574369092, 40.68852726018977, -73.97290574369092, 40.68852726018977]}}, {'type': 'Feature', 'id': 'nyu_2451_34572.71', 'geometry': {'type': 'Point', 'coordinates': [-73.97705030183924, 40.67232052268197]}, 'geometry_name': 'geom', 'properties': {'name': 'Park Slope', 'stacked': 2, 'annoline1': 'Park', 'annoline2': 'Slope', 'annoline3': None, 'annoangle': 0.0, 'borough': 'Brooklyn', 'bbox': [-73.97705030183924, 40.67232052268197, -73.97705030183924, 40.67232052268197]}}, {'type': 'Feature', 'id': 'nyu_2451_34572.72', 'geometry': {'type': 'Point', 'coordinates': [-73.87661596457296, 40.68239101144211]}, 'geometry_name': 'geom', 'properties': {'name': 'Cypress Hills', 'stacked': 2, 'annoline1': 'Cypress', 'annoline2': 'Hills', 'annoline3': None, 'annoangle': 0.0, 'borough': 'Brooklyn', 'bbox': [-73.87661596457296, 40.68239101144211, -73.87661596457296, 40.68239101144211]}}, {'type': 'Feature', 'id': 'nyu_2451_34572.73', 'geometry': {'type': 'Point', 'coordinates': [-73.88069863917366, 40.669925700847045]}, 'geometry_name': 'geom', 'properties': {'name': 'East New York', 'stacked': 1, 'annoline1': 'East New York', 'annoline2': None, 'annoline3': None, 'annoangle': 0.0, 'borough': 'Brooklyn', 'bbox': [-73.88069863917366, 40.669925700847045, -73.88069863917366, 40.669925700847045]}}, {'type': 'Feature', 'id': 'nyu_2451_34572.74', 'geometry': {'type': 'Point', 'coordinates': [-73.87936970045875, 40.64758905230874]}, 'geometry_name': 'geom', 'properties': {'name': 'Starrett City', 'stacked': 2, 'annoline1': 'Starrett', 'annoline2': 'City', 'annoline3': None, 'annoangle': 0.0, 'borough': 'Brooklyn', 'bbox': [-73.87936970045875, 40.64758905230874, -73.87936970045875, 40.64758905230874]}}, {'type': 'Feature', 'id': 'nyu_2451_34572.75', 'geometry': {'type': 'Point', 'coordinates': [-73.90209269778966, 40.63556432797428]}, 'geometry_name': 'geom', 'properties': {'name': 'Canarsie', 'stacked': 1, 'annoline1': 'Canarsie', 'annoline2': None, 'annoline3': None, 'annoangle': 0.0, 'borough': 'Brooklyn', 'bbox': [-73.90209269778966, 40.63556432797428, -73.90209269778966, 40.63556432797428]}}, {'type': 'Feature', 'id': 'nyu_2451_34572.76', 'geometry': {'type': 'Point', 'coordinates': [-73.92911302644674, 40.630446043757466]}, 'geometry_name': 'geom', 'properties': {'name': 'Flatlands', 'stacked': 1, 'annoline1': 'Flatlands', 'annoline2': None, 'annoline3': None, 'annoangle': 0.0, 'borough': 'Brooklyn', 'bbox': [-73.92911302644674, 40.630446043757466, -73.92911302644674, 40.630446043757466]}}, {'type': 'Feature', 'id': 'nyu_2451_34572.77', 'geometry': {'type': 'Point', 'coordinates': [-73.90818571777423, 40.606336421685626]}, 'geometry_name': 'geom', 'properties': {'name': 'Mill Island', 'stacked': 2, 'annoline1': 'Mill', 'annoline2': 'Island', 'annoline3': None, 'annoangle': 0.0, 'borough': 'Brooklyn', 'bbox': [-73.90818571777423, 40.606336421685626, -73.90818571777423, 40.606336421685626]}}, {'type': 'Feature', 'id': 'nyu_2451_34572.78', 'geometry': {'type': 'Point', 'coordinates': [-73.94353722891886, 40.57791350308657]}, 'geometry_name': 'geom', 'properties': {'name': 'Manhattan Beach', 'stacked': 2, 'annoline1': 'Manhattan', 'annoline2': 'Beach', 'annoline3': None, 'annoangle': 0.0, 'borough': 'Brooklyn', 'bbox': [-73.94353722891886, 40.57791350308657, -73.94353722891886, 40.57791350308657]}}, {'type': 'Feature', 'id': 'nyu_2451_34572.79', 'geometry': {'type': 'Point', 'coordinates': [-73.98868295821637, 40.57429256471601]}, 'geometry_name': 'geom', 'properties': {'name': 'Coney Island', 'stacked': 1, 'annoline1': 'Coney Island', 'annoline2': None, 'annoline3': None, 'annoangle': 0.0, 'borough': 'Brooklyn', 'bbox': [-73.98868295821637, 40.57429256471601, -73.98868295821637, 40.57429256471601]}}, {'type': 'Feature', 'id': 'nyu_2451_34572.80', 'geometry': {'type': 'Point', 'coordinates': [-73.99875221443519, 40.59951870282238]}, 'geometry_name': 'geom', 'properties': {'name': 'Bath Beach', 'stacked': 2, 'annoline1': 'Bath', 'annoline2': 'Beach', 'annoline3': None, 'annoangle': 0.0, 'borough': 'Brooklyn', 'bbox': [-73.99875221443519, 40.59951870282238, -73.99875221443519, 40.59951870282238]}}, {'type': 'Feature', 'id': 'nyu_2451_34572.81', 'geometry': {'type': 'Point', 'coordinates': [-73.99049823044811, 40.633130512758015]}, 'geometry_name': 'geom', 'properties': {'name': 'Borough Park', 'stacked': 2, 'annoline1': 'Borough', 'annoline2': 'Park', 'annoline3': None, 'annoangle': 0.0, 'borough': 'Brooklyn', 'bbox': [-73.99049823044811, 40.633130512758015, -73.99049823044811, 40.633130512758015]}}, {'type': 'Feature', 'id': 'nyu_2451_34572.82', 'geometry': {'type': 'Point', 'coordinates': [-74.01931375636022, 40.619219457722636]}, 'geometry_name': 'geom', 'properties': {'name': 'Dyker Heights', 'stacked': 2, 'annoline1': 'Dyker', 'annoline2': 'Heights', 'annoline3': None, 'annoangle': 0.0, 'borough': 'Brooklyn', 'bbox': [-74.01931375636022, 40.619219457722636, -74.01931375636022, 40.619219457722636]}}, {'type': 'Feature', 'id': 'nyu_2451_34572.83', 'geometry': {'type': 'Point', 'coordinates': [-73.93010170691196, 40.590848433902046]}, 'geometry_name': 'geom', 'properties': {'name': 'Gerritsen Beach', 'stacked': 2, 'annoline1': 'Gerritsen', 'annoline2': 'Beach', 'annoline3': None, 'annoangle': 0.0, 'borough': 'Brooklyn', 'bbox': [-73.93010170691196, 40.590848433902046, -73.93010170691196, 40.590848433902046]}}, {'type': 'Feature', 'id': 'nyu_2451_34572.84', 'geometry': {'type': 'Point', 'coordinates': [-73.93134404108497, 40.609747779894604]}, 'geometry_name': 'geom', 'properties': {'name': 'Marine Park', 'stacked': 1, 'annoline1': 'Marine Park', 'annoline2': None, 'annoline3': None, 'annoangle': 0.0, 'borough': 'Brooklyn', 'bbox': [-73.93134404108497, 40.609747779894604, -73.93134404108497, 40.609747779894604]}}, {'type': 'Feature', 'id': 'nyu_2451_34572.85', 'geometry': {'type': 'Point', 'coordinates': [-73.96784306216367, 40.693229421881504]}, 'geometry_name': 'geom', 'properties': {'name': 'Clinton Hill', 'stacked': 2, 'annoline1': 'Clinton', 'annoline2': 'Hill', 'annoline3': None, 'annoangle': 0.0, 'borough': 'Brooklyn', 'bbox': [-73.96784306216367, 40.693229421881504, -73.96784306216367, 40.693229421881504]}}, {'type': 'Feature', 'id': 'nyu_2451_34572.86', 'geometry': {'type': 'Point', 'coordinates': [-74.0078731120024, 40.57637537890224]}, 'geometry_name': 'geom', 'properties': {'name': 'Sea Gate', 'stacked': 2, 'annoline1': 'Sea', 'annoline2': 'Gate', 'annoline3': None, 'annoangle': 0.0, 'borough': 'Brooklyn', 'bbox': [-74.0078731120024, 40.57637537890224, -74.0078731120024, 40.57637537890224]}}, {'type': 'Feature', 'id': 'nyu_2451_34572.87', 'geometry': {'type': 'Point', 'coordinates': [-73.98346337431099, 40.69084402109802]}, 'geometry_name': 'geom', 'properties': {'name': 'Downtown', 'stacked': 1, 'annoline1': 'Downtown', 'annoline2': None, 'annoline3': None, 'annoangle': 0.0, 'borough': 'Brooklyn', 'bbox': [-73.98346337431099, 40.69084402109802, -73.98346337431099, 40.69084402109802]}}, {'type': 'Feature', 'id': 'nyu_2451_34572.88', 'geometry': {'type': 'Point', 'coordinates': [-73.98374824115798, 40.685682912091444]}, 'geometry_name': 'geom', 'properties': {'name': 'Boerum Hill', 'stacked': 2, 'annoline1': 'Boerum', 'annoline2': 'Hill', 'annoline3': None, 'annoangle': 0.0, 'borough': 'Brooklyn', 'bbox': [-73.98374824115798, 40.685682912091444, -73.98374824115798, 40.685682912091444]}}, {'type': 'Feature', 'id': 'nyu_2451_34572.89', 'geometry': {'type': 'Point', 'coordinates': [-73.95489867077713, 40.658420017469815]}, 'geometry_name': 'geom', 'properties': {'name': 'Prospect Lefferts Gardens', 'stacked': 3, 'annoline1': 'Prospect', 'annoline2': 'Lefferts', 'annoline3': 'Gardens', 'annoangle': 0.0, 'borough': 'Brooklyn', 'bbox': [-73.95489867077713, 40.658420017469815, -73.95489867077713, 40.658420017469815]}}, {'type': 'Feature', 'id': 'nyu_2451_34572.90', 'geometry': {'type': 'Point', 'coordinates': [-73.91306831787395, 40.678402554795355]}, 'geometry_name': 'geom', 'properties': {'name': 'Ocean Hill', 'stacked': 2, 'annoline1': 'Ocean', 'annoline2': 'Hill', 'annoline3': None, 'annoangle': 0.0, 'borough': 'Brooklyn', 'bbox': [-73.91306831787395, 40.678402554795355, -73.91306831787395, 40.678402554795355]}}, {'type': 'Feature', 'id': 'nyu_2451_34572.91', 'geometry': {'type': 'Point', 'coordinates': [-73.86797598081334, 40.67856995727479]}, 'geometry_name': 'geom', 'properties': {'name': 'City Line', 'stacked': 2, 'annoline1': 'City', 'annoline2': 'Line', 'annoline3': None, 'annoangle': 0.0, 'borough': 'Brooklyn', 'bbox': [-73.86797598081334, 40.67856995727479, -73.86797598081334, 40.67856995727479]}}, {'type': 'Feature', 'id': 'nyu_2451_34572.92', 'geometry': {'type': 'Point', 'coordinates': [-73.89855633630317, 40.61514955045308]}, 'geometry_name': 'geom', 'properties': {'name': 'Bergen Beach', 'stacked': 2, 'annoline1': 'Bergen', 'annoline2': 'Beach', 'annoline3': None, 'annoangle': 0.0, 'borough': 'Brooklyn', 'bbox': [-73.89855633630317, 40.61514955045308, -73.89855633630317, 40.61514955045308]}}, {'type': 'Feature', 'id': 'nyu_2451_34572.93', 'geometry': {'type': 'Point', 'coordinates': [-73.95759523489838, 40.62559589869843]}, 'geometry_name': 'geom', 'properties': {'name': 'Midwood', 'stacked': 1, 'annoline1': 'Midwood', 'annoline2': None, 'annoline3': None, 'annoangle': 0.0, 'borough': 'Brooklyn', 'bbox': [-73.95759523489838, 40.62559589869843, -73.95759523489838, 40.62559589869843]}}, {'type': 'Feature', 'id': 'nyu_2451_34572.94', 'geometry': {'type': 'Point', 'coordinates': [-73.96261316716048, 40.647008603185185]}, 'geometry_name': 'geom', 'properties': {'name': 'Prospect Park South', 'stacked': 2, 'annoline1': 'Prospect', 'annoline2': 'Park South', 'annoline3': None, 'annoangle': 0.0, 'borough': 'Brooklyn', 'bbox': [-73.96261316716048, 40.647008603185185, -73.96261316716048, 40.647008603185185]}}, {'type': 'Feature', 'id': 'nyu_2451_34572.95', 'geometry': {'type': 'Point', 'coordinates': [-73.91607483951324, 40.62384524478419]}, 'geometry_name': 'geom', 'properties': {'name': 'Georgetown', 'stacked': 1, 'annoline1': 'Georgetown', 'annoline2': None, 'annoline3': None, 'annoangle': 0.0, 'borough': 'Brooklyn', 'bbox': [-73.91607483951324, 40.62384524478419, -73.91607483951324, 40.62384524478419]}}, {'type': 'Feature', 'id': 'nyu_2451_34572.96', 'geometry': {'type': 'Point', 'coordinates': [-73.93885815269195, 40.70849241041548]}, 'geometry_name': 'geom', 'properties': {'name': 'East Williamsburg', 'stacked': 2, 'annoline1': 'East', 'annoline2': 'Williamsburg', 'annoline3': None, 'annoangle': 0.0, 'borough': 'Brooklyn', 'bbox': [-73.93885815269195, 40.70849241041548, -73.93885815269195, 40.70849241041548]}}, {'type': 'Feature', 'id': 'nyu_2451_34572.97', 'geometry': {'type': 'Point', 'coordinates': [-73.95880857587582, 40.714822906532014]}, 'geometry_name': 'geom', 'properties': {'name': 'North Side', 'stacked': 1, 'annoline1': 'North Side', 'annoline2': None, 'annoline3': None, 'annoangle': 0.0, 'borough': 'Brooklyn', 'bbox': [-73.95880857587582, 40.714822906532014, -73.95880857587582, 40.714822906532014]}}, {'type': 'Feature', 'id': 'nyu_2451_34572.98', 'geometry': {'type': 'Point', 'coordinates': [-73.95800095153331, 40.71086147265064]}, 'geometry_name': 'geom', 'properties': {'name': 'South Side', 'stacked': 1, 'annoline1': 'South Side', 'annoline2': None, 'annoline3': None, 'annoangle': 0.0, 'borough': 'Brooklyn', 'bbox': [-73.95800095153331, 40.71086147265064, -73.95800095153331, 40.71086147265064]}}, {'type': 'Feature', 'id': 'nyu_2451_34572.99', 'geometry': {'type': 'Point', 'coordinates': [-73.96836678035541, 40.61305976667942]}, 'geometry_name': 'geom', 'properties': {'name': 'Ocean Parkway', 'stacked': 2, 'annoline1': 'Ocean', 'annoline2': 'Parkway', 'annoline3': None, 'annoangle': 0.0, 'borough': 'Brooklyn', 'bbox': [-73.96836678035541, 40.61305976667942, -73.96836678035541, 40.61305976667942]}}, {'type': 'Feature', 'id': 'nyu_2451_34572.100', 'geometry': {'type': 'Point', 'coordinates': [-74.03197914537984, 40.61476812694226]}, 'geometry_name': 'geom', 'properties': {'name': 'Fort Hamilton', 'stacked': 2, 'annoline1': 'Fort', 'annoline2': 'Hamilton', 'annoline3': None, 'annoangle': 0.0, 'borough': 'Brooklyn', 'bbox': [-74.03197914537984, 40.61476812694226, -74.03197914537984, 40.61476812694226]}}, {'type': 'Feature', 'id': 'nyu_2451_34572.101', 'geometry': {'type': 'Point', 'coordinates': [-73.99427936255978, 40.71561842231432]}, 'geometry_name': 'geom', 'properties': {'name': 'Chinatown', 'stacked': 1, 'annoline1': 'Chinatown', 'annoline2': None, 'annoline3': None, 'annoangle': 0.0, 'borough': 'Manhattan', 'bbox': [-73.99427936255978, 40.71561842231432, -73.99427936255978, 40.71561842231432]}}, {'type': 'Feature', 'id': 'nyu_2451_34572.102', 'geometry': {'type': 'Point', 'coordinates': [-73.93690027985234, 40.85190252555305]}, 'geometry_name': 'geom', 'properties': {'name': 'Washington Heights', 'stacked': 2, 'annoline1': 'Washington', 'annoline2': 'Heights', 'annoline3': None, 'annoangle': 0.0, 'borough': 'Manhattan', 'bbox': [-73.93690027985234, 40.85190252555305, -73.93690027985234, 40.85190252555305]}}, {'type': 'Feature', 'id': 'nyu_2451_34572.103', 'geometry': {'type': 'Point', 'coordinates': [-73.92121042203897, 40.86768396449915]}, 'geometry_name': 'geom', 'properties': {'name': 'Inwood', 'stacked': 1, 'annoline1': 'Inwood', 'annoline2': None, 'annoline3': None, 'annoangle': 0.0, 'borough': 'Manhattan', 'bbox': [-73.92121042203897, 40.86768396449915, -73.92121042203897, 40.86768396449915]}}, {'type': 'Feature', 'id': 'nyu_2451_34572.104', 'geometry': {'type': 'Point', 'coordinates': [-73.94968791883366, 40.823604284811935]}, 'geometry_name': 'geom', 'properties': {'name': 'Hamilton Heights', 'stacked': 2, 'annoline1': 'Hamilton', 'annoline2': 'Heights', 'annoline3': None, 'annoangle': 0.0, 'borough': 'Manhattan', 'bbox': [-73.94968791883366, 40.823604284811935, -73.94968791883366, 40.823604284811935]}}, {'type': 'Feature', 'id': 'nyu_2451_34572.105', 'geometry': {'type': 'Point', 'coordinates': [-73.9573853935188, 40.8169344294978]}, 'geometry_name': 'geom', 'properties': {'name': 'Manhattanville', 'stacked': 2, 'annoline1': 'Manhattanville', 'annoline2': None, 'annoline3': None, 'annoangle': 0.0, 'borough': 'Manhattan', 'bbox': [-73.9573853935188, 40.8169344294978, -73.9573853935188, 40.8169344294978]}}, {'type': 'Feature', 'id': 'nyu_2451_34572.106', 'geometry': {'type': 'Point', 'coordinates': [-73.94321112603905, 40.81597606742414]}, 'geometry_name': 'geom', 'properties': {'name': 'Central Harlem', 'stacked': 2, 'annoline1': 'Central', 'annoline2': 'Harlem', 'annoline3': None, 'annoangle': 0.0, 'borough': 'Manhattan', 'bbox': [-73.94321112603905, 40.81597606742414, -73.94321112603905, 40.81597606742414]}}, {'type': 'Feature', 'id': 'nyu_2451_34572.107', 'geometry': {'type': 'Point', 'coordinates': [-73.94418223148524, 40.79224946663033]}, 'geometry_name': 'geom', 'properties': {'name': 'East Harlem', 'stacked': 2, 'annoline1': 'East', 'annoline2': 'Harlem', 'annoline3': None, 'annoangle': 0.0, 'borough': 'Manhattan', 'bbox': [-73.94418223148524, 40.79224946663033, -73.94418223148524, 40.79224946663033]}}, {'type': 'Feature', 'id': 'nyu_2451_34572.108', 'geometry': {'type': 'Point', 'coordinates': [-73.96050763135, 40.775638573301805]}, 'geometry_name': 'geom', 'properties': {'name': 'Upper East Side', 'stacked': 3, 'annoline1': 'Upper', 'annoline2': 'East', 'annoline3': 'Side', 'annoangle': 0.0, 'borough': 'Manhattan', 'bbox': [-73.96050763135, 40.775638573301805, -73.96050763135, 40.775638573301805]}}, {'type': 'Feature', 'id': 'nyu_2451_34572.109', 'geometry': {'type': 'Point', 'coordinates': [-73.94711784471826, 40.775929849884875]}, 'geometry_name': 'geom', 'properties': {'name': 'Yorkville', 'stacked': 1, 'annoline1': 'Yorkville', 'annoline2': None, 'annoline3': None, 'annoangle': 0.0, 'borough': 'Manhattan', 'bbox': [-73.94711784471826, 40.775929849884875, -73.94711784471826, 40.775929849884875]}}, {'type': 'Feature', 'id': 'nyu_2451_34572.110', 'geometry': {'type': 'Point', 'coordinates': [-73.9588596881376, 40.76811265828733]}, 'geometry_name': 'geom', 'properties': {'name': 'Lenox Hill', 'stacked': 2, 'annoline1': 'Lenox', 'annoline2': 'Hill', 'annoline3': None, 'annoangle': 0.0, 'borough': 'Manhattan', 'bbox': [-73.9588596881376, 40.76811265828733, -73.9588596881376, 40.76811265828733]}}, {'type': 'Feature', 'id': 'nyu_2451_34572.111', 'geometry': {'type': 'Point', 'coordinates': [-73.94916769227953, 40.76215960576283]}, 'geometry_name': 'geom', 'properties': {'name': 'Roosevelt Island', 'stacked': 1, 'annoline1': 'Roosevelt Island', 'annoline2': None, 'annoline3': None, 'annoangle': 56, 'borough': 'Manhattan', 'bbox': [-73.94916769227953, 40.76215960576283, -73.94916769227953, 40.76215960576283]}}, {'type': 'Feature', 'id': 'nyu_2451_34572.112', 'geometry': {'type': 'Point', 'coordinates': [-73.97705923630603, 40.787657998534854]}, 'geometry_name': 'geom', 'properties': {'name': 'Upper West Side', 'stacked': 3, 'annoline1': 'Upper', 'annoline2': 'West', 'annoline3': 'Side', 'annoangle': 0.0, 'borough': 'Manhattan', 'bbox': [-73.97705923630603, 40.787657998534854, -73.97705923630603, 40.787657998534854]}}, {'type': 'Feature', 'id': 'nyu_2451_34572.113', 'geometry': {'type': 'Point', 'coordinates': [-73.98533777001262, 40.77352888942166]}, 'geometry_name': 'geom', 'properties': {'name': 'Lincoln Square', 'stacked': 2, 'annoline1': 'Lincoln', 'annoline2': 'Square', 'annoline3': None, 'annoangle': 0.0, 'borough': 'Manhattan', 'bbox': [-73.98533777001262, 40.77352888942166, -73.98533777001262, 40.77352888942166]}}, {'type': 'Feature', 'id': 'nyu_2451_34572.114', 'geometry': {'type': 'Point', 'coordinates': [-73.99611936309479, 40.75910089146212]}, 'geometry_name': 'geom', 'properties': {'name': 'Clinton', 'stacked': 1, 'annoline1': 'Clinton', 'annoline2': None, 'annoline3': None, 'annoangle': 0.0, 'borough': 'Manhattan', 'bbox': [-73.99611936309479, 40.75910089146212, -73.99611936309479, 40.75910089146212]}}, {'type': 'Feature', 'id': 'nyu_2451_34572.115', 'geometry': {'type': 'Point', 'coordinates': [-73.98166882730304, 40.75469110270623]}, 'geometry_name': 'geom', 'properties': {'name': 'Midtown', 'stacked': 1, 'annoline1': 'Midtown', 'annoline2': None, 'annoline3': None, 'annoangle': 0.0, 'borough': 'Manhattan', 'bbox': [-73.98166882730304, 40.75469110270623, -73.98166882730304, 40.75469110270623]}}, {'type': 'Feature', 'id': 'nyu_2451_34572.116', 'geometry': {'type': 'Point', 'coordinates': [-73.97833207924127, 40.748303077252174]}, 'geometry_name': 'geom', 'properties': {'name': 'Murray Hill', 'stacked': 2, 'annoline1': 'Murray', 'annoline2': 'Hill', 'annoline3': None, 'annoangle': 0.0, 'borough': 'Manhattan', 'bbox': [-73.97833207924127, 40.748303077252174, -73.97833207924127, 40.748303077252174]}}, {'type': 'Feature', 'id': 'nyu_2451_34572.117', 'geometry': {'type': 'Point', 'coordinates': [-74.00311633472813, 40.744034706747975]}, 'geometry_name': 'geom', 'properties': {'name': 'Chelsea', 'stacked': 1, 'annoline1': 'Chelsea', 'annoline2': None, 'annoline3': None, 'annoangle': 0.0, 'borough': 'Manhattan', 'bbox': [-74.00311633472813, 40.744034706747975, -74.00311633472813, 40.744034706747975]}}, {'type': 'Feature', 'id': 'nyu_2451_34572.118', 'geometry': {'type': 'Point', 'coordinates': [-73.99991402945902, 40.72693288536128]}, 'geometry_name': 'geom', 'properties': {'name': 'Greenwich Village', 'stacked': 2, 'annoline1': 'Greenwich', 'annoline2': 'Village', 'annoline3': None, 'annoangle': 0.0, 'borough': 'Manhattan', 'bbox': [-73.99991402945902, 40.72693288536128, -73.99991402945902, 40.72693288536128]}}, {'type': 'Feature', 'id': 'nyu_2451_34572.119', 'geometry': {'type': 'Point', 'coordinates': [-73.98222616506416, 40.727846777270244]}, 'geometry_name': 'geom', 'properties': {'name': 'East Village', 'stacked': 2, 'annoline1': 'East', 'annoline2': 'Village', 'annoline3': None, 'annoangle': 0.0, 'borough': 'Manhattan', 'bbox': [-73.98222616506416, 40.727846777270244, -73.98222616506416, 40.727846777270244]}}, {'type': 'Feature', 'id': 'nyu_2451_34572.120', 'geometry': {'type': 'Point', 'coordinates': [-73.98089031999291, 40.71780674892765]}, 'geometry_name': 'geom', 'properties': {'name': 'Lower East Side', 'stacked': 3, 'annoline1': 'Lower', 'annoline2': 'East', 'annoline3': 'Side', 'annoangle': 0.0, 'borough': 'Manhattan', 'bbox': [-73.98089031999291, 40.71780674892765, -73.98089031999291, 40.71780674892765]}}, {'type': 'Feature', 'id': 'nyu_2451_34572.121', 'geometry': {'type': 'Point', 'coordinates': [-74.01068328559087, 40.721521967443216]}, 'geometry_name': 'geom', 'properties': {'name': 'Tribeca', 'stacked': 1, 'annoline1': 'Tribeca', 'annoline2': None, 'annoline3': None, 'annoangle': 0.0, 'borough': 'Manhattan', 'bbox': [-74.01068328559087, 40.721521967443216, -74.01068328559087, 40.721521967443216]}}, {'type': 'Feature', 'id': 'nyu_2451_34572.122', 'geometry': {'type': 'Point', 'coordinates': [-73.99730467208073, 40.71932379395907]}, 'geometry_name': 'geom', 'properties': {'name': 'Little Italy', 'stacked': 2, 'annoline1': 'Little', 'annoline2': 'Italy', 'annoline3': None, 'annoangle': 0.0, 'borough': 'Manhattan', 'bbox': [-73.99730467208073, 40.71932379395907, -73.99730467208073, 40.71932379395907]}}, {'type': 'Feature', 'id': 'nyu_2451_34572.123', 'geometry': {'type': 'Point', 'coordinates': [-74.00065666959759, 40.72218384131794]}, 'geometry_name': 'geom', 'properties': {'name': 'Soho', 'stacked': 1, 'annoline1': 'Soho', 'annoline2': None, 'annoline3': None, 'annoangle': 0.0, 'borough': 'Manhattan', 'bbox': [-74.00065666959759, 40.72218384131794, -74.00065666959759, 40.72218384131794]}}, {'type': 'Feature', 'id': 'nyu_2451_34572.124', 'geometry': {'type': 'Point', 'coordinates': [-74.00617998126812, 40.73443393572434]}, 'geometry_name': 'geom', 'properties': {'name': 'West Village', 'stacked': 2, 'annoline1': 'West', 'annoline2': 'Village', 'annoline3': None, 'annoangle': 0.0, 'borough': 'Manhattan', 'bbox': [-74.00617998126812, 40.73443393572434, -74.00617998126812, 40.73443393572434]}}, {'type': 'Feature', 'id': 'nyu_2451_34572.125', 'geometry': {'type': 'Point', 'coordinates': [-73.96428617740655, 40.797307041702865]}, 'geometry_name': 'geom', 'properties': {'name': 'Manhattan Valley', 'stacked': 2, 'annoline1': 'Manhattan', 'annoline2': 'Valley', 'annoline3': None, 'annoangle': 0.0, 'borough': 'Manhattan', 'bbox': [-73.96428617740655, 40.797307041702865, -73.96428617740655, 40.797307041702865]}}, {'type': 'Feature', 'id': 'nyu_2451_34572.126', 'geometry': {'type': 'Point', 'coordinates': [-73.96389627905332, 40.807999738165826]}, 'geometry_name': 'geom', 'properties': {'name': 'Morningside Heights', 'stacked': 2, 'annoline1': 'Morningside', 'annoline2': 'Heights', 'annoline3': None, 'annoangle': 0.0, 'borough': 'Manhattan', 'bbox': [-73.96389627905332, 40.807999738165826, -73.96389627905332, 40.807999738165826]}}, {'type': 'Feature', 'id': 'nyu_2451_34572.127', 'geometry': {'type': 'Point', 'coordinates': [-73.98137594833541, 40.737209832715]}, 'geometry_name': 'geom', 'properties': {'name': 'Gramercy', 'stacked': 1, 'annoline1': 'Gramercy', 'annoline2': None, 'annoline3': None, 'annoangle': 0.0, 'borough': 'Manhattan', 'bbox': [-73.98137594833541, 40.737209832715, -73.98137594833541, 40.737209832715]}}, {'type': 'Feature', 'id': 'nyu_2451_34572.128', 'geometry': {'type': 'Point', 'coordinates': [-74.01686930508617, 40.71193198394565]}, 'geometry_name': 'geom', 'properties': {'name': 'Battery Park City', 'stacked': 3, 'annoline1': 'Battery', 'annoline2': 'Park', 'annoline3': 'City', 'annoangle': 0.0, 'borough': 'Manhattan', 'bbox': [-74.01686930508617, 40.71193198394565, -74.01686930508617, 40.71193198394565]}}, {'type': 'Feature', 'id': 'nyu_2451_34572.129', 'geometry': {'type': 'Point', 'coordinates': [-74.0106654452127, 40.70710710727048]}, 'geometry_name': 'geom', 'properties': {'name': 'Financial District', 'stacked': 2, 'annoline1': 'Financial', 'annoline2': 'District', 'annoline3': None, 'annoangle': 0.0, 'borough': 'Manhattan', 'bbox': [-74.0106654452127, 40.70710710727048, -74.0106654452127, 40.70710710727048]}}, {'type': 'Feature', 'id': 'nyu_2451_34572.130', 'geometry': {'type': 'Point', 'coordinates': [-73.91565374304234, 40.76850859335492]}, 'geometry_name': 'geom', 'properties': {'name': 'Astoria', 'stacked': 1, 'annoline1': 'Astoria', 'annoline2': None, 'annoline3': None, 'annoangle': 0.0, 'borough': 'Queens', 'bbox': [-73.91565374304234, 40.76850859335492, -73.91565374304234, 40.76850859335492]}}, {'type': 'Feature', 'id': 'nyu_2451_34572.131', 'geometry': {'type': 'Point', 'coordinates': [-73.90184166838284, 40.74634908860222]}, 'geometry_name': 'geom', 'properties': {'name': 'Woodside', 'stacked': 1, 'annoline1': 'Woodside', 'annoline2': None, 'annoline3': None, 'annoangle': 0.0, 'borough': 'Queens', 'bbox': [-73.90184166838284, 40.74634908860222, -73.90184166838284, 40.74634908860222]}}, {'type': 'Feature', 'id': 'nyu_2451_34572.132', 'geometry': {'type': 'Point', 'coordinates': [-73.88282109164365, 40.75198138007367]}, 'geometry_name': 'geom', 'properties': {'name': 'Jackson Heights', 'stacked': 2, 'annoline1': 'Jackson', 'annoline2': 'Heights', 'annoline3': None, 'annoangle': 0.0, 'borough': 'Queens', 'bbox': [-73.88282109164365, 40.75198138007367, -73.88282109164365, 40.75198138007367]}}, {'type': 'Feature', 'id': 'nyu_2451_34572.133', 'geometry': {'type': 'Point', 'coordinates': [-73.88165622288388, 40.744048505122024]}, 'geometry_name': 'geom', 'properties': {'name': 'Elmhurst', 'stacked': 1, 'annoline1': 'Elmhurst', 'annoline2': None, 'annoline3': None, 'annoangle': 0.0, 'borough': 'Queens', 'bbox': [-73.88165622288388, 40.744048505122024, -73.88165622288388, 40.744048505122024]}}, {'type': 'Feature', 'id': 'nyu_2451_34572.134', 'geometry': {'type': 'Point', 'coordinates': [-73.8381376460028, 40.65422527738487]}, 'geometry_name': 'geom', 'properties': {'name': 'Howard Beach', 'stacked': 2, 'annoline1': 'Howard', 'annoline2': 'Beach', 'annoline3': None, 'annoangle': 0.0, 'borough': 'Queens', 'bbox': [-73.8381376460028, 40.65422527738487, -73.8381376460028, 40.65422527738487]}}, {'type': 'Feature', 'id': 'nyu_2451_34572.135', 'geometry': {'type': 'Point', 'coordinates': [-73.85682497345258, 40.74238175015667]}, 'geometry_name': 'geom', 'properties': {'name': 'Corona', 'stacked': 1, 'annoline1': 'Corona', 'annoline2': None, 'annoline3': None, 'annoangle': 0.0, 'borough': 'Queens', 'bbox': [-73.85682497345258, 40.74238175015667, -73.85682497345258, 40.74238175015667]}}, {'type': 'Feature', 'id': 'nyu_2451_34572.136', 'geometry': {'type': 'Point', 'coordinates': [-73.84447500788983, 40.72526378216503]}, 'geometry_name': 'geom', 'properties': {'name': 'Forest Hills', 'stacked': 2, 'annoline1': 'Forest', 'annoline2': 'Hills', 'annoline3': None, 'annoangle': 0.0, 'borough': 'Queens', 'bbox': [-73.84447500788983, 40.72526378216503, -73.84447500788983, 40.72526378216503]}}, {'type': 'Feature', 'id': 'nyu_2451_34572.137', 'geometry': {'type': 'Point', 'coordinates': [-73.82981905825703, 40.7051790354148]}, 'geometry_name': 'geom', 'properties': {'name': 'Kew Gardens', 'stacked': 2, 'annoline1': 'Kew', 'annoline2': 'Gardens', 'annoline3': None, 'annoangle': 0.0, 'borough': 'Queens', 'bbox': [-73.82981905825703, 40.7051790354148, -73.82981905825703, 40.7051790354148]}}, {'type': 'Feature', 'id': 'nyu_2451_34572.138', 'geometry': {'type': 'Point', 'coordinates': [-73.83183321446887, 40.69794731471763]}, 'geometry_name': 'geom', 'properties': {'name': 'Richmond Hill', 'stacked': 2, 'annoline1': 'Richmond', 'annoline2': 'Hill', 'annoline3': None, 'annoangle': 0.0, 'borough': 'Queens', 'bbox': [-73.83183321446887, 40.69794731471763, -73.83183321446887, 40.69794731471763]}}, {'type': 'Feature', 'id': 'nyu_2451_34572.139', 'geometry': {'type': 'Point', 'coordinates': [-73.83177300329582, 40.76445419697846]}, 'geometry_name': 'geom', 'properties': {'name': 'Flushing', 'stacked': 1, 'annoline1': 'Flushing', 'annoline2': None, 'annoline3': None, 'annoangle': 0.0, 'borough': 'Queens', 'bbox': [-73.83177300329582, 40.76445419697846, -73.83177300329582, 40.76445419697846]}}, {'type': 'Feature', 'id': 'nyu_2451_34572.140', 'geometry': {'type': 'Point', 'coordinates': [-73.93920223915505, 40.75021734610528]}, 'geometry_name': 'geom', 'properties': {'name': 'Long Island City', 'stacked': 3, 'annoline1': 'Long', 'annoline2': 'Island', 'annoline3': 'City', 'annoangle': 0.0, 'borough': 'Queens', 'bbox': [-73.93920223915505, 40.75021734610528, -73.93920223915505, 40.75021734610528]}}, {'type': 'Feature', 'id': 'nyu_2451_34572.141', 'geometry': {'type': 'Point', 'coordinates': [-73.92691617561577, 40.74017628351924]}, 'geometry_name': 'geom', 'properties': {'name': 'Sunnyside', 'stacked': 1, 'annoline1': 'Sunnyside', 'annoline2': None, 'annoline3': None, 'annoangle': 0.0, 'borough': 'Queens', 'bbox': [-73.92691617561577, 40.74017628351924, -73.92691617561577, 40.74017628351924]}}, {'type': 'Feature', 'id': 'nyu_2451_34572.142', 'geometry': {'type': 'Point', 'coordinates': [-73.86704147658772, 40.76407323883091]}, 'geometry_name': 'geom', 'properties': {'name': 'East Elmhurst', 'stacked': 2, 'annoline1': 'East', 'annoline2': 'Elmhurst', 'annoline3': None, 'annoangle': 0.0, 'borough': 'Queens', 'bbox': [-73.86704147658772, 40.76407323883091, -73.86704147658772, 40.76407323883091]}}, {'type': 'Feature', 'id': 'nyu_2451_34572.143', 'geometry': {'type': 'Point', 'coordinates': [-73.89621713626859, 40.725427374093606]}, 'geometry_name': 'geom', 'properties': {'name': 'Maspeth', 'stacked': 1, 'annoline1': 'Maspeth', 'annoline2': None, 'annoline3': None, 'annoangle': 0.0, 'borough': 'Queens', 'bbox': [-73.89621713626859, 40.725427374093606, -73.89621713626859, 40.725427374093606]}}, {'type': 'Feature', 'id': 'nyu_2451_34572.144', 'geometry': {'type': 'Point', 'coordinates': [-73.90143517559589, 40.70832315613858]}, 'geometry_name': 'geom', 'properties': {'name': 'Ridgewood', 'stacked': 1, 'annoline1': 'Ridgewood', 'annoline2': None, 'annoline3': None, 'annoangle': 0.0, 'borough': 'Queens', 'bbox': [-73.90143517559589, 40.70832315613858, -73.90143517559589, 40.70832315613858]}}, {'type': 'Feature', 'id': 'nyu_2451_34572.145', 'geometry': {'type': 'Point', 'coordinates': [-73.87074167435605, 40.70276242967838]}, 'geometry_name': 'geom', 'properties': {'name': 'Glendale', 'stacked': 1, 'annoline1': 'Glendale', 'annoline2': None, 'annoline3': None, 'annoangle': 0.0, 'borough': 'Queens', 'bbox': [-73.87074167435605, 40.70276242967838, -73.87074167435605, 40.70276242967838]}}, {'type': 'Feature', 'id': 'nyu_2451_34572.146', 'geometry': {'type': 'Point', 'coordinates': [-73.8578268690537, 40.72897409480735]}, 'geometry_name': 'geom', 'properties': {'name': 'Rego Park', 'stacked': 1, 'annoline1': 'Rego Park', 'annoline2': None, 'annoline3': None, 'annoangle': 0.0, 'borough': 'Queens', 'bbox': [-73.8578268690537, 40.72897409480735, -73.8578268690537, 40.72897409480735]}}, {'type': 'Feature', 'id': 'nyu_2451_34572.147', 'geometry': {'type': 'Point', 'coordinates': [-73.8581104655432, 40.68988687915789]}, 'geometry_name': 'geom', 'properties': {'name': 'Woodhaven', 'stacked': 1, 'annoline1': 'Woodhaven', 'annoline2': None, 'annoline3': None, 'annoangle': 0.0, 'borough': 'Queens', 'bbox': [-73.8581104655432, 40.68988687915789, -73.8581104655432, 40.68988687915789]}}, {'type': 'Feature', 'id': 'nyu_2451_34572.148', 'geometry': {'type': 'Point', 'coordinates': [-73.84320266173447, 40.680708468265415]}, 'geometry_name': 'geom', 'properties': {'name': 'Ozone Park', 'stacked': 1, 'annoline1': 'Ozone Park', 'annoline2': None, 'annoline3': None, 'annoangle': 0.0, 'borough': 'Queens', 'bbox': [-73.84320266173447, 40.680708468265415, -73.84320266173447, 40.680708468265415]}}, {'type': 'Feature', 'id': 'nyu_2451_34572.149', 'geometry': {'type': 'Point', 'coordinates': [-73.80986478649041, 40.66854957767195]}, 'geometry_name': 'geom', 'properties': {'name': 'South Ozone Park', 'stacked': 2, 'annoline1': 'South', 'annoline2': 'Ozone Park', 'annoline3': None, 'annoangle': 0.0, 'borough': 'Queens', 'bbox': [-73.80986478649041, 40.66854957767195, -73.80986478649041, 40.66854957767195]}}, {'type': 'Feature', 'id': 'nyu_2451_34572.150', 'geometry': {'type': 'Point', 'coordinates': [-73.84304528896125, 40.784902749260205]}, 'geometry_name': 'geom', 'properties': {'name': 'College Point', 'stacked': 2, 'annoline1': 'College', 'annoline2': 'Point', 'annoline3': None, 'annoangle': 0.0, 'borough': 'Queens', 'bbox': [-73.84304528896125, 40.784902749260205, -73.84304528896125, 40.784902749260205]}}, {'type': 'Feature', 'id': 'nyu_2451_34572.151', 'geometry': {'type': 'Point', 'coordinates': [-73.81420216610863, 40.78129076602694]}, 'geometry_name': 'geom', 'properties': {'name': 'Whitestone', 'stacked': 1, 'annoline1': 'Whitestone', 'annoline2': None, 'annoline3': None, 'annoangle': 0.0, 'borough': 'Queens', 'bbox': [-73.81420216610863, 40.78129076602694, -73.81420216610863, 40.78129076602694]}}, {'type': 'Feature', 'id': 'nyu_2451_34572.152', 'geometry': {'type': 'Point', 'coordinates': [-73.7742736306867, 40.76604063281064]}, 'geometry_name': 'geom', 'properties': {'name': 'Bayside', 'stacked': 1, 'annoline1': 'Bayside', 'annoline2': None, 'annoline3': None, 'annoangle': 0.0, 'borough': 'Queens', 'bbox': [-73.7742736306867, 40.76604063281064, -73.7742736306867, 40.76604063281064]}}, {'type': 'Feature', 'id': 'nyu_2451_34572.153', 'geometry': {'type': 'Point', 'coordinates': [-73.79176243728061, 40.76172954903262]}, 'geometry_name': 'geom', 'properties': {'name': 'Auburndale', 'stacked': 1, 'annoline1': 'Auburndale', 'annoline2': None, 'annoline3': None, 'annoangle': 0.0, 'borough': 'Queens', 'bbox': [-73.79176243728061, 40.76172954903262, -73.79176243728061, 40.76172954903262]}}, {'type': 'Feature', 'id': 'nyu_2451_34572.154', 'geometry': {'type': 'Point', 'coordinates': [-73.7388977558074, 40.7708261928267]}, 'geometry_name': 'geom', 'properties': {'name': 'Little Neck', 'stacked': 2, 'annoline1': 'Little', 'annoline2': 'Neck', 'annoline3': None, 'annoangle': 0.0, 'borough': 'Queens', 'bbox': [-73.7388977558074, 40.7708261928267, -73.7388977558074, 40.7708261928267]}}, {'type': 'Feature', 'id': 'nyu_2451_34572.155', 'geometry': {'type': 'Point', 'coordinates': [-73.7424982072733, 40.76684609790763]}, 'geometry_name': 'geom', 'properties': {'name': 'Douglaston', 'stacked': 1, 'annoline1': 'Douglaston', 'annoline2': None, 'annoline3': None, 'annoangle': 0.0, 'borough': 'Queens', 'bbox': [-73.7424982072733, 40.76684609790763, -73.7424982072733, 40.76684609790763]}}, {'type': 'Feature', 'id': 'nyu_2451_34572.156', 'geometry': {'type': 'Point', 'coordinates': [-73.71548118999145, 40.74944079974332]}, 'geometry_name': 'geom', 'properties': {'name': 'Glen Oaks', 'stacked': 2, 'annoline1': 'Glen', 'annoline2': 'Oaks', 'annoline3': None, 'annoangle': 0.0, 'borough': 'Queens', 'bbox': [-73.71548118999145, 40.74944079974332, -73.71548118999145, 40.74944079974332]}}, {'type': 'Feature', 'id': 'nyu_2451_34572.157', 'geometry': {'type': 'Point', 'coordinates': [-73.72012814826903, 40.72857318176675]}, 'geometry_name': 'geom', 'properties': {'name': 'Bellerose', 'stacked': 1, 'annoline1': 'Bellerose', 'annoline2': None, 'annoline3': None, 'annoangle': 0.0, 'borough': 'Queens', 'bbox': [-73.72012814826903, 40.72857318176675, -73.72012814826903, 40.72857318176675]}}, {'type': 'Feature', 'id': 'nyu_2451_34572.158', 'geometry': {'type': 'Point', 'coordinates': [-73.82087764933566, 40.722578244228046]}, 'geometry_name': 'geom', 'properties': {'name': 'Kew Gardens Hills', 'stacked': 3, 'annoline1': 'Kew', 'annoline2': 'Gardens', 'annoline3': 'Hills', 'annoangle': 0.0, 'borough': 'Queens', 'bbox': [-73.82087764933566, 40.722578244228046, -73.82087764933566, 40.722578244228046]}}, {'type': 'Feature', 'id': 'nyu_2451_34572.159', 'geometry': {'type': 'Point', 'coordinates': [-73.78271337003264, 40.7343944653313]}, 'geometry_name': 'geom', 'properties': {'name': 'Fresh Meadows', 'stacked': 2, 'annoline1': 'Fresh', 'annoline2': 'Meadows', 'annoline3': None, 'annoangle': 0.0, 'borough': 'Queens', 'bbox': [-73.78271337003264, 40.7343944653313, -73.78271337003264, 40.7343944653313]}}, {'type': 'Feature', 'id': 'nyu_2451_34572.160', 'geometry': {'type': 'Point', 'coordinates': [-73.81174822458634, 40.71093547252271]}, 'geometry_name': 'geom', 'properties': {'name': 'Briarwood', 'stacked': 1, 'annoline1': 'Briarwood', 'annoline2': None, 'annoline3': None, 'annoangle': 0.0, 'borough': 'Queens', 'bbox': [-73.81174822458634, 40.71093547252271, -73.81174822458634, 40.71093547252271]}}, {'type': 'Feature', 'id': 'nyu_2451_34572.161', 'geometry': {'type': 'Point', 'coordinates': [-73.79690165888289, 40.70465736068717]}, 'geometry_name': 'geom', 'properties': {'name': 'Jamaica Center', 'stacked': 2, 'annoline1': 'Jamaica', 'annoline2': 'Center', 'annoline3': None, 'annoangle': 0.0, 'borough': 'Queens', 'bbox': [-73.79690165888289, 40.70465736068717, -73.79690165888289, 40.70465736068717]}}, {'type': 'Feature', 'id': 'nyu_2451_34572.162', 'geometry': {'type': 'Point', 'coordinates': [-73.75494976234332, 40.74561857141855]}, 'geometry_name': 'geom', 'properties': {'name': 'Oakland Gardens', 'stacked': 2, 'annoline1': 'Oakland', 'annoline2': 'Gardens', 'annoline3': None, 'annoangle': 0.0, 'borough': 'Queens', 'bbox': [-73.75494976234332, 40.74561857141855, -73.75494976234332, 40.74561857141855]}}, {'type': 'Feature', 'id': 'nyu_2451_34572.163', 'geometry': {'type': 'Point', 'coordinates': [-73.73871484578424, 40.718893092167356]}, 'geometry_name': 'geom', 'properties': {'name': 'Queens Village', 'stacked': 2, 'annoline1': 'Queens', 'annoline2': 'Village', 'annoline3': None, 'annoangle': 0.0, 'borough': 'Queens', 'bbox': [-73.73871484578424, 40.718893092167356, -73.73871484578424, 40.718893092167356]}}, {'type': 'Feature', 'id': 'nyu_2451_34572.164', 'geometry': {'type': 'Point', 'coordinates': [-73.75925009335594, 40.71124344191904]}, 'geometry_name': 'geom', 'properties': {'name': 'Hollis', 'stacked': 1, 'annoline1': 'Hollis', 'annoline2': None, 'annoline3': None, 'annoangle': 0.0, 'borough': 'Queens', 'bbox': [-73.75925009335594, 40.71124344191904, -73.75925009335594, 40.71124344191904]}}, {'type': 'Feature', 'id': 'nyu_2451_34572.165', 'geometry': {'type': 'Point', 'coordinates': [-73.7904261313554, 40.696911253789885]}, 'geometry_name': 'geom', 'properties': {'name': 'South Jamaica', 'stacked': 1, 'annoline1': 'South Jamaica', 'annoline2': None, 'annoline3': None, 'annoangle': 0.0, 'borough': 'Queens', 'bbox': [-73.7904261313554, 40.696911253789885, -73.7904261313554, 40.696911253789885]}}, {'type': 'Feature', 'id': 'nyu_2451_34572.166', 'geometry': {'type': 'Point', 'coordinates': [-73.75867603727717, 40.69444538522359]}, 'geometry_name': 'geom', 'properties': {'name': 'St. Albans', 'stacked': 1, 'annoline1': 'St. Albans', 'annoline2': None, 'annoline3': None, 'annoangle': 0.0, 'borough': 'Queens', 'bbox': [-73.75867603727717, 40.69444538522359, -73.75867603727717, 40.69444538522359]}}, {'type': 'Feature', 'id': 'nyu_2451_34572.167', 'geometry': {'type': 'Point', 'coordinates': [-73.77258787620906, 40.67521139591733]}, 'geometry_name': 'geom', 'properties': {'name': 'Rochdale', 'stacked': 1, 'annoline1': 'Rochdale', 'annoline2': None, 'annoline3': None, 'annoangle': 0.0, 'borough': 'Queens', 'bbox': [-73.77258787620906, 40.67521139591733, -73.77258787620906, 40.67521139591733]}}, {'type': 'Feature', 'id': 'nyu_2451_34572.168', 'geometry': {'type': 'Point', 'coordinates': [-73.76042092682287, 40.666230490368584]}, 'geometry_name': 'geom', 'properties': {'name': 'Springfield Gardens', 'stacked': 2, 'annoline1': 'Springfield', 'annoline2': 'Gardens', 'annoline3': None, 'annoangle': 0.0, 'borough': 'Queens', 'bbox': [-73.76042092682287, 40.666230490368584, -73.76042092682287, 40.666230490368584]}}, {'type': 'Feature', 'id': 'nyu_2451_34572.169', 'geometry': {'type': 'Point', 'coordinates': [-73.73526873708026, 40.692774639160845]}, 'geometry_name': 'geom', 'properties': {'name': 'Cambria Heights', 'stacked': 2, 'annoline1': 'Cambria', 'annoline2': 'Heights', 'annoline3': None, 'annoangle': 0.0, 'borough': 'Queens', 'bbox': [-73.73526873708026, 40.692774639160845, -73.73526873708026, 40.692774639160845]}}, {'type': 'Feature', 'id': 'nyu_2451_34572.170', 'geometry': {'type': 'Point', 'coordinates': [-73.73526079428278, 40.659816433428084]}, 'geometry_name': 'geom', 'properties': {'name': 'Rosedale', 'stacked': 1, 'annoline1': 'Rosedale', 'annoline2': None, 'annoline3': None, 'annoangle': 0.0, 'borough': 'Queens', 'bbox': [-73.73526079428278, 40.659816433428084, -73.73526079428278, 40.659816433428084]}}, {'type': 'Feature', 'id': 'nyu_2451_34572.171', 'geometry': {'type': 'Point', 'coordinates': [-73.75497968043872, 40.603134432500894]}, 'geometry_name': 'geom', 'properties': {'name': 'Far Rockaway', 'stacked': 2, 'annoline1': 'Far Rockaway', 'annoline2': None, 'annoline3': None, 'annoangle': 0.0, 'borough': 'Queens', 'bbox': [-73.75497968043872, 40.603134432500894, -73.75497968043872, 40.603134432500894]}}, {'type': 'Feature', 'id': 'nyu_2451_34572.172', 'geometry': {'type': 'Point', 'coordinates': [-73.8200548911032, 40.60302658351238]}, 'geometry_name': 'geom', 'properties': {'name': 'Broad Channel', 'stacked': 2, 'annoline1': 'Broad', 'annoline2': 'Channel', 'annoline3': None, 'annoangle': 0.0, 'borough': 'Queens', 'bbox': [-73.8200548911032, 40.60302658351238, -73.8200548911032, 40.60302658351238]}}, {'type': 'Feature', 'id': 'nyu_2451_34572.173', 'geometry': {'type': 'Point', 'coordinates': [-73.92551196994168, 40.55740128845452]}, 'geometry_name': 'geom', 'properties': {'name': 'Breezy Point', 'stacked': 2, 'annoline1': 'Breezy', 'annoline2': 'Point', 'annoline3': None, 'annoangle': 0.0, 'borough': 'Queens', 'bbox': [-73.92551196994168, 40.55740128845452, -73.92551196994168, 40.55740128845452]}}, {'type': 'Feature', 'id': 'nyu_2451_34572.174', 'geometry': {'type': 'Point', 'coordinates': [-73.90228960391673, 40.775923015642896]}, 'geometry_name': 'geom', 'properties': {'name': 'Steinway', 'stacked': 1, 'annoline1': 'Steinway', 'annoline2': None, 'annoline3': None, 'annoangle': 0.0, 'borough': 'Queens', 'bbox': [-73.90228960391673, 40.775923015642896, -73.90228960391673, 40.775923015642896]}}, {'type': 'Feature', 'id': 'nyu_2451_34572.175', 'geometry': {'type': 'Point', 'coordinates': [-73.80436451720988, 40.79278140360048]}, 'geometry_name': 'geom', 'properties': {'name': 'Beechhurst', 'stacked': 1, 'annoline1': 'Beechhurst', 'annoline2': None, 'annoline3': None, 'annoangle': 0.0, 'borough': 'Queens', 'bbox': [-73.80436451720988, 40.79278140360048, -73.80436451720988, 40.79278140360048]}}, {'type': 'Feature', 'id': 'nyu_2451_34572.176', 'geometry': {'type': 'Point', 'coordinates': [-73.7768022262158, 40.782842806245554]}, 'geometry_name': 'geom', 'properties': {'name': 'Bay Terrace', 'stacked': 2, 'annoline1': 'Bay', 'annoline2': 'Terrace', 'annoline3': None, 'annoangle': 0.0, 'borough': 'Queens', 'bbox': [-73.7768022262158, 40.782842806245554, -73.7768022262158, 40.782842806245554]}}, {'type': 'Feature', 'id': 'nyu_2451_34572.177', 'geometry': {'type': 'Point', 'coordinates': [-73.77613282391705, 40.595641807368494]}, 'geometry_name': 'geom', 'properties': {'name': 'Edgemere', 'stacked': 1, 'annoline1': 'Edgemere', 'annoline2': None, 'annoline3': None, 'annoangle': 0.0, 'borough': 'Queens', 'bbox': [-73.77613282391705, 40.595641807368494, -73.77613282391705, 40.595641807368494]}}, {'type': 'Feature', 'id': 'nyu_2451_34572.178', 'geometry': {'type': 'Point', 'coordinates': [-73.79199233136943, 40.58914394372971]}, 'geometry_name': 'geom', 'properties': {'name': 'Arverne', 'stacked': 1, 'annoline1': 'Arverne', 'annoline2': None, 'annoline3': None, 'annoangle': 0.0, 'borough': 'Queens', 'bbox': [-73.79199233136943, 40.58914394372971, -73.79199233136943, 40.58914394372971]}}, {'type': 'Feature', 'id': 'nyu_2451_34572.179', 'geometry': {'type': 'Point', 'coordinates': [-73.82236121088751, 40.582801696845586]}, 'geometry_name': 'geom', 'properties': {'name': 'Rockaway Beach', 'stacked': 2, 'annoline1': 'Rockaway', 'annoline2': 'Beach', 'annoline3': None, 'annoangle': 0.0, 'borough': 'Queens', 'bbox': [-73.82236121088751, 40.582801696845586, -73.82236121088751, 40.582801696845586]}}, {'type': 'Feature', 'id': 'nyu_2451_34572.180', 'geometry': {'type': 'Point', 'coordinates': [-73.85754672410827, 40.572036730217015]}, 'geometry_name': 'geom', 'properties': {'name': 'Neponsit', 'stacked': 1, 'annoline1': 'Neponsit', 'annoline2': None, 'annoline3': None, 'annoangle': 0.0, 'borough': 'Queens', 'bbox': [-73.85754672410827, 40.572036730217015, -73.85754672410827, 40.572036730217015]}}, {'type': 'Feature', 'id': 'nyu_2451_34572.181', 'geometry': {'type': 'Point', 'coordinates': [-73.81276269135866, 40.764126122614066]}, 'geometry_name': 'geom', 'properties': {'name': 'Murray Hill', 'stacked': 2, 'annoline1': 'Murray', 'annoline2': 'Hill', 'annoline3': None, 'annoangle': 0.0, 'borough': 'Queens', 'bbox': [-73.81276269135866, 40.764126122614066, -73.81276269135866, 40.764126122614066]}}, {'type': 'Feature', 'id': 'nyu_2451_34572.182', 'geometry': {'type': 'Point', 'coordinates': [-73.70884705889246, 40.741378421945434]}, 'geometry_name': 'geom', 'properties': {'name': 'Floral Park', 'stacked': 1, 'annoline1': 'Floral Park', 'annoline2': None, 'annoline3': None, 'annoangle': 0.0, 'borough': 'Queens', 'bbox': [-73.70884705889246, 40.741378421945434, -73.70884705889246, 40.741378421945434]}}, {'type': 'Feature', 'id': 'nyu_2451_34572.183', 'geometry': {'type': 'Point', 'coordinates': [-73.76714166714729, 40.7209572076444]}, 'geometry_name': 'geom', 'properties': {'name': 'Holliswood', 'stacked': 1, 'annoline1': 'Holliswood', 'annoline2': None, 'annoline3': None, 'annoangle': 0.0, 'borough': 'Queens', 'bbox': [-73.76714166714729, 40.7209572076444, -73.76714166714729, 40.7209572076444]}}, {'type': 'Feature', 'id': 'nyu_2451_34572.184', 'geometry': {'type': 'Point', 'coordinates': [-73.7872269693666, 40.71680483014613]}, 'geometry_name': 'geom', 'properties': {'name': 'Jamaica Estates', 'stacked': 2, 'annoline1': 'Jamaica', 'annoline2': 'Estates', 'annoline3': None, 'annoangle': 0.0, 'borough': 'Queens', 'bbox': [-73.7872269693666, 40.71680483014613, -73.7872269693666, 40.71680483014613]}}, {'type': 'Feature', 'id': 'nyu_2451_34572.185', 'geometry': {'type': 'Point', 'coordinates': [-73.82580915110559, 40.7445723092867]}, 'geometry_name': 'geom', 'properties': {'name': 'Queensboro Hill', 'stacked': 2, 'annoline1': 'Queensboro', 'annoline2': 'Hill', 'annoline3': None, 'annoangle': 0.0, 'borough': 'Queens', 'bbox': [-73.82580915110559, 40.7445723092867, -73.82580915110559, 40.7445723092867]}}, {'type': 'Feature', 'id': 'nyu_2451_34572.186', 'geometry': {'type': 'Point', 'coordinates': [-73.79760300912672, 40.723824901829204]}, 'geometry_name': 'geom', 'properties': {'name': 'Hillcrest', 'stacked': 1, 'annoline1': 'Hillcrest', 'annoline2': None, 'annoline3': None, 'annoangle': 0.0, 'borough': 'Queens', 'bbox': [-73.79760300912672, 40.723824901829204, -73.79760300912672, 40.723824901829204]}}, {'type': 'Feature', 'id': 'nyu_2451_34572.187', 'geometry': {'type': 'Point', 'coordinates': [-73.93157506072878, 40.761704526054146]}, 'geometry_name': 'geom', 'properties': {'name': 'Ravenswood', 'stacked': 1, 'annoline1': 'Ravenswood', 'annoline2': None, 'annoline3': None, 'annoangle': 0.0, 'borough': 'Queens', 'bbox': [-73.93157506072878, 40.761704526054146, -73.93157506072878, 40.761704526054146]}}, {'type': 'Feature', 'id': 'nyu_2451_34572.188', 'geometry': {'type': 'Point', 'coordinates': [-73.84963782402441, 40.66391841925139]}, 'geometry_name': 'geom', 'properties': {'name': 'Lindenwood', 'stacked': 1, 'annoline1': 'Lindenwood', 'annoline2': None, 'annoline3': None, 'annoangle': 0.0, 'borough': 'Queens', 'bbox': [-73.84963782402441, 40.66391841925139, -73.84963782402441, 40.66391841925139]}}, {'type': 'Feature', 'id': 'nyu_2451_34572.189', 'geometry': {'type': 'Point', 'coordinates': [-73.74025607989822, 40.66788389660247]}, 'geometry_name': 'geom', 'properties': {'name': 'Laurelton', 'stacked': 1, 'annoline1': 'Laurelton', 'annoline2': None, 'annoline3': None, 'annoangle': 0.0, 'borough': 'Queens', 'bbox': [-73.74025607989822, 40.66788389660247, -73.74025607989822, 40.66788389660247]}}, {'type': 'Feature', 'id': 'nyu_2451_34572.190', 'geometry': {'type': 'Point', 'coordinates': [-73.8625247141374, 40.736074570830795]}, 'geometry_name': 'geom', 'properties': {'name': 'Lefrak City', 'stacked': 2, 'annoline1': 'Lefrak', 'annoline2': 'City', 'annoline3': None, 'annoangle': 0.0, 'borough': 'Queens', 'bbox': [-73.8625247141374, 40.736074570830795, -73.8625247141374, 40.736074570830795]}}, {'type': 'Feature', 'id': 'nyu_2451_34572.191', 'geometry': {'type': 'Point', 'coordinates': [-73.8540175039252, 40.57615556543109]}, 'geometry_name': 'geom', 'properties': {'name': 'Belle Harbor', 'stacked': 1, 'annoline1': 'Belle Harbor', 'annoline2': None, 'annoline3': None, 'annoangle': 0.0, 'borough': 'Queens', 'bbox': [-73.8540175039252, 40.57615556543109, -73.8540175039252, 40.57615556543109]}}, {'type': 'Feature', 'id': 'nyu_2451_34572.192', 'geometry': {'type': 'Point', 'coordinates': [-73.84153370226186, 40.58034295646131]}, 'geometry_name': 'geom', 'properties': {'name': 'Rockaway Park', 'stacked': 1, 'annoline1': 'Rockaway Park', 'annoline2': None, 'annoline3': None, 'annoangle': 0.0, 'borough': 'Queens', 'bbox': [-73.84153370226186, 40.58034295646131, -73.84153370226186, 40.58034295646131]}}, {'type': 'Feature', 'id': 'nyu_2451_34572.193', 'geometry': {'type': 'Point', 'coordinates': [-73.79664750844047, 40.59771061565768]}, 'geometry_name': 'geom', 'properties': {'name': 'Somerville', 'stacked': 1, 'annoline1': 'Somerville', 'annoline2': None, 'annoline3': None, 'annoangle': 0.0, 'borough': 'Queens', 'bbox': [-73.79664750844047, 40.59771061565768, -73.79664750844047, 40.59771061565768]}}, {'type': 'Feature', 'id': 'nyu_2451_34572.194', 'geometry': {'type': 'Point', 'coordinates': [-73.75175310731153, 40.66000322733613]}, 'geometry_name': 'geom', 'properties': {'name': 'Brookville', 'stacked': 1, 'annoline1': 'Brookville', 'annoline2': None, 'annoline3': None, 'annoangle': 0.0, 'borough': 'Queens', 'bbox': [-73.75175310731153, 40.66000322733613, -73.75175310731153, 40.66000322733613]}}, {'type': 'Feature', 'id': 'nyu_2451_34572.195', 'geometry': {'type': 'Point', 'coordinates': [-73.73889198912481, 40.73301404027834]}, 'geometry_name': 'geom', 'properties': {'name': 'Bellaire', 'stacked': 1, 'annoline1': 'Bellaire', 'annoline2': None, 'annoline3': None, 'annoangle': 0.0, 'borough': 'Queens', 'bbox': [-73.73889198912481, 40.73301404027834, -73.73889198912481, 40.73301404027834]}}, {'type': 'Feature', 'id': 'nyu_2451_34572.196', 'geometry': {'type': 'Point', 'coordinates': [-73.85751790676447, 40.7540709990489]}, 'geometry_name': 'geom', 'properties': {'name': 'North Corona', 'stacked': 2, 'annoline1': 'North', 'annoline2': 'Corona', 'annoline3': None, 'annoangle': 0.0, 'borough': 'Queens', 'bbox': [-73.85751790676447, 40.7540709990489, -73.85751790676447, 40.7540709990489]}}, {'type': 'Feature', 'id': 'nyu_2451_34572.197', 'geometry': {'type': 'Point', 'coordinates': [-73.8410221123401, 40.7146110815117]}, 'geometry_name': 'geom', 'properties': {'name': 'Forest Hills Gardens', 'stacked': 3, 'annoline1': 'Forest', 'annoline2': 'Hills', 'annoline3': 'Gardens', 'annoangle': 0.0, 'borough': 'Queens', 'bbox': [-73.8410221123401, 40.7146110815117, -73.8410221123401, 40.7146110815117]}}, {'type': 'Feature', 'id': 'nyu_2451_34572.198', 'geometry': {'type': 'Point', 'coordinates': [-74.07935312512797, 40.6449815710044]}, 'geometry_name': 'geom', 'properties': {'name': 'St. George', 'stacked': 2, 'annoline1': 'St.', 'annoline2': 'George', 'annoline3': None, 'annoangle': 0.0, 'borough': 'Staten Island', 'bbox': [-74.07935312512797, 40.6449815710044, -74.07935312512797, 40.6449815710044]}}, {'type': 'Feature', 'id': 'nyu_2451_34572.199', 'geometry': {'type': 'Point', 'coordinates': [-74.08701650516625, 40.64061455913511]}, 'geometry_name': 'geom', 'properties': {'name': 'New Brighton', 'stacked': 2, 'annoline1': 'New', 'annoline2': 'Brighton', 'annoline3': None, 'annoangle': 0.0, 'borough': 'Staten Island', 'bbox': [-74.08701650516625, 40.64061455913511, -74.08701650516625, 40.64061455913511]}}, {'type': 'Feature', 'id': 'nyu_2451_34572.200', 'geometry': {'type': 'Point', 'coordinates': [-74.07790192660066, 40.62692762538176]}, 'geometry_name': 'geom', 'properties': {'name': 'Stapleton', 'stacked': 1, 'annoline1': 'Stapleton', 'annoline2': None, 'annoline3': None, 'annoangle': 0.0, 'borough': 'Staten Island', 'bbox': [-74.07790192660066, 40.62692762538176, -74.07790192660066, 40.62692762538176]}}, {'type': 'Feature', 'id': 'nyu_2451_34572.201', 'geometry': {'type': 'Point', 'coordinates': [-74.06980526716141, 40.61530494652761]}, 'geometry_name': 'geom', 'properties': {'name': 'Rosebank', 'stacked': 1, 'annoline1': 'Rosebank', 'annoline2': None, 'annoline3': None, 'annoangle': 0.0, 'borough': 'Staten Island', 'bbox': [-74.06980526716141, 40.61530494652761, -74.06980526716141, 40.61530494652761]}}, {'type': 'Feature', 'id': 'nyu_2451_34572.202', 'geometry': {'type': 'Point', 'coordinates': [-74.1071817826561, 40.63187892654607]}, 'geometry_name': 'geom', 'properties': {'name': 'West Brighton', 'stacked': 2, 'annoline1': 'West', 'annoline2': 'Brighton', 'annoline3': None, 'annoangle': 0.0, 'borough': 'Staten Island', 'bbox': [-74.1071817826561, 40.63187892654607, -74.1071817826561, 40.63187892654607]}}, {'type': 'Feature', 'id': 'nyu_2451_34572.203', 'geometry': {'type': 'Point', 'coordinates': [-74.08724819983729, 40.624184791313006]}, 'geometry_name': 'geom', 'properties': {'name': 'Grymes Hill', 'stacked': 2, 'annoline1': 'Grymes', 'annoline2': 'Hill', 'annoline3': None, 'annoangle': 0.0, 'borough': 'Staten Island', 'bbox': [-74.08724819983729, 40.624184791313006, -74.08724819983729, 40.624184791313006]}}, {'type': 'Feature', 'id': 'nyu_2451_34572.204', 'geometry': {'type': 'Point', 'coordinates': [-74.1113288180088, 40.59706851814673]}, 'geometry_name': 'geom', 'properties': {'name': 'Todt Hill', 'stacked': 2, 'annoline1': 'Todt', 'annoline2': 'Hill', 'annoline3': None, 'annoangle': 0.0, 'borough': 'Staten Island', 'bbox': [-74.1113288180088, 40.59706851814673, -74.1113288180088, 40.59706851814673]}}, {'type': 'Feature', 'id': 'nyu_2451_34572.205', 'geometry': {'type': 'Point', 'coordinates': [-74.0795529253982, 40.58024741350956]}, 'geometry_name': 'geom', 'properties': {'name': 'South Beach', 'stacked': 2, 'annoline1': 'South', 'annoline2': 'Beach', 'annoline3': None, 'annoangle': 0.0, 'borough': 'Staten Island', 'bbox': [-74.0795529253982, 40.58024741350956, -74.0795529253982, 40.58024741350956]}}, {'type': 'Feature', 'id': 'nyu_2451_34572.206', 'geometry': {'type': 'Point', 'coordinates': [-74.12943426797008, 40.63366930554365]}, 'geometry_name': 'geom', 'properties': {'name': 'Port Richmond', 'stacked': 2, 'annoline1': 'Port', 'annoline2': 'Richmond', 'annoline3': None, 'annoangle': 0.0, 'borough': 'Staten Island', 'bbox': [-74.12943426797008, 40.63366930554365, -74.12943426797008, 40.63366930554365]}}, {'type': 'Feature', 'id': 'nyu_2451_34572.207', 'geometry': {'type': 'Point', 'coordinates': [-74.15008537046981, 40.632546390481124]}, 'geometry_name': 'geom', 'properties': {'name': \"Mariner's Harbor\", 'stacked': 2, 'annoline1': \"Mariner's\", 'annoline2': 'Harbor', 'annoline3': None, 'annoangle': 0.0, 'borough': 'Staten Island', 'bbox': [-74.15008537046981, 40.632546390481124, -74.15008537046981, 40.632546390481124]}}, {'type': 'Feature', 'id': 'nyu_2451_34572.208', 'geometry': {'type': 'Point', 'coordinates': [-74.17464532993542, 40.63968297845542]}, 'geometry_name': 'geom', 'properties': {'name': 'Port Ivory', 'stacked': 2, 'annoline1': 'Port', 'annoline2': 'Ivory', 'annoline3': None, 'annoangle': 0.0, 'borough': 'Staten Island', 'bbox': [-74.17464532993542, 40.63968297845542, -74.17464532993542, 40.63968297845542]}}, {'type': 'Feature', 'id': 'nyu_2451_34572.209', 'geometry': {'type': 'Point', 'coordinates': [-74.11918058534842, 40.61333593766742]}, 'geometry_name': 'geom', 'properties': {'name': 'Castleton Corners', 'stacked': 2, 'annoline1': 'Castleton', 'annoline2': 'Corners', 'annoline3': None, 'annoangle': 0.0, 'borough': 'Staten Island', 'bbox': [-74.11918058534842, 40.61333593766742, -74.11918058534842, 40.61333593766742]}}, {'type': 'Feature', 'id': 'nyu_2451_34572.210', 'geometry': {'type': 'Point', 'coordinates': [-74.16496031329827, 40.594252379161695]}, 'geometry_name': 'geom', 'properties': {'name': 'New Springville', 'stacked': 2, 'annoline1': 'New', 'annoline2': 'Springville', 'annoline3': None, 'annoangle': 0.0, 'borough': 'Staten Island', 'bbox': [-74.16496031329827, 40.594252379161695, -74.16496031329827, 40.594252379161695]}}, {'type': 'Feature', 'id': 'nyu_2451_34572.211', 'geometry': {'type': 'Point', 'coordinates': [-74.19073717538116, 40.58631375103281]}, 'geometry_name': 'geom', 'properties': {'name': 'Travis', 'stacked': 1, 'annoline1': 'Travis', 'annoline2': None, 'annoline3': None, 'annoangle': 0.0, 'borough': 'Staten Island', 'bbox': [-74.19073717538116, 40.58631375103281, -74.19073717538116, 40.58631375103281]}}, {'type': 'Feature', 'id': 'nyu_2451_34572.212', 'geometry': {'type': 'Point', 'coordinates': [-74.1164794360638, 40.57257231820632]}, 'geometry_name': 'geom', 'properties': {'name': 'New Dorp', 'stacked': 2, 'annoline1': 'New', 'annoline2': 'Dorp', 'annoline3': None, 'annoangle': 0.0, 'borough': 'Staten Island', 'bbox': [-74.1164794360638, 40.57257231820632, -74.1164794360638, 40.57257231820632]}}, {'type': 'Feature', 'id': 'nyu_2451_34572.213', 'geometry': {'type': 'Point', 'coordinates': [-74.12156593771896, 40.5584622432888]}, 'geometry_name': 'geom', 'properties': {'name': 'Oakwood', 'stacked': 1, 'annoline1': 'Oakwood', 'annoline2': None, 'annoline3': None, 'annoangle': 0.0, 'borough': 'Staten Island', 'bbox': [-74.12156593771896, 40.5584622432888, -74.12156593771896, 40.5584622432888]}}, {'type': 'Feature', 'id': 'nyu_2451_34572.214', 'geometry': {'type': 'Point', 'coordinates': [-74.14932381490992, 40.549480228713605]}, 'geometry_name': 'geom', 'properties': {'name': 'Great Kills', 'stacked': 2, 'annoline1': 'Great', 'annoline2': 'Kills', 'annoline3': None, 'annoangle': 0.0, 'borough': 'Staten Island', 'bbox': [-74.14932381490992, 40.549480228713605, -74.14932381490992, 40.549480228713605]}}, {'type': 'Feature', 'id': 'nyu_2451_34572.215', 'geometry': {'type': 'Point', 'coordinates': [-74.1643308041936, 40.542230747450745]}, 'geometry_name': 'geom', 'properties': {'name': 'Eltingville', 'stacked': 1, 'annoline1': 'Eltingville', 'annoline2': None, 'annoline3': None, 'annoangle': 0.0, 'borough': 'Staten Island', 'bbox': [-74.1643308041936, 40.542230747450745, -74.1643308041936, 40.542230747450745]}}, {'type': 'Feature', 'id': 'nyu_2451_34572.216', 'geometry': {'type': 'Point', 'coordinates': [-74.17854866165878, 40.53811417474507]}, 'geometry_name': 'geom', 'properties': {'name': 'Annadale', 'stacked': 1, 'annoline1': 'Annadale', 'annoline2': None, 'annoline3': None, 'annoangle': 0.0, 'borough': 'Staten Island', 'bbox': [-74.17854866165878, 40.53811417474507, -74.17854866165878, 40.53811417474507]}}, {'type': 'Feature', 'id': 'nyu_2451_34572.217', 'geometry': {'type': 'Point', 'coordinates': [-74.20524582480326, 40.541967622888755]}, 'geometry_name': 'geom', 'properties': {'name': 'Woodrow', 'stacked': 1, 'annoline1': 'Woodrow', 'annoline2': None, 'annoline3': None, 'annoangle': 0.0, 'borough': 'Staten Island', 'bbox': [-74.20524582480326, 40.541967622888755, -74.20524582480326, 40.541967622888755]}}, {'type': 'Feature', 'id': 'nyu_2451_34572.218', 'geometry': {'type': 'Point', 'coordinates': [-74.24656934235283, 40.50533376115642]}, 'geometry_name': 'geom', 'properties': {'name': 'Tottenville', 'stacked': 1, 'annoline1': 'Tottenville', 'annoline2': None, 'annoline3': None, 'annoangle': 0.0, 'borough': 'Staten Island', 'bbox': [-74.24656934235283, 40.50533376115642, -74.24656934235283, 40.50533376115642]}}, {'type': 'Feature', 'id': 'nyu_2451_34572.219', 'geometry': {'type': 'Point', 'coordinates': [-74.08055351790115, 40.637316067110326]}, 'geometry_name': 'geom', 'properties': {'name': 'Tompkinsville', 'stacked': 1, 'annoline1': 'Tompkinsville', 'annoline2': None, 'annoline3': None, 'annoangle': 0.0, 'borough': 'Staten Island', 'bbox': [-74.08055351790115, 40.637316067110326, -74.08055351790115, 40.637316067110326]}}, {'type': 'Feature', 'id': 'nyu_2451_34572.220', 'geometry': {'type': 'Point', 'coordinates': [-74.09629029235458, 40.61919310792676]}, 'geometry_name': 'geom', 'properties': {'name': 'Silver Lake', 'stacked': 2, 'annoline1': 'Silver', 'annoline2': 'Lake', 'annoline3': None, 'annoangle': 0.0, 'borough': 'Staten Island', 'bbox': [-74.09629029235458, 40.61919310792676, -74.09629029235458, 40.61919310792676]}}, {'type': 'Feature', 'id': 'nyu_2451_34572.221', 'geometry': {'type': 'Point', 'coordinates': [-74.0971255217853, 40.61276015756489]}, 'geometry_name': 'geom', 'properties': {'name': 'Sunnyside', 'stacked': 1, 'annoline1': 'Sunnyside', 'annoline2': None, 'annoline3': None, 'annoangle': 0.0, 'borough': 'Staten Island', 'bbox': [-74.0971255217853, 40.61276015756489, -74.0971255217853, 40.61276015756489]}}, {'type': 'Feature', 'id': 'nyu_2451_34572.222', 'geometry': {'type': 'Point', 'coordinates': [-73.96101312466779, 40.643675183340974]}, 'geometry_name': 'geom', 'properties': {'name': 'Ditmas Park', 'stacked': 2, 'annoline1': 'Ditmas', 'annoline2': 'Park', 'annoline3': None, 'annoangle': 0.0, 'borough': 'Brooklyn', 'bbox': [-73.96101312466779, 40.643675183340974, -73.96101312466779, 40.643675183340974]}}, {'type': 'Feature', 'id': 'nyu_2451_34572.223', 'geometry': {'type': 'Point', 'coordinates': [-73.93718680559314, 40.66094656188111]}, 'geometry_name': 'geom', 'properties': {'name': 'Wingate', 'stacked': 1, 'annoline1': 'Wingate', 'annoline2': None, 'annoline3': None, 'annoangle': 0.0, 'borough': 'Brooklyn', 'bbox': [-73.93718680559314, 40.66094656188111, -73.93718680559314, 40.66094656188111]}}, {'type': 'Feature', 'id': 'nyu_2451_34572.224', 'geometry': {'type': 'Point', 'coordinates': [-73.92688212616955, 40.655572313280764]}, 'geometry_name': 'geom', 'properties': {'name': 'Rugby', 'stacked': 1, 'annoline1': 'Rugby', 'annoline2': None, 'annoline3': None, 'annoangle': 0.0, 'borough': 'Brooklyn', 'bbox': [-73.92688212616955, 40.655572313280764, -73.92688212616955, 40.655572313280764]}}, {'type': 'Feature', 'id': 'nyu_2451_34572.225', 'geometry': {'type': 'Point', 'coordinates': [-74.08015734936296, 40.60919044434558]}, 'geometry_name': 'geom', 'properties': {'name': 'Park Hill', 'stacked': 2, 'annoline1': 'Park', 'annoline2': 'Hill', 'annoline3': None, 'annoangle': 0.0, 'borough': 'Staten Island', 'bbox': [-74.08015734936296, 40.60919044434558, -74.08015734936296, 40.60919044434558]}}, {'type': 'Feature', 'id': 'nyu_2451_34572.226', 'geometry': {'type': 'Point', 'coordinates': [-74.13304143951704, 40.62109047275409]}, 'geometry_name': 'geom', 'properties': {'name': 'Westerleigh', 'stacked': 1, 'annoline1': 'Westerleigh', 'annoline2': None, 'annoline3': None, 'annoangle': 0.0, 'borough': 'Staten Island', 'bbox': [-74.13304143951704, 40.62109047275409, -74.13304143951704, 40.62109047275409]}}, {'type': 'Feature', 'id': 'nyu_2451_34572.227', 'geometry': {'type': 'Point', 'coordinates': [-74.15315246387762, 40.620171512231884]}, 'geometry_name': 'geom', 'properties': {'name': 'Graniteville', 'stacked': 1, 'annoline1': 'Graniteville', 'annoline2': None, 'annoline3': None, 'annoangle': 0.0, 'borough': 'Staten Island', 'bbox': [-74.15315246387762, 40.620171512231884, -74.15315246387762, 40.620171512231884]}}, {'type': 'Feature', 'id': 'nyu_2451_34572.228', 'geometry': {'type': 'Point', 'coordinates': [-74.16510420241124, 40.63532509911492]}, 'geometry_name': 'geom', 'properties': {'name': 'Arlington', 'stacked': 1, 'annoline1': 'Arlington', 'annoline2': None, 'annoline3': None, 'annoangle': 0.0, 'borough': 'Staten Island', 'bbox': [-74.16510420241124, 40.63532509911492, -74.16510420241124, 40.63532509911492]}}, {'type': 'Feature', 'id': 'nyu_2451_34572.229', 'geometry': {'type': 'Point', 'coordinates': [-74.06712363225574, 40.596312571276734]}, 'geometry_name': 'geom', 'properties': {'name': 'Arrochar', 'stacked': 1, 'annoline1': 'Arrochar', 'annoline2': None, 'annoline3': None, 'annoangle': 0.0, 'borough': 'Staten Island', 'bbox': [-74.06712363225574, 40.596312571276734, -74.06712363225574, 40.596312571276734]}}, {'type': 'Feature', 'id': 'nyu_2451_34572.230', 'geometry': {'type': 'Point', 'coordinates': [-74.0766743627905, 40.59826835959991]}, 'geometry_name': 'geom', 'properties': {'name': 'Grasmere', 'stacked': 1, 'annoline1': 'Grasmere', 'annoline2': None, 'annoline3': None, 'annoangle': 0.0, 'borough': 'Staten Island', 'bbox': [-74.0766743627905, 40.59826835959991, -74.0766743627905, 40.59826835959991]}}, {'type': 'Feature', 'id': 'nyu_2451_34572.231', 'geometry': {'type': 'Point', 'coordinates': [-74.08751118005578, 40.59632891379513]}, 'geometry_name': 'geom', 'properties': {'name': 'Old Town', 'stacked': 2, 'annoline1': 'Old', 'annoline2': 'Town', 'annoline3': None, 'annoangle': 0.0, 'borough': 'Staten Island', 'bbox': [-74.08751118005578, 40.59632891379513, -74.08751118005578, 40.59632891379513]}}, {'type': 'Feature', 'id': 'nyu_2451_34572.232', 'geometry': {'type': 'Point', 'coordinates': [-74.09639905312521, 40.588672948199275]}, 'geometry_name': 'geom', 'properties': {'name': 'Dongan Hills', 'stacked': 2, 'annoline1': 'Dongan', 'annoline2': 'Hills', 'annoline3': None, 'annoangle': 0.0, 'borough': 'Staten Island', 'bbox': [-74.09639905312521, 40.588672948199275, -74.09639905312521, 40.588672948199275]}}, {'type': 'Feature', 'id': 'nyu_2451_34572.233', 'geometry': {'type': 'Point', 'coordinates': [-74.09348266303591, 40.57352690574283]}, 'geometry_name': 'geom', 'properties': {'name': 'Midland Beach', 'stacked': 2, 'annoline1': 'Midland', 'annoline2': 'Beach', 'annoline3': None, 'annoangle': 0.0, 'borough': 'Staten Island', 'bbox': [-74.09348266303591, 40.57352690574283, -74.09348266303591, 40.57352690574283]}}, {'type': 'Feature', 'id': 'nyu_2451_34572.234', 'geometry': {'type': 'Point', 'coordinates': [-74.10585598545434, 40.57621558711788]}, 'geometry_name': 'geom', 'properties': {'name': 'Grant City', 'stacked': 2, 'annoline1': 'Grant', 'annoline2': 'City', 'annoline3': None, 'annoangle': 0.0, 'borough': 'Staten Island', 'bbox': [-74.10585598545434, 40.57621558711788, -74.10585598545434, 40.57621558711788]}}, {'type': 'Feature', 'id': 'nyu_2451_34572.235', 'geometry': {'type': 'Point', 'coordinates': [-74.10432707469124, 40.56425549307335]}, 'geometry_name': 'geom', 'properties': {'name': 'New Dorp Beach', 'stacked': 3, 'annoline1': 'New', 'annoline2': 'Dorp', 'annoline3': 'Beach', 'annoangle': 0.0, 'borough': 'Staten Island', 'bbox': [-74.10432707469124, 40.56425549307335, -74.10432707469124, 40.56425549307335]}}, {'type': 'Feature', 'id': 'nyu_2451_34572.236', 'geometry': {'type': 'Point', 'coordinates': [-74.13916622175768, 40.55398800858462]}, 'geometry_name': 'geom', 'properties': {'name': 'Bay Terrace', 'stacked': 2, 'annoline1': 'Bay', 'annoline2': 'Terrace', 'annoline3': None, 'annoangle': 0.0, 'borough': 'Staten Island', 'bbox': [-74.13916622175768, 40.55398800858462, -74.13916622175768, 40.55398800858462]}}, {'type': 'Feature', 'id': 'nyu_2451_34572.237', 'geometry': {'type': 'Point', 'coordinates': [-74.19174105747814, 40.531911920489605]}, 'geometry_name': 'geom', 'properties': {'name': 'Huguenot', 'stacked': 1, 'annoline1': 'Huguenot', 'annoline2': None, 'annoline3': None, 'annoangle': 0.0, 'borough': 'Staten Island', 'bbox': [-74.19174105747814, 40.531911920489605, -74.19174105747814, 40.531911920489605]}}, {'type': 'Feature', 'id': 'nyu_2451_34572.238', 'geometry': {'type': 'Point', 'coordinates': [-74.21983106616777, 40.524699376118136]}, 'geometry_name': 'geom', 'properties': {'name': 'Pleasant Plains', 'stacked': 2, 'annoline1': 'Pleasant', 'annoline2': 'Plains', 'annoline3': None, 'annoangle': 0.0, 'borough': 'Staten Island', 'bbox': [-74.21983106616777, 40.524699376118136, -74.21983106616777, 40.524699376118136]}}, {'type': 'Feature', 'id': 'nyu_2451_34572.239', 'geometry': {'type': 'Point', 'coordinates': [-74.22950350260027, 40.50608165346305]}, 'geometry_name': 'geom', 'properties': {'name': 'Butler Manor', 'stacked': 2, 'annoline1': 'Butler', 'annoline2': 'Manor', 'annoline3': None, 'annoangle': 0.0, 'borough': 'Staten Island', 'bbox': [-74.22950350260027, 40.50608165346305, -74.22950350260027, 40.50608165346305]}}, {'type': 'Feature', 'id': 'nyu_2451_34572.240', 'geometry': {'type': 'Point', 'coordinates': [-74.23215775896526, 40.53053148283314]}, 'geometry_name': 'geom', 'properties': {'name': 'Charleston', 'stacked': 1, 'annoline1': 'Charleston', 'annoline2': None, 'annoline3': None, 'annoangle': 0.0, 'borough': 'Staten Island', 'bbox': [-74.23215775896526, 40.53053148283314, -74.23215775896526, 40.53053148283314]}}, {'type': 'Feature', 'id': 'nyu_2451_34572.241', 'geometry': {'type': 'Point', 'coordinates': [-74.21572851113952, 40.54940400650072]}, 'geometry_name': 'geom', 'properties': {'name': 'Rossville', 'stacked': 1, 'annoline1': 'Rossville', 'annoline2': None, 'annoline3': None, 'annoangle': 0.0, 'borough': 'Staten Island', 'bbox': [-74.21572851113952, 40.54940400650072, -74.21572851113952, 40.54940400650072]}}, {'type': 'Feature', 'id': 'nyu_2451_34572.242', 'geometry': {'type': 'Point', 'coordinates': [-74.18588674583893, 40.54928582278321]}, 'geometry_name': 'geom', 'properties': {'name': 'Arden Heights', 'stacked': 2, 'annoline1': 'Arden', 'annoline2': 'Heights', 'annoline3': None, 'annoangle': 0.0, 'borough': 'Staten Island', 'bbox': [-74.18588674583893, 40.54928582278321, -74.18588674583893, 40.54928582278321]}}, {'type': 'Feature', 'id': 'nyu_2451_34572.243', 'geometry': {'type': 'Point', 'coordinates': [-74.17079414786092, 40.555295236173194]}, 'geometry_name': 'geom', 'properties': {'name': 'Greenridge', 'stacked': 1, 'annoline1': 'Greenridge', 'annoline2': None, 'annoline3': None, 'annoangle': 0.0, 'borough': 'Staten Island', 'bbox': [-74.17079414786092, 40.555295236173194, -74.17079414786092, 40.555295236173194]}}, {'type': 'Feature', 'id': 'nyu_2451_34572.244', 'geometry': {'type': 'Point', 'coordinates': [-74.15902208156601, 40.58913894875281]}, 'geometry_name': 'geom', 'properties': {'name': 'Heartland Village', 'stacked': 2, 'annoline1': 'Heartland', 'annoline2': 'Village', 'annoline3': None, 'annoangle': 0.0, 'borough': 'Staten Island', 'bbox': [-74.15902208156601, 40.58913894875281, -74.15902208156601, 40.58913894875281]}}, {'type': 'Feature', 'id': 'nyu_2451_34572.245', 'geometry': {'type': 'Point', 'coordinates': [-74.1895604551969, 40.59472602746295]}, 'geometry_name': 'geom', 'properties': {'name': 'Chelsea', 'stacked': 1, 'annoline1': 'Chelsea', 'annoline2': None, 'annoline3': None, 'annoangle': 0.0, 'borough': 'Staten Island', 'bbox': [-74.1895604551969, 40.59472602746295, -74.1895604551969, 40.59472602746295]}}, {'type': 'Feature', 'id': 'nyu_2451_34572.246', 'geometry': {'type': 'Point', 'coordinates': [-74.18725638381567, 40.60577868452358]}, 'geometry_name': 'geom', 'properties': {'name': 'Bloomfield', 'stacked': 1, 'annoline1': 'Bloomfield', 'annoline2': None, 'annoline3': None, 'annoangle': 0.0, 'borough': 'Staten Island', 'bbox': [-74.18725638381567, 40.60577868452358, -74.18725638381567, 40.60577868452358]}}, {'type': 'Feature', 'id': 'nyu_2451_34572.247', 'geometry': {'type': 'Point', 'coordinates': [-74.15940948657122, 40.6095918004203]}, 'geometry_name': 'geom', 'properties': {'name': 'Bulls Head', 'stacked': 2, 'annoline1': 'Bulls', 'annoline2': 'Head', 'annoline3': None, 'annoangle': 0.0, 'borough': 'Staten Island', 'bbox': [-74.15940948657122, 40.6095918004203, -74.15940948657122, 40.6095918004203]}}, {'type': 'Feature', 'id': 'nyu_2451_34572.248', 'geometry': {'type': 'Point', 'coordinates': [-73.95325646837112, 40.7826825671257]}, 'geometry_name': 'geom', 'properties': {'name': 'Carnegie Hill', 'stacked': 2, 'annoline1': 'Carnegie', 'annoline2': 'Hill', 'annoline3': None, 'annoangle': 0.0, 'borough': 'Manhattan', 'bbox': [-73.95325646837112, 40.7826825671257, -73.95325646837112, 40.7826825671257]}}, {'type': 'Feature', 'id': 'nyu_2451_34572.249', 'geometry': {'type': 'Point', 'coordinates': [-73.98843368023597, 40.72325901885768]}, 'geometry_name': 'geom', 'properties': {'name': 'Noho', 'stacked': 1, 'annoline1': 'Noho', 'annoline2': None, 'annoline3': None, 'annoangle': 0.0, 'borough': 'Manhattan', 'bbox': [-73.98843368023597, 40.72325901885768, -73.98843368023597, 40.72325901885768]}}, {'type': 'Feature', 'id': 'nyu_2451_34572.250', 'geometry': {'type': 'Point', 'coordinates': [-74.00541529873355, 40.71522892046282]}, 'geometry_name': 'geom', 'properties': {'name': 'Civic Center', 'stacked': 2, 'annoline1': 'Civic', 'annoline2': 'Center', 'annoline3': None, 'annoangle': 0.0, 'borough': 'Manhattan', 'bbox': [-74.00541529873355, 40.71522892046282, -74.00541529873355, 40.71522892046282]}}, {'type': 'Feature', 'id': 'nyu_2451_34572.251', 'geometry': {'type': 'Point', 'coordinates': [-73.98871313285247, 40.7485096643122]}, 'geometry_name': 'geom', 'properties': {'name': 'Midtown South', 'stacked': 2, 'annoline1': 'Midtown', 'annoline2': 'South', 'annoline3': None, 'annoangle': 0.0, 'borough': 'Manhattan', 'bbox': [-73.98871313285247, 40.7485096643122, -73.98871313285247, 40.7485096643122]}}, {'type': 'Feature', 'id': 'nyu_2451_34572.252', 'geometry': {'type': 'Point', 'coordinates': [-74.1340572986257, 40.56960594275505]}, 'geometry_name': 'geom', 'properties': {'name': 'Richmond Town', 'stacked': 2, 'annoline1': 'Richmond', 'annoline2': 'Town', 'annoline3': None, 'annoangle': 0.0, 'borough': 'Staten Island', 'bbox': [-74.1340572986257, 40.56960594275505, -74.1340572986257, 40.56960594275505]}}, {'type': 'Feature', 'id': 'nyu_2451_34572.253', 'geometry': {'type': 'Point', 'coordinates': [-74.06667766061771, 40.60971934079284]}, 'geometry_name': 'geom', 'properties': {'name': 'Shore Acres', 'stacked': 2, 'annoline1': 'Shore', 'annoline2': 'Acres', 'annoline3': None, 'annoangle': 0.0, 'borough': 'Staten Island', 'bbox': [-74.06667766061771, 40.60971934079284, -74.06667766061771, 40.60971934079284]}}, {'type': 'Feature', 'id': 'nyu_2451_34572.254', 'geometry': {'type': 'Point', 'coordinates': [-74.072642445484, 40.61917845202843]}, 'geometry_name': 'geom', 'properties': {'name': 'Clifton', 'stacked': 1, 'annoline1': 'Clifton', 'annoline2': None, 'annoline3': None, 'annoangle': 0.0, 'borough': 'Staten Island', 'bbox': [-74.072642445484, 40.61917845202843, -74.072642445484, 40.61917845202843]}}, {'type': 'Feature', 'id': 'nyu_2451_34572.255', 'geometry': {'type': 'Point', 'coordinates': [-74.08402364740358, 40.6044731896879]}, 'geometry_name': 'geom', 'properties': {'name': 'Concord', 'stacked': 1, 'annoline1': 'Concord', 'annoline2': None, 'annoline3': None, 'annoangle': 0.0, 'borough': 'Staten Island', 'bbox': [-74.08402364740358, 40.6044731896879, -74.08402364740358, 40.6044731896879]}}, {'type': 'Feature', 'id': 'nyu_2451_34572.256', 'geometry': {'type': 'Point', 'coordinates': [-74.09776206972522, 40.606794394801]}, 'geometry_name': 'geom', 'properties': {'name': 'Emerson Hill', 'stacked': 2, 'annoline1': 'Emerson', 'annoline2': 'Hill', 'annoline3': None, 'annoangle': 0.0, 'borough': 'Staten Island', 'bbox': [-74.09776206972522, 40.606794394801, -74.09776206972522, 40.606794394801]}}, {'type': 'Feature', 'id': 'nyu_2451_34572.257', 'geometry': {'type': 'Point', 'coordinates': [-74.09805062373887, 40.63563000681151]}, 'geometry_name': 'geom', 'properties': {'name': 'Randall Manor', 'stacked': 2, 'annoline1': 'Randall', 'annoline2': 'Manor', 'annoline3': None, 'annoangle': 0.0, 'borough': 'Staten Island', 'bbox': [-74.09805062373887, 40.63563000681151, -74.09805062373887, 40.63563000681151]}}, {'type': 'Feature', 'id': 'nyu_2451_34572.258', 'geometry': {'type': 'Point', 'coordinates': [-74.18622331749823, 40.63843283794795]}, 'geometry_name': 'geom', 'properties': {'name': 'Howland Hook', 'stacked': 2, 'annoline1': 'Howland', 'annoline2': 'Hook', 'annoline3': None, 'annoangle': 0.0, 'borough': 'Staten Island', 'bbox': [-74.18622331749823, 40.63843283794795, -74.18622331749823, 40.63843283794795]}}, {'type': 'Feature', 'id': 'nyu_2451_34572.259', 'geometry': {'type': 'Point', 'coordinates': [-74.1418167896889, 40.630146741193826]}, 'geometry_name': 'geom', 'properties': {'name': 'Elm Park', 'stacked': 2, 'annoline1': 'Elm', 'annoline2': 'Park', 'annoline3': None, 'annoangle': 0.0, 'borough': 'Staten Island', 'bbox': [-74.1418167896889, 40.630146741193826, -74.1418167896889, 40.630146741193826]}}, {'type': 'Feature', 'id': 'nyu_2451_34572.260', 'geometry': {'type': 'Point', 'coordinates': [-73.91665331978048, 40.652117451793494]}, 'geometry_name': 'geom', 'properties': {'name': 'Remsen Village', 'stacked': 2, 'annoline1': 'Remsen', 'annoline2': 'Village', 'annoline3': None, 'annoangle': 0.0, 'borough': 'Brooklyn', 'bbox': [-73.91665331978048, 40.652117451793494, -73.91665331978048, 40.652117451793494]}}, {'type': 'Feature', 'id': 'nyu_2451_34572.261', 'geometry': {'type': 'Point', 'coordinates': [-73.88511776379292, 40.6627442796966]}, 'geometry_name': 'geom', 'properties': {'name': 'New Lots', 'stacked': 2, 'annoline1': 'New', 'annoline2': 'Lots', 'annoline3': None, 'annoangle': 0.0, 'borough': 'Brooklyn', 'bbox': [-73.88511776379292, 40.6627442796966, -73.88511776379292, 40.6627442796966]}}, {'type': 'Feature', 'id': 'nyu_2451_34572.262', 'geometry': {'type': 'Point', 'coordinates': [-73.90233474295836, 40.63131755039667]}, 'geometry_name': 'geom', 'properties': {'name': 'Paerdegat Basin', 'stacked': 2, 'annoline1': 'Paerdegat', 'annoline2': 'Basin', 'annoline3': None, 'annoangle': 0.0, 'borough': 'Brooklyn', 'bbox': [-73.90233474295836, 40.63131755039667, -73.90233474295836, 40.63131755039667]}}, {'type': 'Feature', 'id': 'nyu_2451_34572.263', 'geometry': {'type': 'Point', 'coordinates': [-73.91515391550404, 40.61597423962336]}, 'geometry_name': 'geom', 'properties': {'name': 'Mill Basin', 'stacked': 2, 'annoline1': 'Mill', 'annoline2': 'Basin', 'annoline3': None, 'annoangle': 0.0, 'borough': 'Brooklyn', 'bbox': [-73.91515391550404, 40.61597423962336, -73.91515391550404, 40.61597423962336]}}, {'type': 'Feature', 'id': 'nyu_2451_34572.264', 'geometry': {'type': 'Point', 'coordinates': [-73.79646462081593, 40.71145964370482]}, 'geometry_name': 'geom', 'properties': {'name': 'Jamaica Hills', 'stacked': 2, 'annoline1': 'Jamaica', 'annoline2': 'Hills', 'annoline3': None, 'annoangle': 0.0, 'borough': 'Queens', 'bbox': [-73.79646462081593, 40.71145964370482, -73.79646462081593, 40.71145964370482]}}, {'type': 'Feature', 'id': 'nyu_2451_34572.265', 'geometry': {'type': 'Point', 'coordinates': [-73.79671678028349, 40.73350025429757]}, 'geometry_name': 'geom', 'properties': {'name': 'Utopia', 'stacked': 1, 'annoline1': 'Utopia', 'annoline2': None, 'annoline3': None, 'annoangle': 0.0, 'borough': 'Queens', 'bbox': [-73.79671678028349, 40.73350025429757, -73.79671678028349, 40.73350025429757]}}, {'type': 'Feature', 'id': 'nyu_2451_34572.266', 'geometry': {'type': 'Point', 'coordinates': [-73.80486120040537, 40.73493618075478]}, 'geometry_name': 'geom', 'properties': {'name': 'Pomonok', 'stacked': 1, 'annoline1': 'Pomonok', 'annoline2': None, 'annoline3': None, 'annoangle': 0.0, 'borough': 'Queens', 'bbox': [-73.80486120040537, 40.73493618075478, -73.80486120040537, 40.73493618075478]}}, {'type': 'Feature', 'id': 'nyu_2451_34572.267', 'geometry': {'type': 'Point', 'coordinates': [-73.89467996270574, 40.7703173929982]}, 'geometry_name': 'geom', 'properties': {'name': 'Astoria Heights', 'stacked': 2, 'annoline1': 'Astoria', 'annoline2': 'Heights', 'annoline3': None, 'annoangle': 0.0, 'borough': 'Queens', 'bbox': [-73.89467996270574, 40.7703173929982, -73.89467996270574, 40.7703173929982]}}, {'type': 'Feature', 'id': 'nyu_2451_34572.268', 'geometry': {'type': 'Point', 'coordinates': [-73.90119903387667, 40.83142834161548]}, 'geometry_name': 'geom', 'properties': {'name': 'Claremont Village', 'stacked': 2, 'annoline1': 'Claremont', 'annoline2': 'Village', 'annoline3': None, 'annoangle': 0.0, 'borough': 'Bronx', 'bbox': [-73.90119903387667, 40.83142834161548, -73.90119903387667, 40.83142834161548]}}, {'type': 'Feature', 'id': 'nyu_2451_34572.269', 'geometry': {'type': 'Point', 'coordinates': [-73.91584652759009, 40.824780490842905]}, 'geometry_name': 'geom', 'properties': {'name': 'Concourse Village', 'stacked': 2, 'annoline1': 'Concourse', 'annoline2': 'Village', 'annoline3': None, 'annoangle': 0.0, 'borough': 'Bronx', 'bbox': [-73.91584652759009, 40.824780490842905, -73.91584652759009, 40.824780490842905]}}, {'type': 'Feature', 'id': 'nyu_2451_34572.270', 'geometry': {'type': 'Point', 'coordinates': [-73.91655551964419, 40.84382617671654]}, 'geometry_name': 'geom', 'properties': {'name': 'Mount Eden', 'stacked': 2, 'annoline1': 'Mount', 'annoline2': 'Eden', 'annoline3': None, 'annoangle': 0.0, 'borough': 'Bronx', 'bbox': [-73.91655551964419, 40.84382617671654, -73.91655551964419, 40.84382617671654]}}, {'type': 'Feature', 'id': 'nyu_2451_34572.271', 'geometry': {'type': 'Point', 'coordinates': [-73.90829930881988, 40.84884160724665]}, 'geometry_name': 'geom', 'properties': {'name': 'Mount Hope', 'stacked': 2, 'annoline1': 'Mount', 'annoline2': 'Hope', 'annoline3': None, 'annoangle': 0.0, 'borough': 'Bronx', 'bbox': [-73.90829930881988, 40.84884160724665, -73.90829930881988, 40.84884160724665]}}, {'type': 'Feature', 'id': 'nyu_2451_34572.272', 'geometry': {'type': 'Point', 'coordinates': [-73.96355614094303, 40.76028033131374]}, 'geometry_name': 'geom', 'properties': {'name': 'Sutton Place', 'stacked': 2, 'annoline1': 'Sutton', 'annoline2': 'Place', 'annoline3': None, 'annoangle': 0.0, 'borough': 'Manhattan', 'bbox': [-73.96355614094303, 40.76028033131374, -73.96355614094303, 40.76028033131374]}}, {'type': 'Feature', 'id': 'nyu_2451_34572.273', 'geometry': {'type': 'Point', 'coordinates': [-73.95386782130745, 40.743414090073536]}, 'geometry_name': 'geom', 'properties': {'name': 'Hunters Point', 'stacked': 2, 'annoline1': 'Hunters', 'annoline2': 'Point', 'annoline3': None, 'annoangle': 0.0, 'borough': 'Queens', 'bbox': [-73.95386782130745, 40.743414090073536, -73.95386782130745, 40.743414090073536]}}, {'type': 'Feature', 'id': 'nyu_2451_34572.274', 'geometry': {'type': 'Point', 'coordinates': [-73.96770824581834, 40.75204236950722]}, 'geometry_name': 'geom', 'properties': {'name': 'Turtle Bay', 'stacked': 2, 'annoline1': 'Turtle', 'annoline2': 'Bay', 'annoline3': None, 'annoangle': 0.0, 'borough': 'Manhattan', 'bbox': [-73.96770824581834, 40.75204236950722, -73.96770824581834, 40.75204236950722]}}, {'type': 'Feature', 'id': 'nyu_2451_34572.275', 'geometry': {'type': 'Point', 'coordinates': [-73.97121928722265, 40.746917410740195]}, 'geometry_name': 'geom', 'properties': {'name': 'Tudor City', 'stacked': 2, 'annoline1': 'Tudor', 'annoline2': 'City', 'annoline3': None, 'annoangle': 0.0, 'borough': 'Manhattan', 'bbox': [-73.97121928722265, 40.746917410740195, -73.97121928722265, 40.746917410740195]}}, {'type': 'Feature', 'id': 'nyu_2451_34572.276', 'geometry': {'type': 'Point', 'coordinates': [-73.97405170469203, 40.73099955477061]}, 'geometry_name': 'geom', 'properties': {'name': 'Stuyvesant Town', 'stacked': 2, 'annoline1': 'Stuyvesant', 'annoline2': 'Town', 'annoline3': None, 'annoangle': 0.0, 'borough': 'Manhattan', 'bbox': [-73.97405170469203, 40.73099955477061, -73.97405170469203, 40.73099955477061]}}, {'type': 'Feature', 'id': 'nyu_2451_34572.277', 'geometry': {'type': 'Point', 'coordinates': [-73.9909471052826, 40.739673047638426]}, 'geometry_name': 'geom', 'properties': {'name': 'Flatiron', 'stacked': 1, 'annoline1': 'Flatiron', 'annoline2': None, 'annoline3': None, 'annoangle': 0.0, 'borough': 'Manhattan', 'bbox': [-73.9909471052826, 40.739673047638426, -73.9909471052826, 40.739673047638426]}}, {'type': 'Feature', 'id': 'nyu_2451_34572.278', 'geometry': {'type': 'Point', 'coordinates': [-73.91819286431682, 40.74565180608076]}, 'geometry_name': 'geom', 'properties': {'name': 'Sunnyside Gardens', 'stacked': 2, 'annoline1': 'Sunnyside', 'annoline2': 'Gardens', 'annoline3': None, 'annoangle': 0.0, 'borough': 'Queens', 'bbox': [-73.91819286431682, 40.74565180608076, -73.91819286431682, 40.74565180608076]}}, {'type': 'Feature', 'id': 'nyu_2451_34572.279', 'geometry': {'type': 'Point', 'coordinates': [-73.93244235260178, 40.73725071694497]}, 'geometry_name': 'geom', 'properties': {'name': 'Blissville', 'stacked': 1, 'annoline1': 'Blissville', 'annoline2': None, 'annoline3': None, 'annoangle': 0.0, 'borough': 'Queens', 'bbox': [-73.93244235260178, 40.73725071694497, -73.93244235260178, 40.73725071694497]}}, {'type': 'Feature', 'id': 'nyu_2451_34572.280', 'geometry': {'type': 'Point', 'coordinates': [-73.99550751888415, 40.70328109093014]}, 'geometry_name': 'geom', 'properties': {'name': 'Fulton Ferry', 'stacked': 2, 'annoline1': 'Fulton', 'annoline2': 'Ferry', 'annoline3': None, 'annoangle': 0.0, 'borough': 'Brooklyn', 'bbox': [-73.99550751888415, 40.70328109093014, -73.99550751888415, 40.70328109093014]}}, {'type': 'Feature', 'id': 'nyu_2451_34572.281', 'geometry': {'type': 'Point', 'coordinates': [-73.98111603592393, 40.70332149882874]}, 'geometry_name': 'geom', 'properties': {'name': 'Vinegar Hill', 'stacked': 2, 'annoline1': 'Vinegar', 'annoline2': 'Hill', 'annoline3': None, 'annoangle': 0.0, 'borough': 'Brooklyn', 'bbox': [-73.98111603592393, 40.70332149882874, -73.98111603592393, 40.70332149882874]}}, {'type': 'Feature', 'id': 'nyu_2451_34572.282', 'geometry': {'type': 'Point', 'coordinates': [-73.93053108817338, 40.67503986503237]}, 'geometry_name': 'geom', 'properties': {'name': 'Weeksville', 'stacked': 1, 'annoline1': 'Weeksville', 'annoline2': None, 'annoline3': None, 'annoangle': 0.0, 'borough': 'Brooklyn', 'bbox': [-73.93053108817338, 40.67503986503237, -73.93053108817338, 40.67503986503237]}}, {'type': 'Feature', 'id': 'nyu_2451_34572.283', 'geometry': {'type': 'Point', 'coordinates': [-73.90331684852599, 40.67786104769531]}, 'geometry_name': 'geom', 'properties': {'name': 'Broadway Junction', 'stacked': 2, 'annoline1': 'Broadway', 'annoline2': 'Junction', 'annoline3': None, 'annoangle': 0.0, 'borough': 'Brooklyn', 'bbox': [-73.90331684852599, 40.67786104769531, -73.90331684852599, 40.67786104769531]}}, {'type': 'Feature', 'id': 'nyu_2451_34572.284', 'geometry': {'type': 'Point', 'coordinates': [-73.9887528074504, 40.70317632822692]}, 'geometry_name': 'geom', 'properties': {'name': 'Dumbo', 'stacked': 1, 'annoline1': 'Dumbo', 'annoline2': None, 'annoline3': None, 'annoangle': 0.0, 'borough': 'Brooklyn', 'bbox': [-73.9887528074504, 40.70317632822692, -73.9887528074504, 40.70317632822692]}}, {'type': 'Feature', 'id': 'nyu_2451_34572.285', 'geometry': {'type': 'Point', 'coordinates': [-74.12059399718001, 40.60180957631444]}, 'geometry_name': 'geom', 'properties': {'name': 'Manor Heights', 'stacked': 2, 'annoline1': 'Manor', 'annoline2': 'Heights', 'annoline3': None, 'annoangle': 0.0, 'borough': 'Staten Island', 'bbox': [-74.12059399718001, 40.60180957631444, -74.12059399718001, 40.60180957631444]}}, {'type': 'Feature', 'id': 'nyu_2451_34572.286', 'geometry': {'type': 'Point', 'coordinates': [-74.13208447484298, 40.60370692627371]}, 'geometry_name': 'geom', 'properties': {'name': 'Willowbrook', 'stacked': 1, 'annoline1': 'Willowbrook', 'annoline2': None, 'annoline3': None, 'annoangle': 0.0, 'borough': 'Staten Island', 'bbox': [-74.13208447484298, 40.60370692627371, -74.13208447484298, 40.60370692627371]}}, {'type': 'Feature', 'id': 'nyu_2451_34572.287', 'geometry': {'type': 'Point', 'coordinates': [-74.21776636068567, 40.541139922091766]}, 'geometry_name': 'geom', 'properties': {'name': 'Sandy Ground', 'stacked': 2, 'annoline1': 'Sandy', 'annoline2': 'Ground', 'annoline3': None, 'annoangle': 0.0, 'borough': 'Staten Island', 'bbox': [-74.21776636068567, 40.541139922091766, -74.21776636068567, 40.541139922091766]}}, {'type': 'Feature', 'id': 'nyu_2451_34572.288', 'geometry': {'type': 'Point', 'coordinates': [-74.12727240604946, 40.579118742961214]}, 'geometry_name': 'geom', 'properties': {'name': 'Egbertville', 'stacked': 1, 'annoline1': 'Egbertville', 'annoline2': None, 'annoline3': None, 'annoangle': 0.0, 'borough': 'Staten Island', 'bbox': [-74.12727240604946, 40.579118742961214, -74.12727240604946, 40.579118742961214]}}, {'type': 'Feature', 'id': 'nyu_2451_34572.289', 'geometry': {'type': 'Point', 'coordinates': [-73.89213760232822, 40.56737588957032]}, 'geometry_name': 'geom', 'properties': {'name': 'Roxbury', 'stacked': 1, 'annoline1': 'Roxbury', 'annoline2': None, 'annoline3': None, 'annoangle': 0.0, 'borough': 'Queens', 'bbox': [-73.89213760232822, 40.56737588957032, -73.89213760232822, 40.56737588957032]}}, {'type': 'Feature', 'id': 'nyu_2451_34572.290', 'geometry': {'type': 'Point', 'coordinates': [-73.95918459428702, 40.598525095137255]}, 'geometry_name': 'geom', 'properties': {'name': 'Homecrest', 'stacked': 1, 'annoline1': 'Homecrest', 'annoline2': None, 'annoline3': None, 'annoangle': 0.0, 'borough': 'Brooklyn', 'bbox': [-73.95918459428702, 40.598525095137255, -73.95918459428702, 40.598525095137255]}}, {'type': 'Feature', 'id': 'nyu_2451_34572.291', 'geometry': {'type': 'Point', 'coordinates': [-73.88114319200604, 40.716414511158185]}, 'geometry_name': 'geom', 'properties': {'name': 'Middle Village', 'stacked': 2, 'annoline1': 'Middle', 'annoline2': 'Village', 'annoline3': None, 'annoangle': 0.0, 'borough': 'Queens', 'bbox': [-73.88114319200604, 40.716414511158185, -73.88114319200604, 40.716414511158185]}}, {'type': 'Feature', 'id': 'nyu_2451_34572.292', 'geometry': {'type': 'Point', 'coordinates': [-74.20152556457658, 40.52626406734812]}, 'geometry_name': 'geom', 'properties': {'name': \"Prince's Bay\", 'stacked': 2, 'annoline1': \"Prince's\", 'annoline2': 'Bay', 'annoline3': None, 'annoangle': 0.0, 'borough': 'Staten Island', 'bbox': [-74.20152556457658, 40.52626406734812, -74.20152556457658, 40.52626406734812]}}, {'type': 'Feature', 'id': 'nyu_2451_34572.293', 'geometry': {'type': 'Point', 'coordinates': [-74.13792663771568, 40.57650629379489]}, 'geometry_name': 'geom', 'properties': {'name': 'Lighthouse Hill', 'stacked': 2, 'annoline1': 'Lighthouse', 'annoline2': 'Hill', 'annoline3': None, 'annoangle': 0.0, 'borough': 'Staten Island', 'bbox': [-74.13792663771568, 40.57650629379489, -74.13792663771568, 40.57650629379489]}}, {'type': 'Feature', 'id': 'nyu_2451_34572.294', 'geometry': {'type': 'Point', 'coordinates': [-74.22957080626941, 40.51954145748909]}, 'geometry_name': 'geom', 'properties': {'name': 'Richmond Valley', 'stacked': 2, 'annoline1': 'Richmond', 'annoline2': 'Valley', 'annoline3': None, 'annoangle': 0.0, 'borough': 'Staten Island', 'bbox': [-74.22957080626941, 40.51954145748909, -74.22957080626941, 40.51954145748909]}}, {'type': 'Feature', 'id': 'nyu_2451_34572.295', 'geometry': {'type': 'Point', 'coordinates': [-73.82667757138641, 40.79060155670148]}, 'geometry_name': 'geom', 'properties': {'name': 'Malba', 'stacked': 1, 'annoline1': 'Malba', 'annoline2': None, 'annoline3': None, 'annoangle': 0.0, 'borough': 'Queens', 'bbox': [-73.82667757138641, 40.79060155670148, -73.82667757138641, 40.79060155670148]}}, {'type': 'Feature', 'id': 'nyu_2451_34572.296', 'geometry': {'type': 'Point', 'coordinates': [-73.890345709872, 40.6819989345173]}, 'geometry_name': 'geom', 'properties': {'name': 'Highland Park', 'stacked': 2, 'annoline1': 'Highland', 'annoline2': 'Park', 'annoline3': None, 'annoangle': 0.0, 'borough': 'Brooklyn', 'bbox': [-73.890345709872, 40.6819989345173, -73.890345709872, 40.6819989345173]}}, {'type': 'Feature', 'id': 'nyu_2451_34572.297', 'geometry': {'type': 'Point', 'coordinates': [-73.94841515328893, 40.60937770113766]}, 'geometry_name': 'geom', 'properties': {'name': 'Madison', 'stacked': 1, 'annoline1': 'Madison', 'annoline2': None, 'annoline3': None, 'annoangle': 0.0, 'borough': 'Brooklyn', 'bbox': [-73.94841515328893, 40.60937770113766, -73.94841515328893, 40.60937770113766]}}, {'type': 'Feature', 'id': 'nyu_2451_34572.298', 'geometry': {'type': 'Point', 'coordinates': [-73.86172577555115, 40.85272297633017]}, 'geometry_name': 'geom', 'properties': {'name': 'Bronxdale', 'stacked': 1, 'annoline1': 'Bronxdale', 'annoline2': None, 'annoline3': None, 'annoangle': 0.0, 'borough': 'Bronx', 'bbox': [-73.86172577555115, 40.85272297633017, -73.86172577555115, 40.85272297633017]}}, {'type': 'Feature', 'id': 'nyu_2451_34572.299', 'geometry': {'type': 'Point', 'coordinates': [-73.85931863221647, 40.86578787802982]}, 'geometry_name': 'geom', 'properties': {'name': 'Allerton', 'stacked': 1, 'annoline1': 'Allerton', 'annoline2': None, 'annoline3': None, 'annoangle': 0.0, 'borough': 'Bronx', 'bbox': [-73.85931863221647, 40.86578787802982, -73.85931863221647, 40.86578787802982]}}, {'type': 'Feature', 'id': 'nyu_2451_34572.300', 'geometry': {'type': 'Point', 'coordinates': [-73.90152264513144, 40.8703923914147]}, 'geometry_name': 'geom', 'properties': {'name': 'Kingsbridge Heights', 'stacked': 2, 'annoline1': 'Kingsbridge', 'annoline2': 'Heights', 'annoline3': None, 'annoangle': 0.0, 'borough': 'Bronx', 'bbox': [-73.90152264513144, 40.8703923914147, -73.90152264513144, 40.8703923914147]}}, {'type': 'Feature', 'id': 'nyu_2451_34572.301', 'geometry': {'type': 'Point', 'coordinates': [-73.94817709920184, 40.64692606658579]}, 'geometry_name': 'geom', 'properties': {'name': 'Erasmus', 'stacked': 1, 'annoline1': 'Erasmus', 'annoline2': None, 'annoline3': None, 'annoangle': 0.0, 'borough': 'Brooklyn', 'bbox': [-73.94817709920184, 40.64692606658579, -73.94817709920184, 40.64692606658579]}}, {'type': 'Feature', 'id': 'nyu_2451_34572.302', 'geometry': {'type': 'Point', 'coordinates': [-74.00011136202637, 40.75665808227519]}, 'geometry_name': 'geom', 'properties': {'name': 'Hudson Yards', 'stacked': 2, 'annoline1': 'Hudson', 'annoline2': 'Yards', 'annoline3': None, 'annoangle': 0.0, 'borough': 'Manhattan', 'bbox': [-74.00011136202637, 40.75665808227519, -74.00011136202637, 40.75665808227519]}}, {'type': 'Feature', 'id': 'nyu_2451_34572.303', 'geometry': {'type': 'Point', 'coordinates': [-73.80553002968718, 40.58733774018741]}, 'geometry_name': 'geom', 'properties': {'name': 'Hammels', 'stacked': 1, 'annoline1': 'Hammels', 'annoline2': None, 'annoline3': None, 'annoangle': 0.0, 'borough': 'Queens', 'bbox': [-73.80553002968718, 40.58733774018741, -73.80553002968718, 40.58733774018741]}}, {'type': 'Feature', 'id': 'nyu_2451_34572.304', 'geometry': {'type': 'Point', 'coordinates': [-73.76596781445627, 40.611321691283834]}, 'geometry_name': 'geom', 'properties': {'name': 'Bayswater', 'stacked': 1, 'annoline1': 'Bayswater', 'annoline2': None, 'annoline3': None, 'annoangle': 0.0, 'borough': 'Queens', 'bbox': [-73.76596781445627, 40.611321691283834, -73.76596781445627, 40.611321691283834]}}, {'type': 'Feature', 'id': 'nyu_2451_34572.305', 'geometry': {'type': 'Point', 'coordinates': [-73.94563070334091, 40.756091297094706]}, 'geometry_name': 'geom', 'properties': {'name': 'Queensbridge', 'stacked': 1, 'annoline1': 'Queensbridge', 'annoline2': None, 'annoline3': None, 'annoangle': 0.0, 'borough': 'Queens', 'bbox': [-73.94563070334091, 40.756091297094706, -73.94563070334091, 40.756091297094706]}}, {'type': 'Feature', 'id': 'nyu_2451_34572.306', 'geometry': {'type': 'Point', 'coordinates': [-74.08173992211962, 40.61731079252983]}, 'geometry_name': 'geom', 'properties': {'name': 'Fox Hills', 'stacked': 2, 'annoline1': 'Fox', 'annoline2': 'Hills', 'annoline3': None, 'annoangle': 0.0, 'borough': 'Staten Island', 'bbox': [-74.08173992211962, 40.61731079252983, -74.08173992211962, 40.61731079252983]}}], 'crs': {'type': 'name', 'properties': {'name': 'urn:ogc:def:crs:EPSG::4326'}}, 'bbox': [-74.2492599487305, 40.5033187866211, -73.7061614990234, 40.9105606079102]}\n"
          ],
          "name": "stdout"
        }
      ]
    },
    {
      "cell_type": "code",
      "metadata": {
        "id": "NtAS3ObbkSGw"
      },
      "source": [
        "neighborhoods_data = newyork_data['features']\n",
        "neighborhoods_data[0:2]"
      ],
      "execution_count": null,
      "outputs": []
    },
    {
      "cell_type": "code",
      "metadata": {
        "colab": {
          "base_uri": "https://localhost:8080/",
          "height": 49
        },
        "id": "lD0kqyCck32X",
        "outputId": "2064e3f6-68e8-4919-9b09-cb95a2e39a35"
      },
      "source": [
        "column_names = ['Borough', 'Neighborhood', 'Latitude', 'Longitude']\n",
        "neighborhoods = pd.DataFrame(columns=column_names)\n",
        "neighborhoods"
      ],
      "execution_count": null,
      "outputs": [
        {
          "output_type": "execute_result",
          "data": {
            "text/html": [
              "<div>\n",
              "<style scoped>\n",
              "    .dataframe tbody tr th:only-of-type {\n",
              "        vertical-align: middle;\n",
              "    }\n",
              "\n",
              "    .dataframe tbody tr th {\n",
              "        vertical-align: top;\n",
              "    }\n",
              "\n",
              "    .dataframe thead th {\n",
              "        text-align: right;\n",
              "    }\n",
              "</style>\n",
              "<table border=\"1\" class=\"dataframe\">\n",
              "  <thead>\n",
              "    <tr style=\"text-align: right;\">\n",
              "      <th></th>\n",
              "      <th>Borough</th>\n",
              "      <th>Neighborhood</th>\n",
              "      <th>Latitude</th>\n",
              "      <th>Longitude</th>\n",
              "    </tr>\n",
              "  </thead>\n",
              "  <tbody>\n",
              "  </tbody>\n",
              "</table>\n",
              "</div>"
            ],
            "text/plain": [
              "Empty DataFrame\n",
              "Columns: [Borough, Neighborhood, Latitude, Longitude]\n",
              "Index: []"
            ]
          },
          "metadata": {
            "tags": []
          },
          "execution_count": 10
        }
      ]
    },
    {
      "cell_type": "code",
      "metadata": {
        "id": "4i31B_QFlFsJ"
      },
      "source": [
        "for data in neighborhoods_data:\n",
        "  borough = neighborhood_name = data['properties']['borough']\n",
        "  neighborhood_name = data['properties']['name']\n",
        "  neighborhood_latlon = data['geometry']['coordinates']\n",
        "  neighborhood_lat = neighborhood_latlon[1]\n",
        "  neighborhood_lon = neighborhood_latlon[0]\n",
        "\n",
        "  neighborhoods = neighborhoods.append({'Borough': borough,\n",
        "                                        'Neighborhood': neighborhood_name,\n",
        "                                        'Latitude': neighborhood_lat,\n",
        "                                        'Longitude': neighborhood_lon}, ignore_index = True)"
      ],
      "execution_count": null,
      "outputs": []
    },
    {
      "cell_type": "code",
      "metadata": {
        "colab": {
          "base_uri": "https://localhost:8080/",
          "height": 204
        },
        "id": "_BY_19YCnLbS",
        "outputId": "1bac354f-3a97-4de8-bf9d-d997d4659012"
      },
      "source": [
        "neighborhoods.head()"
      ],
      "execution_count": null,
      "outputs": [
        {
          "output_type": "execute_result",
          "data": {
            "text/html": [
              "<div>\n",
              "<style scoped>\n",
              "    .dataframe tbody tr th:only-of-type {\n",
              "        vertical-align: middle;\n",
              "    }\n",
              "\n",
              "    .dataframe tbody tr th {\n",
              "        vertical-align: top;\n",
              "    }\n",
              "\n",
              "    .dataframe thead th {\n",
              "        text-align: right;\n",
              "    }\n",
              "</style>\n",
              "<table border=\"1\" class=\"dataframe\">\n",
              "  <thead>\n",
              "    <tr style=\"text-align: right;\">\n",
              "      <th></th>\n",
              "      <th>Borough</th>\n",
              "      <th>Neighborhood</th>\n",
              "      <th>Latitude</th>\n",
              "      <th>Longitude</th>\n",
              "    </tr>\n",
              "  </thead>\n",
              "  <tbody>\n",
              "    <tr>\n",
              "      <th>0</th>\n",
              "      <td>Bronx</td>\n",
              "      <td>Wakefield</td>\n",
              "      <td>40.894705</td>\n",
              "      <td>-73.847201</td>\n",
              "    </tr>\n",
              "    <tr>\n",
              "      <th>1</th>\n",
              "      <td>Bronx</td>\n",
              "      <td>Co-op City</td>\n",
              "      <td>40.874294</td>\n",
              "      <td>-73.829939</td>\n",
              "    </tr>\n",
              "    <tr>\n",
              "      <th>2</th>\n",
              "      <td>Bronx</td>\n",
              "      <td>Eastchester</td>\n",
              "      <td>40.887556</td>\n",
              "      <td>-73.827806</td>\n",
              "    </tr>\n",
              "    <tr>\n",
              "      <th>3</th>\n",
              "      <td>Bronx</td>\n",
              "      <td>Fieldston</td>\n",
              "      <td>40.895437</td>\n",
              "      <td>-73.905643</td>\n",
              "    </tr>\n",
              "    <tr>\n",
              "      <th>4</th>\n",
              "      <td>Bronx</td>\n",
              "      <td>Riverdale</td>\n",
              "      <td>40.890834</td>\n",
              "      <td>-73.912585</td>\n",
              "    </tr>\n",
              "  </tbody>\n",
              "</table>\n",
              "</div>"
            ],
            "text/plain": [
              "  Borough Neighborhood   Latitude  Longitude\n",
              "0   Bronx    Wakefield  40.894705 -73.847201\n",
              "1   Bronx   Co-op City  40.874294 -73.829939\n",
              "2   Bronx  Eastchester  40.887556 -73.827806\n",
              "3   Bronx    Fieldston  40.895437 -73.905643\n",
              "4   Bronx    Riverdale  40.890834 -73.912585"
            ]
          },
          "metadata": {
            "tags": []
          },
          "execution_count": 12
        }
      ]
    },
    {
      "cell_type": "code",
      "metadata": {
        "id": "0mV8Wx-1v3WU"
      },
      "source": [
        "manhattan_data = neighborhoods[neighborhoods['Borough'] == 'Manhattan'].reset_index(drop=True)"
      ],
      "execution_count": null,
      "outputs": []
    },
    {
      "cell_type": "code",
      "metadata": {
        "colab": {
          "base_uri": "https://localhost:8080/",
          "height": 204
        },
        "id": "uAp3GjhjwChK",
        "outputId": "41d18983-12b4-4ce4-b07c-75147268e448"
      },
      "source": [
        "manhattan_data.head()"
      ],
      "execution_count": null,
      "outputs": [
        {
          "output_type": "execute_result",
          "data": {
            "text/html": [
              "<div>\n",
              "<style scoped>\n",
              "    .dataframe tbody tr th:only-of-type {\n",
              "        vertical-align: middle;\n",
              "    }\n",
              "\n",
              "    .dataframe tbody tr th {\n",
              "        vertical-align: top;\n",
              "    }\n",
              "\n",
              "    .dataframe thead th {\n",
              "        text-align: right;\n",
              "    }\n",
              "</style>\n",
              "<table border=\"1\" class=\"dataframe\">\n",
              "  <thead>\n",
              "    <tr style=\"text-align: right;\">\n",
              "      <th></th>\n",
              "      <th>Borough</th>\n",
              "      <th>Neighborhood</th>\n",
              "      <th>Latitude</th>\n",
              "      <th>Longitude</th>\n",
              "    </tr>\n",
              "  </thead>\n",
              "  <tbody>\n",
              "    <tr>\n",
              "      <th>0</th>\n",
              "      <td>Manhattan</td>\n",
              "      <td>Marble Hill</td>\n",
              "      <td>40.876551</td>\n",
              "      <td>-73.910660</td>\n",
              "    </tr>\n",
              "    <tr>\n",
              "      <th>1</th>\n",
              "      <td>Manhattan</td>\n",
              "      <td>Chinatown</td>\n",
              "      <td>40.715618</td>\n",
              "      <td>-73.994279</td>\n",
              "    </tr>\n",
              "    <tr>\n",
              "      <th>2</th>\n",
              "      <td>Manhattan</td>\n",
              "      <td>Washington Heights</td>\n",
              "      <td>40.851903</td>\n",
              "      <td>-73.936900</td>\n",
              "    </tr>\n",
              "    <tr>\n",
              "      <th>3</th>\n",
              "      <td>Manhattan</td>\n",
              "      <td>Inwood</td>\n",
              "      <td>40.867684</td>\n",
              "      <td>-73.921210</td>\n",
              "    </tr>\n",
              "    <tr>\n",
              "      <th>4</th>\n",
              "      <td>Manhattan</td>\n",
              "      <td>Hamilton Heights</td>\n",
              "      <td>40.823604</td>\n",
              "      <td>-73.949688</td>\n",
              "    </tr>\n",
              "  </tbody>\n",
              "</table>\n",
              "</div>"
            ],
            "text/plain": [
              "     Borough        Neighborhood   Latitude  Longitude\n",
              "0  Manhattan         Marble Hill  40.876551 -73.910660\n",
              "1  Manhattan           Chinatown  40.715618 -73.994279\n",
              "2  Manhattan  Washington Heights  40.851903 -73.936900\n",
              "3  Manhattan              Inwood  40.867684 -73.921210\n",
              "4  Manhattan    Hamilton Heights  40.823604 -73.949688"
            ]
          },
          "metadata": {
            "tags": []
          },
          "execution_count": 14
        }
      ]
    },
    {
      "cell_type": "markdown",
      "metadata": {
        "id": "BzGttQ2JnT0h"
      },
      "source": [
        "\n",
        "### **Analysis**\n",
        "\n",
        "As you can see, Manhattan is denser (has more neighborhoods) toward the water and the South West end of the borough, and less dense in the North East end. "
      ]
    },
    {
      "cell_type": "code",
      "metadata": {
        "colab": {
          "base_uri": "https://localhost:8080/"
        },
        "id": "4vNyq4mnwGd6",
        "outputId": "ffd02200-e9e2-4af0-8be4-2fed603b35f2"
      },
      "source": [
        "address = 'Manhattan, NY'\n",
        "\n",
        "geolocator = Nominatim(user_agent=\"ny_explorer\")\n",
        "location = geolocator.geocode(address)\n",
        "latitude = location.latitude\n",
        "longitude = location.longitude\n",
        "manhattan_center = [latitude, longitude]\n",
        "print('The geograpical coordinate of Manhattan are {}, {}.'.format(latitude, longitude))\n",
        "print(manhattan_center)"
      ],
      "execution_count": null,
      "outputs": [
        {
          "output_type": "stream",
          "text": [
            "The geograpical coordinate of Manhattan are 40.7896239, -73.9598939.\n",
            "[40.7896239, -73.9598939]\n"
          ],
          "name": "stdout"
        }
      ]
    },
    {
      "cell_type": "code",
      "metadata": {
        "colab": {
          "base_uri": "https://localhost:8080/",
          "height": 634
        },
        "id": "z7boN_RUwJ_7",
        "outputId": "6d69d156-1981-48bc-8796-64a398ba1bc8"
      },
      "source": [
        "map_manhattan = folium.Map(location=[latitude, longitude], zoom_start=11)\n",
        "\n",
        "for lat, lng, label in zip(manhattan_data['Latitude'], manhattan_data['Longitude'], manhattan_data['Neighborhood']):\n",
        "    label = folium.Popup(label, parse_html=True)\n",
        "    folium.CircleMarker(\n",
        "        [lat, lng],\n",
        "        radius=5,\n",
        "        popup=label,\n",
        "        color='blue',\n",
        "        fill=True,\n",
        "        fill_color='#3186cc',\n",
        "        fill_opacity=0.7,\n",
        "        parse_html=False).add_to(map_manhattan)  \n",
        "    \n",
        "map_manhattan"
      ],
      "execution_count": null,
      "outputs": [
        {
          "output_type": "execute_result",
          "data": {
            "text/html": [
              "<div style=\"width:100%;\"><div style=\"position:relative;width:100%;height:0;padding-bottom:60%;\"><span style=\"color:#565656\">Make this Notebook Trusted to load map: File -> Trust Notebook</span><iframe src=\"about:blank\" style=\"position:absolute;width:100%;height:100%;left:0;top:0;border:none !important;\" data-html=%3C%21DOCTYPE%20html%3E%0A%3Chead%3E%20%20%20%20%0A%20%20%20%20%3Cmeta%20http-equiv%3D%22content-type%22%20content%3D%22text/html%3B%20charset%3DUTF-8%22%20/%3E%0A%20%20%20%20%3Cscript%3EL_PREFER_CANVAS%3Dfalse%3B%20L_NO_TOUCH%3Dfalse%3B%20L_DISABLE_3D%3Dfalse%3B%3C/script%3E%0A%20%20%20%20%3Cscript%20src%3D%22https%3A//cdn.jsdelivr.net/npm/leaflet%401.4.0/dist/leaflet.js%22%3E%3C/script%3E%0A%20%20%20%20%3Cscript%20src%3D%22https%3A//code.jquery.com/jquery-1.12.4.min.js%22%3E%3C/script%3E%0A%20%20%20%20%3Cscript%20src%3D%22https%3A//maxcdn.bootstrapcdn.com/bootstrap/3.2.0/js/bootstrap.min.js%22%3E%3C/script%3E%0A%20%20%20%20%3Cscript%20src%3D%22https%3A//cdnjs.cloudflare.com/ajax/libs/Leaflet.awesome-markers/2.0.2/leaflet.awesome-markers.js%22%3E%3C/script%3E%0A%20%20%20%20%3Clink%20rel%3D%22stylesheet%22%20href%3D%22https%3A//cdn.jsdelivr.net/npm/leaflet%401.4.0/dist/leaflet.css%22/%3E%0A%20%20%20%20%3Clink%20rel%3D%22stylesheet%22%20href%3D%22https%3A//maxcdn.bootstrapcdn.com/bootstrap/3.2.0/css/bootstrap.min.css%22/%3E%0A%20%20%20%20%3Clink%20rel%3D%22stylesheet%22%20href%3D%22https%3A//maxcdn.bootstrapcdn.com/bootstrap/3.2.0/css/bootstrap-theme.min.css%22/%3E%0A%20%20%20%20%3Clink%20rel%3D%22stylesheet%22%20href%3D%22https%3A//maxcdn.bootstrapcdn.com/font-awesome/4.6.3/css/font-awesome.min.css%22/%3E%0A%20%20%20%20%3Clink%20rel%3D%22stylesheet%22%20href%3D%22https%3A//cdnjs.cloudflare.com/ajax/libs/Leaflet.awesome-markers/2.0.2/leaflet.awesome-markers.css%22/%3E%0A%20%20%20%20%3Clink%20rel%3D%22stylesheet%22%20href%3D%22https%3A//rawcdn.githack.com/python-visualization/folium/master/folium/templates/leaflet.awesome.rotate.css%22/%3E%0A%20%20%20%20%3Cstyle%3Ehtml%2C%20body%20%7Bwidth%3A%20100%25%3Bheight%3A%20100%25%3Bmargin%3A%200%3Bpadding%3A%200%3B%7D%3C/style%3E%0A%20%20%20%20%3Cstyle%3E%23map%20%7Bposition%3Aabsolute%3Btop%3A0%3Bbottom%3A0%3Bright%3A0%3Bleft%3A0%3B%7D%3C/style%3E%0A%20%20%20%20%0A%20%20%20%20%3Cmeta%20name%3D%22viewport%22%20content%3D%22width%3Ddevice-width%2C%0A%20%20%20%20%20%20%20%20initial-scale%3D1.0%2C%20maximum-scale%3D1.0%2C%20user-scalable%3Dno%22%20/%3E%0A%20%20%20%20%3Cstyle%3E%23map_96334592d01a43108eb5abd6140c664f%20%7B%0A%20%20%20%20%20%20%20%20position%3A%20relative%3B%0A%20%20%20%20%20%20%20%20width%3A%20100.0%25%3B%0A%20%20%20%20%20%20%20%20height%3A%20100.0%25%3B%0A%20%20%20%20%20%20%20%20left%3A%200.0%25%3B%0A%20%20%20%20%20%20%20%20top%3A%200.0%25%3B%0A%20%20%20%20%20%20%20%20%7D%0A%20%20%20%20%3C/style%3E%0A%3C/head%3E%0A%3Cbody%3E%20%20%20%20%0A%20%20%20%20%0A%20%20%20%20%3Cdiv%20class%3D%22folium-map%22%20id%3D%22map_96334592d01a43108eb5abd6140c664f%22%20%3E%3C/div%3E%0A%3C/body%3E%0A%3Cscript%3E%20%20%20%20%0A%20%20%20%20%0A%20%20%20%20%0A%20%20%20%20%20%20%20%20var%20bounds%20%3D%20null%3B%0A%20%20%20%20%0A%0A%20%20%20%20var%20map_96334592d01a43108eb5abd6140c664f%20%3D%20L.map%28%0A%20%20%20%20%20%20%20%20%27map_96334592d01a43108eb5abd6140c664f%27%2C%20%7B%0A%20%20%20%20%20%20%20%20center%3A%20%5B40.7896239%2C%20-73.9598939%5D%2C%0A%20%20%20%20%20%20%20%20zoom%3A%2011%2C%0A%20%20%20%20%20%20%20%20maxBounds%3A%20bounds%2C%0A%20%20%20%20%20%20%20%20layers%3A%20%5B%5D%2C%0A%20%20%20%20%20%20%20%20worldCopyJump%3A%20false%2C%0A%20%20%20%20%20%20%20%20crs%3A%20L.CRS.EPSG3857%2C%0A%20%20%20%20%20%20%20%20zoomControl%3A%20true%2C%0A%20%20%20%20%20%20%20%20%7D%29%3B%0A%0A%0A%20%20%20%20%0A%20%20%20%20var%20tile_layer_552bf558aded4085ab349e1533e0c080%20%3D%20L.tileLayer%28%0A%20%20%20%20%20%20%20%20%27https%3A//%7Bs%7D.tile.openstreetmap.org/%7Bz%7D/%7Bx%7D/%7By%7D.png%27%2C%0A%20%20%20%20%20%20%20%20%7B%0A%20%20%20%20%20%20%20%20%22attribution%22%3A%20null%2C%0A%20%20%20%20%20%20%20%20%22detectRetina%22%3A%20false%2C%0A%20%20%20%20%20%20%20%20%22maxNativeZoom%22%3A%2018%2C%0A%20%20%20%20%20%20%20%20%22maxZoom%22%3A%2018%2C%0A%20%20%20%20%20%20%20%20%22minZoom%22%3A%200%2C%0A%20%20%20%20%20%20%20%20%22noWrap%22%3A%20false%2C%0A%20%20%20%20%20%20%20%20%22opacity%22%3A%201%2C%0A%20%20%20%20%20%20%20%20%22subdomains%22%3A%20%22abc%22%2C%0A%20%20%20%20%20%20%20%20%22tms%22%3A%20false%0A%7D%29.addTo%28map_96334592d01a43108eb5abd6140c664f%29%3B%0A%20%20%20%20%0A%20%20%20%20%20%20%20%20%20%20%20%20var%20circle_marker_c63481094beb4784b57bb9c90c707f85%20%3D%20L.circleMarker%28%0A%20%20%20%20%20%20%20%20%20%20%20%20%20%20%20%20%5B40.87655077879964%2C%20-73.91065965862981%5D%2C%0A%20%20%20%20%20%20%20%20%20%20%20%20%20%20%20%20%7B%0A%20%20%22bubblingMouseEvents%22%3A%20true%2C%0A%20%20%22color%22%3A%20%22blue%22%2C%0A%20%20%22dashArray%22%3A%20null%2C%0A%20%20%22dashOffset%22%3A%20null%2C%0A%20%20%22fill%22%3A%20true%2C%0A%20%20%22fillColor%22%3A%20%22%233186cc%22%2C%0A%20%20%22fillOpacity%22%3A%200.7%2C%0A%20%20%22fillRule%22%3A%20%22evenodd%22%2C%0A%20%20%22lineCap%22%3A%20%22round%22%2C%0A%20%20%22lineJoin%22%3A%20%22round%22%2C%0A%20%20%22opacity%22%3A%201.0%2C%0A%20%20%22radius%22%3A%205%2C%0A%20%20%22stroke%22%3A%20true%2C%0A%20%20%22weight%22%3A%203%0A%7D%0A%20%20%20%20%20%20%20%20%20%20%20%20%20%20%20%20%29%0A%20%20%20%20%20%20%20%20%20%20%20%20%20%20%20%20.addTo%28map_96334592d01a43108eb5abd6140c664f%29%3B%0A%20%20%20%20%20%20%20%20%20%20%20%20%0A%20%20%20%20%0A%20%20%20%20%20%20%20%20%20%20%20%20var%20popup_71768d44c57541afa3fa6a17d11dab9a%20%3D%20L.popup%28%7BmaxWidth%3A%20%27100%25%27%0A%20%20%20%20%20%20%20%20%20%20%20%20%0A%20%20%20%20%20%20%20%20%20%20%20%20%7D%29%3B%0A%0A%20%20%20%20%20%20%20%20%20%20%20%20%0A%20%20%20%20%20%20%20%20%20%20%20%20%20%20%20%20var%20html_48c1305f25ca4b3395f60d6d8b1ef98f%20%3D%20%24%28%60%3Cdiv%20id%3D%22html_48c1305f25ca4b3395f60d6d8b1ef98f%22%20style%3D%22width%3A%20100.0%25%3B%20height%3A%20100.0%25%3B%22%3EMarble%20Hill%3C/div%3E%60%29%5B0%5D%3B%0A%20%20%20%20%20%20%20%20%20%20%20%20%20%20%20%20popup_71768d44c57541afa3fa6a17d11dab9a.setContent%28html_48c1305f25ca4b3395f60d6d8b1ef98f%29%3B%0A%20%20%20%20%20%20%20%20%20%20%20%20%0A%0A%20%20%20%20%20%20%20%20%20%20%20%20circle_marker_c63481094beb4784b57bb9c90c707f85.bindPopup%28popup_71768d44c57541afa3fa6a17d11dab9a%29%0A%20%20%20%20%20%20%20%20%20%20%20%20%3B%0A%0A%20%20%20%20%20%20%20%20%20%20%20%20%0A%20%20%20%20%20%20%20%20%0A%20%20%20%20%0A%20%20%20%20%20%20%20%20%20%20%20%20var%20circle_marker_145d23edb01242de893dd205cb823668%20%3D%20L.circleMarker%28%0A%20%20%20%20%20%20%20%20%20%20%20%20%20%20%20%20%5B40.71561842231432%2C%20-73.99427936255978%5D%2C%0A%20%20%20%20%20%20%20%20%20%20%20%20%20%20%20%20%7B%0A%20%20%22bubblingMouseEvents%22%3A%20true%2C%0A%20%20%22color%22%3A%20%22blue%22%2C%0A%20%20%22dashArray%22%3A%20null%2C%0A%20%20%22dashOffset%22%3A%20null%2C%0A%20%20%22fill%22%3A%20true%2C%0A%20%20%22fillColor%22%3A%20%22%233186cc%22%2C%0A%20%20%22fillOpacity%22%3A%200.7%2C%0A%20%20%22fillRule%22%3A%20%22evenodd%22%2C%0A%20%20%22lineCap%22%3A%20%22round%22%2C%0A%20%20%22lineJoin%22%3A%20%22round%22%2C%0A%20%20%22opacity%22%3A%201.0%2C%0A%20%20%22radius%22%3A%205%2C%0A%20%20%22stroke%22%3A%20true%2C%0A%20%20%22weight%22%3A%203%0A%7D%0A%20%20%20%20%20%20%20%20%20%20%20%20%20%20%20%20%29%0A%20%20%20%20%20%20%20%20%20%20%20%20%20%20%20%20.addTo%28map_96334592d01a43108eb5abd6140c664f%29%3B%0A%20%20%20%20%20%20%20%20%20%20%20%20%0A%20%20%20%20%0A%20%20%20%20%20%20%20%20%20%20%20%20var%20popup_dc98b515f5b7426b8f635d247bc75365%20%3D%20L.popup%28%7BmaxWidth%3A%20%27100%25%27%0A%20%20%20%20%20%20%20%20%20%20%20%20%0A%20%20%20%20%20%20%20%20%20%20%20%20%7D%29%3B%0A%0A%20%20%20%20%20%20%20%20%20%20%20%20%0A%20%20%20%20%20%20%20%20%20%20%20%20%20%20%20%20var%20html_bcd5cea5a74b45cea6fb71f336fc95c3%20%3D%20%24%28%60%3Cdiv%20id%3D%22html_bcd5cea5a74b45cea6fb71f336fc95c3%22%20style%3D%22width%3A%20100.0%25%3B%20height%3A%20100.0%25%3B%22%3EChinatown%3C/div%3E%60%29%5B0%5D%3B%0A%20%20%20%20%20%20%20%20%20%20%20%20%20%20%20%20popup_dc98b515f5b7426b8f635d247bc75365.setContent%28html_bcd5cea5a74b45cea6fb71f336fc95c3%29%3B%0A%20%20%20%20%20%20%20%20%20%20%20%20%0A%0A%20%20%20%20%20%20%20%20%20%20%20%20circle_marker_145d23edb01242de893dd205cb823668.bindPopup%28popup_dc98b515f5b7426b8f635d247bc75365%29%0A%20%20%20%20%20%20%20%20%20%20%20%20%3B%0A%0A%20%20%20%20%20%20%20%20%20%20%20%20%0A%20%20%20%20%20%20%20%20%0A%20%20%20%20%0A%20%20%20%20%20%20%20%20%20%20%20%20var%20circle_marker_2486d80c61f24a32921e10addd6f513e%20%3D%20L.circleMarker%28%0A%20%20%20%20%20%20%20%20%20%20%20%20%20%20%20%20%5B40.85190252555305%2C%20-73.93690027985234%5D%2C%0A%20%20%20%20%20%20%20%20%20%20%20%20%20%20%20%20%7B%0A%20%20%22bubblingMouseEvents%22%3A%20true%2C%0A%20%20%22color%22%3A%20%22blue%22%2C%0A%20%20%22dashArray%22%3A%20null%2C%0A%20%20%22dashOffset%22%3A%20null%2C%0A%20%20%22fill%22%3A%20true%2C%0A%20%20%22fillColor%22%3A%20%22%233186cc%22%2C%0A%20%20%22fillOpacity%22%3A%200.7%2C%0A%20%20%22fillRule%22%3A%20%22evenodd%22%2C%0A%20%20%22lineCap%22%3A%20%22round%22%2C%0A%20%20%22lineJoin%22%3A%20%22round%22%2C%0A%20%20%22opacity%22%3A%201.0%2C%0A%20%20%22radius%22%3A%205%2C%0A%20%20%22stroke%22%3A%20true%2C%0A%20%20%22weight%22%3A%203%0A%7D%0A%20%20%20%20%20%20%20%20%20%20%20%20%20%20%20%20%29%0A%20%20%20%20%20%20%20%20%20%20%20%20%20%20%20%20.addTo%28map_96334592d01a43108eb5abd6140c664f%29%3B%0A%20%20%20%20%20%20%20%20%20%20%20%20%0A%20%20%20%20%0A%20%20%20%20%20%20%20%20%20%20%20%20var%20popup_b8c20e24aac14a82a5b34c3530bf4ab3%20%3D%20L.popup%28%7BmaxWidth%3A%20%27100%25%27%0A%20%20%20%20%20%20%20%20%20%20%20%20%0A%20%20%20%20%20%20%20%20%20%20%20%20%7D%29%3B%0A%0A%20%20%20%20%20%20%20%20%20%20%20%20%0A%20%20%20%20%20%20%20%20%20%20%20%20%20%20%20%20var%20html_5ff065f1bd1d45f79a2cff70f9cc2ad8%20%3D%20%24%28%60%3Cdiv%20id%3D%22html_5ff065f1bd1d45f79a2cff70f9cc2ad8%22%20style%3D%22width%3A%20100.0%25%3B%20height%3A%20100.0%25%3B%22%3EWashington%20Heights%3C/div%3E%60%29%5B0%5D%3B%0A%20%20%20%20%20%20%20%20%20%20%20%20%20%20%20%20popup_b8c20e24aac14a82a5b34c3530bf4ab3.setContent%28html_5ff065f1bd1d45f79a2cff70f9cc2ad8%29%3B%0A%20%20%20%20%20%20%20%20%20%20%20%20%0A%0A%20%20%20%20%20%20%20%20%20%20%20%20circle_marker_2486d80c61f24a32921e10addd6f513e.bindPopup%28popup_b8c20e24aac14a82a5b34c3530bf4ab3%29%0A%20%20%20%20%20%20%20%20%20%20%20%20%3B%0A%0A%20%20%20%20%20%20%20%20%20%20%20%20%0A%20%20%20%20%20%20%20%20%0A%20%20%20%20%0A%20%20%20%20%20%20%20%20%20%20%20%20var%20circle_marker_fb3c06a185334c7182bfa7d192846871%20%3D%20L.circleMarker%28%0A%20%20%20%20%20%20%20%20%20%20%20%20%20%20%20%20%5B40.86768396449915%2C%20-73.92121042203897%5D%2C%0A%20%20%20%20%20%20%20%20%20%20%20%20%20%20%20%20%7B%0A%20%20%22bubblingMouseEvents%22%3A%20true%2C%0A%20%20%22color%22%3A%20%22blue%22%2C%0A%20%20%22dashArray%22%3A%20null%2C%0A%20%20%22dashOffset%22%3A%20null%2C%0A%20%20%22fill%22%3A%20true%2C%0A%20%20%22fillColor%22%3A%20%22%233186cc%22%2C%0A%20%20%22fillOpacity%22%3A%200.7%2C%0A%20%20%22fillRule%22%3A%20%22evenodd%22%2C%0A%20%20%22lineCap%22%3A%20%22round%22%2C%0A%20%20%22lineJoin%22%3A%20%22round%22%2C%0A%20%20%22opacity%22%3A%201.0%2C%0A%20%20%22radius%22%3A%205%2C%0A%20%20%22stroke%22%3A%20true%2C%0A%20%20%22weight%22%3A%203%0A%7D%0A%20%20%20%20%20%20%20%20%20%20%20%20%20%20%20%20%29%0A%20%20%20%20%20%20%20%20%20%20%20%20%20%20%20%20.addTo%28map_96334592d01a43108eb5abd6140c664f%29%3B%0A%20%20%20%20%20%20%20%20%20%20%20%20%0A%20%20%20%20%0A%20%20%20%20%20%20%20%20%20%20%20%20var%20popup_8f24d39c01614f9d9467a736cd6b7830%20%3D%20L.popup%28%7BmaxWidth%3A%20%27100%25%27%0A%20%20%20%20%20%20%20%20%20%20%20%20%0A%20%20%20%20%20%20%20%20%20%20%20%20%7D%29%3B%0A%0A%20%20%20%20%20%20%20%20%20%20%20%20%0A%20%20%20%20%20%20%20%20%20%20%20%20%20%20%20%20var%20html_531d147f1d024922b40b42f489c4edf8%20%3D%20%24%28%60%3Cdiv%20id%3D%22html_531d147f1d024922b40b42f489c4edf8%22%20style%3D%22width%3A%20100.0%25%3B%20height%3A%20100.0%25%3B%22%3EInwood%3C/div%3E%60%29%5B0%5D%3B%0A%20%20%20%20%20%20%20%20%20%20%20%20%20%20%20%20popup_8f24d39c01614f9d9467a736cd6b7830.setContent%28html_531d147f1d024922b40b42f489c4edf8%29%3B%0A%20%20%20%20%20%20%20%20%20%20%20%20%0A%0A%20%20%20%20%20%20%20%20%20%20%20%20circle_marker_fb3c06a185334c7182bfa7d192846871.bindPopup%28popup_8f24d39c01614f9d9467a736cd6b7830%29%0A%20%20%20%20%20%20%20%20%20%20%20%20%3B%0A%0A%20%20%20%20%20%20%20%20%20%20%20%20%0A%20%20%20%20%20%20%20%20%0A%20%20%20%20%0A%20%20%20%20%20%20%20%20%20%20%20%20var%20circle_marker_56c7af97d41f43a4ab4f3dbfd3f736bf%20%3D%20L.circleMarker%28%0A%20%20%20%20%20%20%20%20%20%20%20%20%20%20%20%20%5B40.823604284811935%2C%20-73.94968791883366%5D%2C%0A%20%20%20%20%20%20%20%20%20%20%20%20%20%20%20%20%7B%0A%20%20%22bubblingMouseEvents%22%3A%20true%2C%0A%20%20%22color%22%3A%20%22blue%22%2C%0A%20%20%22dashArray%22%3A%20null%2C%0A%20%20%22dashOffset%22%3A%20null%2C%0A%20%20%22fill%22%3A%20true%2C%0A%20%20%22fillColor%22%3A%20%22%233186cc%22%2C%0A%20%20%22fillOpacity%22%3A%200.7%2C%0A%20%20%22fillRule%22%3A%20%22evenodd%22%2C%0A%20%20%22lineCap%22%3A%20%22round%22%2C%0A%20%20%22lineJoin%22%3A%20%22round%22%2C%0A%20%20%22opacity%22%3A%201.0%2C%0A%20%20%22radius%22%3A%205%2C%0A%20%20%22stroke%22%3A%20true%2C%0A%20%20%22weight%22%3A%203%0A%7D%0A%20%20%20%20%20%20%20%20%20%20%20%20%20%20%20%20%29%0A%20%20%20%20%20%20%20%20%20%20%20%20%20%20%20%20.addTo%28map_96334592d01a43108eb5abd6140c664f%29%3B%0A%20%20%20%20%20%20%20%20%20%20%20%20%0A%20%20%20%20%0A%20%20%20%20%20%20%20%20%20%20%20%20var%20popup_8614ca4c28f94a68ae0fc190069b1b3c%20%3D%20L.popup%28%7BmaxWidth%3A%20%27100%25%27%0A%20%20%20%20%20%20%20%20%20%20%20%20%0A%20%20%20%20%20%20%20%20%20%20%20%20%7D%29%3B%0A%0A%20%20%20%20%20%20%20%20%20%20%20%20%0A%20%20%20%20%20%20%20%20%20%20%20%20%20%20%20%20var%20html_75e17ce1d0084daba4a4edb432e36845%20%3D%20%24%28%60%3Cdiv%20id%3D%22html_75e17ce1d0084daba4a4edb432e36845%22%20style%3D%22width%3A%20100.0%25%3B%20height%3A%20100.0%25%3B%22%3EHamilton%20Heights%3C/div%3E%60%29%5B0%5D%3B%0A%20%20%20%20%20%20%20%20%20%20%20%20%20%20%20%20popup_8614ca4c28f94a68ae0fc190069b1b3c.setContent%28html_75e17ce1d0084daba4a4edb432e36845%29%3B%0A%20%20%20%20%20%20%20%20%20%20%20%20%0A%0A%20%20%20%20%20%20%20%20%20%20%20%20circle_marker_56c7af97d41f43a4ab4f3dbfd3f736bf.bindPopup%28popup_8614ca4c28f94a68ae0fc190069b1b3c%29%0A%20%20%20%20%20%20%20%20%20%20%20%20%3B%0A%0A%20%20%20%20%20%20%20%20%20%20%20%20%0A%20%20%20%20%20%20%20%20%0A%20%20%20%20%0A%20%20%20%20%20%20%20%20%20%20%20%20var%20circle_marker_935a25468e3b4a268df71f8130993602%20%3D%20L.circleMarker%28%0A%20%20%20%20%20%20%20%20%20%20%20%20%20%20%20%20%5B40.8169344294978%2C%20-73.9573853935188%5D%2C%0A%20%20%20%20%20%20%20%20%20%20%20%20%20%20%20%20%7B%0A%20%20%22bubblingMouseEvents%22%3A%20true%2C%0A%20%20%22color%22%3A%20%22blue%22%2C%0A%20%20%22dashArray%22%3A%20null%2C%0A%20%20%22dashOffset%22%3A%20null%2C%0A%20%20%22fill%22%3A%20true%2C%0A%20%20%22fillColor%22%3A%20%22%233186cc%22%2C%0A%20%20%22fillOpacity%22%3A%200.7%2C%0A%20%20%22fillRule%22%3A%20%22evenodd%22%2C%0A%20%20%22lineCap%22%3A%20%22round%22%2C%0A%20%20%22lineJoin%22%3A%20%22round%22%2C%0A%20%20%22opacity%22%3A%201.0%2C%0A%20%20%22radius%22%3A%205%2C%0A%20%20%22stroke%22%3A%20true%2C%0A%20%20%22weight%22%3A%203%0A%7D%0A%20%20%20%20%20%20%20%20%20%20%20%20%20%20%20%20%29%0A%20%20%20%20%20%20%20%20%20%20%20%20%20%20%20%20.addTo%28map_96334592d01a43108eb5abd6140c664f%29%3B%0A%20%20%20%20%20%20%20%20%20%20%20%20%0A%20%20%20%20%0A%20%20%20%20%20%20%20%20%20%20%20%20var%20popup_8b1aa10796e848c6bcbc2140d554f51d%20%3D%20L.popup%28%7BmaxWidth%3A%20%27100%25%27%0A%20%20%20%20%20%20%20%20%20%20%20%20%0A%20%20%20%20%20%20%20%20%20%20%20%20%7D%29%3B%0A%0A%20%20%20%20%20%20%20%20%20%20%20%20%0A%20%20%20%20%20%20%20%20%20%20%20%20%20%20%20%20var%20html_5ea0d8baac11467bbce81cc62ff1b84d%20%3D%20%24%28%60%3Cdiv%20id%3D%22html_5ea0d8baac11467bbce81cc62ff1b84d%22%20style%3D%22width%3A%20100.0%25%3B%20height%3A%20100.0%25%3B%22%3EManhattanville%3C/div%3E%60%29%5B0%5D%3B%0A%20%20%20%20%20%20%20%20%20%20%20%20%20%20%20%20popup_8b1aa10796e848c6bcbc2140d554f51d.setContent%28html_5ea0d8baac11467bbce81cc62ff1b84d%29%3B%0A%20%20%20%20%20%20%20%20%20%20%20%20%0A%0A%20%20%20%20%20%20%20%20%20%20%20%20circle_marker_935a25468e3b4a268df71f8130993602.bindPopup%28popup_8b1aa10796e848c6bcbc2140d554f51d%29%0A%20%20%20%20%20%20%20%20%20%20%20%20%3B%0A%0A%20%20%20%20%20%20%20%20%20%20%20%20%0A%20%20%20%20%20%20%20%20%0A%20%20%20%20%0A%20%20%20%20%20%20%20%20%20%20%20%20var%20circle_marker_5b493fce10ff4590a8b507f43616e14b%20%3D%20L.circleMarker%28%0A%20%20%20%20%20%20%20%20%20%20%20%20%20%20%20%20%5B40.81597606742414%2C%20-73.94321112603905%5D%2C%0A%20%20%20%20%20%20%20%20%20%20%20%20%20%20%20%20%7B%0A%20%20%22bubblingMouseEvents%22%3A%20true%2C%0A%20%20%22color%22%3A%20%22blue%22%2C%0A%20%20%22dashArray%22%3A%20null%2C%0A%20%20%22dashOffset%22%3A%20null%2C%0A%20%20%22fill%22%3A%20true%2C%0A%20%20%22fillColor%22%3A%20%22%233186cc%22%2C%0A%20%20%22fillOpacity%22%3A%200.7%2C%0A%20%20%22fillRule%22%3A%20%22evenodd%22%2C%0A%20%20%22lineCap%22%3A%20%22round%22%2C%0A%20%20%22lineJoin%22%3A%20%22round%22%2C%0A%20%20%22opacity%22%3A%201.0%2C%0A%20%20%22radius%22%3A%205%2C%0A%20%20%22stroke%22%3A%20true%2C%0A%20%20%22weight%22%3A%203%0A%7D%0A%20%20%20%20%20%20%20%20%20%20%20%20%20%20%20%20%29%0A%20%20%20%20%20%20%20%20%20%20%20%20%20%20%20%20.addTo%28map_96334592d01a43108eb5abd6140c664f%29%3B%0A%20%20%20%20%20%20%20%20%20%20%20%20%0A%20%20%20%20%0A%20%20%20%20%20%20%20%20%20%20%20%20var%20popup_f4bb5ba4cadf43b19032de585104aad8%20%3D%20L.popup%28%7BmaxWidth%3A%20%27100%25%27%0A%20%20%20%20%20%20%20%20%20%20%20%20%0A%20%20%20%20%20%20%20%20%20%20%20%20%7D%29%3B%0A%0A%20%20%20%20%20%20%20%20%20%20%20%20%0A%20%20%20%20%20%20%20%20%20%20%20%20%20%20%20%20var%20html_b50843d0b6de4dc5859c3bfaa936db59%20%3D%20%24%28%60%3Cdiv%20id%3D%22html_b50843d0b6de4dc5859c3bfaa936db59%22%20style%3D%22width%3A%20100.0%25%3B%20height%3A%20100.0%25%3B%22%3ECentral%20Harlem%3C/div%3E%60%29%5B0%5D%3B%0A%20%20%20%20%20%20%20%20%20%20%20%20%20%20%20%20popup_f4bb5ba4cadf43b19032de585104aad8.setContent%28html_b50843d0b6de4dc5859c3bfaa936db59%29%3B%0A%20%20%20%20%20%20%20%20%20%20%20%20%0A%0A%20%20%20%20%20%20%20%20%20%20%20%20circle_marker_5b493fce10ff4590a8b507f43616e14b.bindPopup%28popup_f4bb5ba4cadf43b19032de585104aad8%29%0A%20%20%20%20%20%20%20%20%20%20%20%20%3B%0A%0A%20%20%20%20%20%20%20%20%20%20%20%20%0A%20%20%20%20%20%20%20%20%0A%20%20%20%20%0A%20%20%20%20%20%20%20%20%20%20%20%20var%20circle_marker_dfd6859bc0f3450288872342f78ecb49%20%3D%20L.circleMarker%28%0A%20%20%20%20%20%20%20%20%20%20%20%20%20%20%20%20%5B40.79224946663033%2C%20-73.94418223148524%5D%2C%0A%20%20%20%20%20%20%20%20%20%20%20%20%20%20%20%20%7B%0A%20%20%22bubblingMouseEvents%22%3A%20true%2C%0A%20%20%22color%22%3A%20%22blue%22%2C%0A%20%20%22dashArray%22%3A%20null%2C%0A%20%20%22dashOffset%22%3A%20null%2C%0A%20%20%22fill%22%3A%20true%2C%0A%20%20%22fillColor%22%3A%20%22%233186cc%22%2C%0A%20%20%22fillOpacity%22%3A%200.7%2C%0A%20%20%22fillRule%22%3A%20%22evenodd%22%2C%0A%20%20%22lineCap%22%3A%20%22round%22%2C%0A%20%20%22lineJoin%22%3A%20%22round%22%2C%0A%20%20%22opacity%22%3A%201.0%2C%0A%20%20%22radius%22%3A%205%2C%0A%20%20%22stroke%22%3A%20true%2C%0A%20%20%22weight%22%3A%203%0A%7D%0A%20%20%20%20%20%20%20%20%20%20%20%20%20%20%20%20%29%0A%20%20%20%20%20%20%20%20%20%20%20%20%20%20%20%20.addTo%28map_96334592d01a43108eb5abd6140c664f%29%3B%0A%20%20%20%20%20%20%20%20%20%20%20%20%0A%20%20%20%20%0A%20%20%20%20%20%20%20%20%20%20%20%20var%20popup_1372da2bcafd4663adb12e51eba2dd8a%20%3D%20L.popup%28%7BmaxWidth%3A%20%27100%25%27%0A%20%20%20%20%20%20%20%20%20%20%20%20%0A%20%20%20%20%20%20%20%20%20%20%20%20%7D%29%3B%0A%0A%20%20%20%20%20%20%20%20%20%20%20%20%0A%20%20%20%20%20%20%20%20%20%20%20%20%20%20%20%20var%20html_a1841ab20f3f4d9da0b60d6249e0396d%20%3D%20%24%28%60%3Cdiv%20id%3D%22html_a1841ab20f3f4d9da0b60d6249e0396d%22%20style%3D%22width%3A%20100.0%25%3B%20height%3A%20100.0%25%3B%22%3EEast%20Harlem%3C/div%3E%60%29%5B0%5D%3B%0A%20%20%20%20%20%20%20%20%20%20%20%20%20%20%20%20popup_1372da2bcafd4663adb12e51eba2dd8a.setContent%28html_a1841ab20f3f4d9da0b60d6249e0396d%29%3B%0A%20%20%20%20%20%20%20%20%20%20%20%20%0A%0A%20%20%20%20%20%20%20%20%20%20%20%20circle_marker_dfd6859bc0f3450288872342f78ecb49.bindPopup%28popup_1372da2bcafd4663adb12e51eba2dd8a%29%0A%20%20%20%20%20%20%20%20%20%20%20%20%3B%0A%0A%20%20%20%20%20%20%20%20%20%20%20%20%0A%20%20%20%20%20%20%20%20%0A%20%20%20%20%0A%20%20%20%20%20%20%20%20%20%20%20%20var%20circle_marker_d4baca1a760c404e8014b2a9f07ad0c1%20%3D%20L.circleMarker%28%0A%20%20%20%20%20%20%20%20%20%20%20%20%20%20%20%20%5B40.775638573301805%2C%20-73.96050763135%5D%2C%0A%20%20%20%20%20%20%20%20%20%20%20%20%20%20%20%20%7B%0A%20%20%22bubblingMouseEvents%22%3A%20true%2C%0A%20%20%22color%22%3A%20%22blue%22%2C%0A%20%20%22dashArray%22%3A%20null%2C%0A%20%20%22dashOffset%22%3A%20null%2C%0A%20%20%22fill%22%3A%20true%2C%0A%20%20%22fillColor%22%3A%20%22%233186cc%22%2C%0A%20%20%22fillOpacity%22%3A%200.7%2C%0A%20%20%22fillRule%22%3A%20%22evenodd%22%2C%0A%20%20%22lineCap%22%3A%20%22round%22%2C%0A%20%20%22lineJoin%22%3A%20%22round%22%2C%0A%20%20%22opacity%22%3A%201.0%2C%0A%20%20%22radius%22%3A%205%2C%0A%20%20%22stroke%22%3A%20true%2C%0A%20%20%22weight%22%3A%203%0A%7D%0A%20%20%20%20%20%20%20%20%20%20%20%20%20%20%20%20%29%0A%20%20%20%20%20%20%20%20%20%20%20%20%20%20%20%20.addTo%28map_96334592d01a43108eb5abd6140c664f%29%3B%0A%20%20%20%20%20%20%20%20%20%20%20%20%0A%20%20%20%20%0A%20%20%20%20%20%20%20%20%20%20%20%20var%20popup_6d97b28a0dc14735a1d7e5db2044884b%20%3D%20L.popup%28%7BmaxWidth%3A%20%27100%25%27%0A%20%20%20%20%20%20%20%20%20%20%20%20%0A%20%20%20%20%20%20%20%20%20%20%20%20%7D%29%3B%0A%0A%20%20%20%20%20%20%20%20%20%20%20%20%0A%20%20%20%20%20%20%20%20%20%20%20%20%20%20%20%20var%20html_b14cc6ce476e4cf4ad633826ac45ccb7%20%3D%20%24%28%60%3Cdiv%20id%3D%22html_b14cc6ce476e4cf4ad633826ac45ccb7%22%20style%3D%22width%3A%20100.0%25%3B%20height%3A%20100.0%25%3B%22%3EUpper%20East%20Side%3C/div%3E%60%29%5B0%5D%3B%0A%20%20%20%20%20%20%20%20%20%20%20%20%20%20%20%20popup_6d97b28a0dc14735a1d7e5db2044884b.setContent%28html_b14cc6ce476e4cf4ad633826ac45ccb7%29%3B%0A%20%20%20%20%20%20%20%20%20%20%20%20%0A%0A%20%20%20%20%20%20%20%20%20%20%20%20circle_marker_d4baca1a760c404e8014b2a9f07ad0c1.bindPopup%28popup_6d97b28a0dc14735a1d7e5db2044884b%29%0A%20%20%20%20%20%20%20%20%20%20%20%20%3B%0A%0A%20%20%20%20%20%20%20%20%20%20%20%20%0A%20%20%20%20%20%20%20%20%0A%20%20%20%20%0A%20%20%20%20%20%20%20%20%20%20%20%20var%20circle_marker_8d96517e2164405da6cbcec6e77460d2%20%3D%20L.circleMarker%28%0A%20%20%20%20%20%20%20%20%20%20%20%20%20%20%20%20%5B40.775929849884875%2C%20-73.94711784471826%5D%2C%0A%20%20%20%20%20%20%20%20%20%20%20%20%20%20%20%20%7B%0A%20%20%22bubblingMouseEvents%22%3A%20true%2C%0A%20%20%22color%22%3A%20%22blue%22%2C%0A%20%20%22dashArray%22%3A%20null%2C%0A%20%20%22dashOffset%22%3A%20null%2C%0A%20%20%22fill%22%3A%20true%2C%0A%20%20%22fillColor%22%3A%20%22%233186cc%22%2C%0A%20%20%22fillOpacity%22%3A%200.7%2C%0A%20%20%22fillRule%22%3A%20%22evenodd%22%2C%0A%20%20%22lineCap%22%3A%20%22round%22%2C%0A%20%20%22lineJoin%22%3A%20%22round%22%2C%0A%20%20%22opacity%22%3A%201.0%2C%0A%20%20%22radius%22%3A%205%2C%0A%20%20%22stroke%22%3A%20true%2C%0A%20%20%22weight%22%3A%203%0A%7D%0A%20%20%20%20%20%20%20%20%20%20%20%20%20%20%20%20%29%0A%20%20%20%20%20%20%20%20%20%20%20%20%20%20%20%20.addTo%28map_96334592d01a43108eb5abd6140c664f%29%3B%0A%20%20%20%20%20%20%20%20%20%20%20%20%0A%20%20%20%20%0A%20%20%20%20%20%20%20%20%20%20%20%20var%20popup_fb12c3cd526a462a9d9be5ca4d3ef83b%20%3D%20L.popup%28%7BmaxWidth%3A%20%27100%25%27%0A%20%20%20%20%20%20%20%20%20%20%20%20%0A%20%20%20%20%20%20%20%20%20%20%20%20%7D%29%3B%0A%0A%20%20%20%20%20%20%20%20%20%20%20%20%0A%20%20%20%20%20%20%20%20%20%20%20%20%20%20%20%20var%20html_fbcdf7aef4894ccdacf12253029fe652%20%3D%20%24%28%60%3Cdiv%20id%3D%22html_fbcdf7aef4894ccdacf12253029fe652%22%20style%3D%22width%3A%20100.0%25%3B%20height%3A%20100.0%25%3B%22%3EYorkville%3C/div%3E%60%29%5B0%5D%3B%0A%20%20%20%20%20%20%20%20%20%20%20%20%20%20%20%20popup_fb12c3cd526a462a9d9be5ca4d3ef83b.setContent%28html_fbcdf7aef4894ccdacf12253029fe652%29%3B%0A%20%20%20%20%20%20%20%20%20%20%20%20%0A%0A%20%20%20%20%20%20%20%20%20%20%20%20circle_marker_8d96517e2164405da6cbcec6e77460d2.bindPopup%28popup_fb12c3cd526a462a9d9be5ca4d3ef83b%29%0A%20%20%20%20%20%20%20%20%20%20%20%20%3B%0A%0A%20%20%20%20%20%20%20%20%20%20%20%20%0A%20%20%20%20%20%20%20%20%0A%20%20%20%20%0A%20%20%20%20%20%20%20%20%20%20%20%20var%20circle_marker_8175dddb9ef04a1eba94879a32214665%20%3D%20L.circleMarker%28%0A%20%20%20%20%20%20%20%20%20%20%20%20%20%20%20%20%5B40.76811265828733%2C%20-73.9588596881376%5D%2C%0A%20%20%20%20%20%20%20%20%20%20%20%20%20%20%20%20%7B%0A%20%20%22bubblingMouseEvents%22%3A%20true%2C%0A%20%20%22color%22%3A%20%22blue%22%2C%0A%20%20%22dashArray%22%3A%20null%2C%0A%20%20%22dashOffset%22%3A%20null%2C%0A%20%20%22fill%22%3A%20true%2C%0A%20%20%22fillColor%22%3A%20%22%233186cc%22%2C%0A%20%20%22fillOpacity%22%3A%200.7%2C%0A%20%20%22fillRule%22%3A%20%22evenodd%22%2C%0A%20%20%22lineCap%22%3A%20%22round%22%2C%0A%20%20%22lineJoin%22%3A%20%22round%22%2C%0A%20%20%22opacity%22%3A%201.0%2C%0A%20%20%22radius%22%3A%205%2C%0A%20%20%22stroke%22%3A%20true%2C%0A%20%20%22weight%22%3A%203%0A%7D%0A%20%20%20%20%20%20%20%20%20%20%20%20%20%20%20%20%29%0A%20%20%20%20%20%20%20%20%20%20%20%20%20%20%20%20.addTo%28map_96334592d01a43108eb5abd6140c664f%29%3B%0A%20%20%20%20%20%20%20%20%20%20%20%20%0A%20%20%20%20%0A%20%20%20%20%20%20%20%20%20%20%20%20var%20popup_c7893f39310749d4bce3f3521932c40b%20%3D%20L.popup%28%7BmaxWidth%3A%20%27100%25%27%0A%20%20%20%20%20%20%20%20%20%20%20%20%0A%20%20%20%20%20%20%20%20%20%20%20%20%7D%29%3B%0A%0A%20%20%20%20%20%20%20%20%20%20%20%20%0A%20%20%20%20%20%20%20%20%20%20%20%20%20%20%20%20var%20html_1972fe297bf24940b6e321a6a9dfffc6%20%3D%20%24%28%60%3Cdiv%20id%3D%22html_1972fe297bf24940b6e321a6a9dfffc6%22%20style%3D%22width%3A%20100.0%25%3B%20height%3A%20100.0%25%3B%22%3ELenox%20Hill%3C/div%3E%60%29%5B0%5D%3B%0A%20%20%20%20%20%20%20%20%20%20%20%20%20%20%20%20popup_c7893f39310749d4bce3f3521932c40b.setContent%28html_1972fe297bf24940b6e321a6a9dfffc6%29%3B%0A%20%20%20%20%20%20%20%20%20%20%20%20%0A%0A%20%20%20%20%20%20%20%20%20%20%20%20circle_marker_8175dddb9ef04a1eba94879a32214665.bindPopup%28popup_c7893f39310749d4bce3f3521932c40b%29%0A%20%20%20%20%20%20%20%20%20%20%20%20%3B%0A%0A%20%20%20%20%20%20%20%20%20%20%20%20%0A%20%20%20%20%20%20%20%20%0A%20%20%20%20%0A%20%20%20%20%20%20%20%20%20%20%20%20var%20circle_marker_7a61ec16edab4863bb2568440c1bb23c%20%3D%20L.circleMarker%28%0A%20%20%20%20%20%20%20%20%20%20%20%20%20%20%20%20%5B40.76215960576283%2C%20-73.94916769227953%5D%2C%0A%20%20%20%20%20%20%20%20%20%20%20%20%20%20%20%20%7B%0A%20%20%22bubblingMouseEvents%22%3A%20true%2C%0A%20%20%22color%22%3A%20%22blue%22%2C%0A%20%20%22dashArray%22%3A%20null%2C%0A%20%20%22dashOffset%22%3A%20null%2C%0A%20%20%22fill%22%3A%20true%2C%0A%20%20%22fillColor%22%3A%20%22%233186cc%22%2C%0A%20%20%22fillOpacity%22%3A%200.7%2C%0A%20%20%22fillRule%22%3A%20%22evenodd%22%2C%0A%20%20%22lineCap%22%3A%20%22round%22%2C%0A%20%20%22lineJoin%22%3A%20%22round%22%2C%0A%20%20%22opacity%22%3A%201.0%2C%0A%20%20%22radius%22%3A%205%2C%0A%20%20%22stroke%22%3A%20true%2C%0A%20%20%22weight%22%3A%203%0A%7D%0A%20%20%20%20%20%20%20%20%20%20%20%20%20%20%20%20%29%0A%20%20%20%20%20%20%20%20%20%20%20%20%20%20%20%20.addTo%28map_96334592d01a43108eb5abd6140c664f%29%3B%0A%20%20%20%20%20%20%20%20%20%20%20%20%0A%20%20%20%20%0A%20%20%20%20%20%20%20%20%20%20%20%20var%20popup_e2fd81cd5b1643728be865ed63570c1d%20%3D%20L.popup%28%7BmaxWidth%3A%20%27100%25%27%0A%20%20%20%20%20%20%20%20%20%20%20%20%0A%20%20%20%20%20%20%20%20%20%20%20%20%7D%29%3B%0A%0A%20%20%20%20%20%20%20%20%20%20%20%20%0A%20%20%20%20%20%20%20%20%20%20%20%20%20%20%20%20var%20html_93519a3a252a47c7879de5d817c767be%20%3D%20%24%28%60%3Cdiv%20id%3D%22html_93519a3a252a47c7879de5d817c767be%22%20style%3D%22width%3A%20100.0%25%3B%20height%3A%20100.0%25%3B%22%3ERoosevelt%20Island%3C/div%3E%60%29%5B0%5D%3B%0A%20%20%20%20%20%20%20%20%20%20%20%20%20%20%20%20popup_e2fd81cd5b1643728be865ed63570c1d.setContent%28html_93519a3a252a47c7879de5d817c767be%29%3B%0A%20%20%20%20%20%20%20%20%20%20%20%20%0A%0A%20%20%20%20%20%20%20%20%20%20%20%20circle_marker_7a61ec16edab4863bb2568440c1bb23c.bindPopup%28popup_e2fd81cd5b1643728be865ed63570c1d%29%0A%20%20%20%20%20%20%20%20%20%20%20%20%3B%0A%0A%20%20%20%20%20%20%20%20%20%20%20%20%0A%20%20%20%20%20%20%20%20%0A%20%20%20%20%0A%20%20%20%20%20%20%20%20%20%20%20%20var%20circle_marker_42bd56d397d5461e94715c1997c28b67%20%3D%20L.circleMarker%28%0A%20%20%20%20%20%20%20%20%20%20%20%20%20%20%20%20%5B40.787657998534854%2C%20-73.97705923630603%5D%2C%0A%20%20%20%20%20%20%20%20%20%20%20%20%20%20%20%20%7B%0A%20%20%22bubblingMouseEvents%22%3A%20true%2C%0A%20%20%22color%22%3A%20%22blue%22%2C%0A%20%20%22dashArray%22%3A%20null%2C%0A%20%20%22dashOffset%22%3A%20null%2C%0A%20%20%22fill%22%3A%20true%2C%0A%20%20%22fillColor%22%3A%20%22%233186cc%22%2C%0A%20%20%22fillOpacity%22%3A%200.7%2C%0A%20%20%22fillRule%22%3A%20%22evenodd%22%2C%0A%20%20%22lineCap%22%3A%20%22round%22%2C%0A%20%20%22lineJoin%22%3A%20%22round%22%2C%0A%20%20%22opacity%22%3A%201.0%2C%0A%20%20%22radius%22%3A%205%2C%0A%20%20%22stroke%22%3A%20true%2C%0A%20%20%22weight%22%3A%203%0A%7D%0A%20%20%20%20%20%20%20%20%20%20%20%20%20%20%20%20%29%0A%20%20%20%20%20%20%20%20%20%20%20%20%20%20%20%20.addTo%28map_96334592d01a43108eb5abd6140c664f%29%3B%0A%20%20%20%20%20%20%20%20%20%20%20%20%0A%20%20%20%20%0A%20%20%20%20%20%20%20%20%20%20%20%20var%20popup_bf6732bd67764efe9c4cb4675979bbe8%20%3D%20L.popup%28%7BmaxWidth%3A%20%27100%25%27%0A%20%20%20%20%20%20%20%20%20%20%20%20%0A%20%20%20%20%20%20%20%20%20%20%20%20%7D%29%3B%0A%0A%20%20%20%20%20%20%20%20%20%20%20%20%0A%20%20%20%20%20%20%20%20%20%20%20%20%20%20%20%20var%20html_dbe9ebe4e5ab4751ad08f7a6864acba4%20%3D%20%24%28%60%3Cdiv%20id%3D%22html_dbe9ebe4e5ab4751ad08f7a6864acba4%22%20style%3D%22width%3A%20100.0%25%3B%20height%3A%20100.0%25%3B%22%3EUpper%20West%20Side%3C/div%3E%60%29%5B0%5D%3B%0A%20%20%20%20%20%20%20%20%20%20%20%20%20%20%20%20popup_bf6732bd67764efe9c4cb4675979bbe8.setContent%28html_dbe9ebe4e5ab4751ad08f7a6864acba4%29%3B%0A%20%20%20%20%20%20%20%20%20%20%20%20%0A%0A%20%20%20%20%20%20%20%20%20%20%20%20circle_marker_42bd56d397d5461e94715c1997c28b67.bindPopup%28popup_bf6732bd67764efe9c4cb4675979bbe8%29%0A%20%20%20%20%20%20%20%20%20%20%20%20%3B%0A%0A%20%20%20%20%20%20%20%20%20%20%20%20%0A%20%20%20%20%20%20%20%20%0A%20%20%20%20%0A%20%20%20%20%20%20%20%20%20%20%20%20var%20circle_marker_aa734db3529b4f8ba330364ea6cede56%20%3D%20L.circleMarker%28%0A%20%20%20%20%20%20%20%20%20%20%20%20%20%20%20%20%5B40.77352888942166%2C%20-73.98533777001262%5D%2C%0A%20%20%20%20%20%20%20%20%20%20%20%20%20%20%20%20%7B%0A%20%20%22bubblingMouseEvents%22%3A%20true%2C%0A%20%20%22color%22%3A%20%22blue%22%2C%0A%20%20%22dashArray%22%3A%20null%2C%0A%20%20%22dashOffset%22%3A%20null%2C%0A%20%20%22fill%22%3A%20true%2C%0A%20%20%22fillColor%22%3A%20%22%233186cc%22%2C%0A%20%20%22fillOpacity%22%3A%200.7%2C%0A%20%20%22fillRule%22%3A%20%22evenodd%22%2C%0A%20%20%22lineCap%22%3A%20%22round%22%2C%0A%20%20%22lineJoin%22%3A%20%22round%22%2C%0A%20%20%22opacity%22%3A%201.0%2C%0A%20%20%22radius%22%3A%205%2C%0A%20%20%22stroke%22%3A%20true%2C%0A%20%20%22weight%22%3A%203%0A%7D%0A%20%20%20%20%20%20%20%20%20%20%20%20%20%20%20%20%29%0A%20%20%20%20%20%20%20%20%20%20%20%20%20%20%20%20.addTo%28map_96334592d01a43108eb5abd6140c664f%29%3B%0A%20%20%20%20%20%20%20%20%20%20%20%20%0A%20%20%20%20%0A%20%20%20%20%20%20%20%20%20%20%20%20var%20popup_f4718c3303a644c08ac2e17e29a0e550%20%3D%20L.popup%28%7BmaxWidth%3A%20%27100%25%27%0A%20%20%20%20%20%20%20%20%20%20%20%20%0A%20%20%20%20%20%20%20%20%20%20%20%20%7D%29%3B%0A%0A%20%20%20%20%20%20%20%20%20%20%20%20%0A%20%20%20%20%20%20%20%20%20%20%20%20%20%20%20%20var%20html_cb9e6251d5e947f38186aefbc178066c%20%3D%20%24%28%60%3Cdiv%20id%3D%22html_cb9e6251d5e947f38186aefbc178066c%22%20style%3D%22width%3A%20100.0%25%3B%20height%3A%20100.0%25%3B%22%3ELincoln%20Square%3C/div%3E%60%29%5B0%5D%3B%0A%20%20%20%20%20%20%20%20%20%20%20%20%20%20%20%20popup_f4718c3303a644c08ac2e17e29a0e550.setContent%28html_cb9e6251d5e947f38186aefbc178066c%29%3B%0A%20%20%20%20%20%20%20%20%20%20%20%20%0A%0A%20%20%20%20%20%20%20%20%20%20%20%20circle_marker_aa734db3529b4f8ba330364ea6cede56.bindPopup%28popup_f4718c3303a644c08ac2e17e29a0e550%29%0A%20%20%20%20%20%20%20%20%20%20%20%20%3B%0A%0A%20%20%20%20%20%20%20%20%20%20%20%20%0A%20%20%20%20%20%20%20%20%0A%20%20%20%20%0A%20%20%20%20%20%20%20%20%20%20%20%20var%20circle_marker_10079ddc0d01482fa2bb26054af78f51%20%3D%20L.circleMarker%28%0A%20%20%20%20%20%20%20%20%20%20%20%20%20%20%20%20%5B40.75910089146212%2C%20-73.99611936309479%5D%2C%0A%20%20%20%20%20%20%20%20%20%20%20%20%20%20%20%20%7B%0A%20%20%22bubblingMouseEvents%22%3A%20true%2C%0A%20%20%22color%22%3A%20%22blue%22%2C%0A%20%20%22dashArray%22%3A%20null%2C%0A%20%20%22dashOffset%22%3A%20null%2C%0A%20%20%22fill%22%3A%20true%2C%0A%20%20%22fillColor%22%3A%20%22%233186cc%22%2C%0A%20%20%22fillOpacity%22%3A%200.7%2C%0A%20%20%22fillRule%22%3A%20%22evenodd%22%2C%0A%20%20%22lineCap%22%3A%20%22round%22%2C%0A%20%20%22lineJoin%22%3A%20%22round%22%2C%0A%20%20%22opacity%22%3A%201.0%2C%0A%20%20%22radius%22%3A%205%2C%0A%20%20%22stroke%22%3A%20true%2C%0A%20%20%22weight%22%3A%203%0A%7D%0A%20%20%20%20%20%20%20%20%20%20%20%20%20%20%20%20%29%0A%20%20%20%20%20%20%20%20%20%20%20%20%20%20%20%20.addTo%28map_96334592d01a43108eb5abd6140c664f%29%3B%0A%20%20%20%20%20%20%20%20%20%20%20%20%0A%20%20%20%20%0A%20%20%20%20%20%20%20%20%20%20%20%20var%20popup_82b7d5843dd242839dadbd3d5f824faf%20%3D%20L.popup%28%7BmaxWidth%3A%20%27100%25%27%0A%20%20%20%20%20%20%20%20%20%20%20%20%0A%20%20%20%20%20%20%20%20%20%20%20%20%7D%29%3B%0A%0A%20%20%20%20%20%20%20%20%20%20%20%20%0A%20%20%20%20%20%20%20%20%20%20%20%20%20%20%20%20var%20html_4cc38fbefd88483e83cabd04b7fbcb66%20%3D%20%24%28%60%3Cdiv%20id%3D%22html_4cc38fbefd88483e83cabd04b7fbcb66%22%20style%3D%22width%3A%20100.0%25%3B%20height%3A%20100.0%25%3B%22%3EClinton%3C/div%3E%60%29%5B0%5D%3B%0A%20%20%20%20%20%20%20%20%20%20%20%20%20%20%20%20popup_82b7d5843dd242839dadbd3d5f824faf.setContent%28html_4cc38fbefd88483e83cabd04b7fbcb66%29%3B%0A%20%20%20%20%20%20%20%20%20%20%20%20%0A%0A%20%20%20%20%20%20%20%20%20%20%20%20circle_marker_10079ddc0d01482fa2bb26054af78f51.bindPopup%28popup_82b7d5843dd242839dadbd3d5f824faf%29%0A%20%20%20%20%20%20%20%20%20%20%20%20%3B%0A%0A%20%20%20%20%20%20%20%20%20%20%20%20%0A%20%20%20%20%20%20%20%20%0A%20%20%20%20%0A%20%20%20%20%20%20%20%20%20%20%20%20var%20circle_marker_1ec7c5c6532a4a48b3e9a1a745f6732a%20%3D%20L.circleMarker%28%0A%20%20%20%20%20%20%20%20%20%20%20%20%20%20%20%20%5B40.75469110270623%2C%20-73.98166882730304%5D%2C%0A%20%20%20%20%20%20%20%20%20%20%20%20%20%20%20%20%7B%0A%20%20%22bubblingMouseEvents%22%3A%20true%2C%0A%20%20%22color%22%3A%20%22blue%22%2C%0A%20%20%22dashArray%22%3A%20null%2C%0A%20%20%22dashOffset%22%3A%20null%2C%0A%20%20%22fill%22%3A%20true%2C%0A%20%20%22fillColor%22%3A%20%22%233186cc%22%2C%0A%20%20%22fillOpacity%22%3A%200.7%2C%0A%20%20%22fillRule%22%3A%20%22evenodd%22%2C%0A%20%20%22lineCap%22%3A%20%22round%22%2C%0A%20%20%22lineJoin%22%3A%20%22round%22%2C%0A%20%20%22opacity%22%3A%201.0%2C%0A%20%20%22radius%22%3A%205%2C%0A%20%20%22stroke%22%3A%20true%2C%0A%20%20%22weight%22%3A%203%0A%7D%0A%20%20%20%20%20%20%20%20%20%20%20%20%20%20%20%20%29%0A%20%20%20%20%20%20%20%20%20%20%20%20%20%20%20%20.addTo%28map_96334592d01a43108eb5abd6140c664f%29%3B%0A%20%20%20%20%20%20%20%20%20%20%20%20%0A%20%20%20%20%0A%20%20%20%20%20%20%20%20%20%20%20%20var%20popup_5ce2d7ba462f4c80acca048bea56761f%20%3D%20L.popup%28%7BmaxWidth%3A%20%27100%25%27%0A%20%20%20%20%20%20%20%20%20%20%20%20%0A%20%20%20%20%20%20%20%20%20%20%20%20%7D%29%3B%0A%0A%20%20%20%20%20%20%20%20%20%20%20%20%0A%20%20%20%20%20%20%20%20%20%20%20%20%20%20%20%20var%20html_9ac19bf910d94f5dbc576efcfc1715a4%20%3D%20%24%28%60%3Cdiv%20id%3D%22html_9ac19bf910d94f5dbc576efcfc1715a4%22%20style%3D%22width%3A%20100.0%25%3B%20height%3A%20100.0%25%3B%22%3EMidtown%3C/div%3E%60%29%5B0%5D%3B%0A%20%20%20%20%20%20%20%20%20%20%20%20%20%20%20%20popup_5ce2d7ba462f4c80acca048bea56761f.setContent%28html_9ac19bf910d94f5dbc576efcfc1715a4%29%3B%0A%20%20%20%20%20%20%20%20%20%20%20%20%0A%0A%20%20%20%20%20%20%20%20%20%20%20%20circle_marker_1ec7c5c6532a4a48b3e9a1a745f6732a.bindPopup%28popup_5ce2d7ba462f4c80acca048bea56761f%29%0A%20%20%20%20%20%20%20%20%20%20%20%20%3B%0A%0A%20%20%20%20%20%20%20%20%20%20%20%20%0A%20%20%20%20%20%20%20%20%0A%20%20%20%20%0A%20%20%20%20%20%20%20%20%20%20%20%20var%20circle_marker_96d36b27bf8b481896a9df5ffff56f32%20%3D%20L.circleMarker%28%0A%20%20%20%20%20%20%20%20%20%20%20%20%20%20%20%20%5B40.748303077252174%2C%20-73.97833207924127%5D%2C%0A%20%20%20%20%20%20%20%20%20%20%20%20%20%20%20%20%7B%0A%20%20%22bubblingMouseEvents%22%3A%20true%2C%0A%20%20%22color%22%3A%20%22blue%22%2C%0A%20%20%22dashArray%22%3A%20null%2C%0A%20%20%22dashOffset%22%3A%20null%2C%0A%20%20%22fill%22%3A%20true%2C%0A%20%20%22fillColor%22%3A%20%22%233186cc%22%2C%0A%20%20%22fillOpacity%22%3A%200.7%2C%0A%20%20%22fillRule%22%3A%20%22evenodd%22%2C%0A%20%20%22lineCap%22%3A%20%22round%22%2C%0A%20%20%22lineJoin%22%3A%20%22round%22%2C%0A%20%20%22opacity%22%3A%201.0%2C%0A%20%20%22radius%22%3A%205%2C%0A%20%20%22stroke%22%3A%20true%2C%0A%20%20%22weight%22%3A%203%0A%7D%0A%20%20%20%20%20%20%20%20%20%20%20%20%20%20%20%20%29%0A%20%20%20%20%20%20%20%20%20%20%20%20%20%20%20%20.addTo%28map_96334592d01a43108eb5abd6140c664f%29%3B%0A%20%20%20%20%20%20%20%20%20%20%20%20%0A%20%20%20%20%0A%20%20%20%20%20%20%20%20%20%20%20%20var%20popup_d5a1231d5e764d27b6a6806ce10457cf%20%3D%20L.popup%28%7BmaxWidth%3A%20%27100%25%27%0A%20%20%20%20%20%20%20%20%20%20%20%20%0A%20%20%20%20%20%20%20%20%20%20%20%20%7D%29%3B%0A%0A%20%20%20%20%20%20%20%20%20%20%20%20%0A%20%20%20%20%20%20%20%20%20%20%20%20%20%20%20%20var%20html_ed742a2a3fdd4d36b537cdc455f3bd70%20%3D%20%24%28%60%3Cdiv%20id%3D%22html_ed742a2a3fdd4d36b537cdc455f3bd70%22%20style%3D%22width%3A%20100.0%25%3B%20height%3A%20100.0%25%3B%22%3EMurray%20Hill%3C/div%3E%60%29%5B0%5D%3B%0A%20%20%20%20%20%20%20%20%20%20%20%20%20%20%20%20popup_d5a1231d5e764d27b6a6806ce10457cf.setContent%28html_ed742a2a3fdd4d36b537cdc455f3bd70%29%3B%0A%20%20%20%20%20%20%20%20%20%20%20%20%0A%0A%20%20%20%20%20%20%20%20%20%20%20%20circle_marker_96d36b27bf8b481896a9df5ffff56f32.bindPopup%28popup_d5a1231d5e764d27b6a6806ce10457cf%29%0A%20%20%20%20%20%20%20%20%20%20%20%20%3B%0A%0A%20%20%20%20%20%20%20%20%20%20%20%20%0A%20%20%20%20%20%20%20%20%0A%20%20%20%20%0A%20%20%20%20%20%20%20%20%20%20%20%20var%20circle_marker_846e99849a9e441fa6c573aa31a4c975%20%3D%20L.circleMarker%28%0A%20%20%20%20%20%20%20%20%20%20%20%20%20%20%20%20%5B40.744034706747975%2C%20-74.00311633472813%5D%2C%0A%20%20%20%20%20%20%20%20%20%20%20%20%20%20%20%20%7B%0A%20%20%22bubblingMouseEvents%22%3A%20true%2C%0A%20%20%22color%22%3A%20%22blue%22%2C%0A%20%20%22dashArray%22%3A%20null%2C%0A%20%20%22dashOffset%22%3A%20null%2C%0A%20%20%22fill%22%3A%20true%2C%0A%20%20%22fillColor%22%3A%20%22%233186cc%22%2C%0A%20%20%22fillOpacity%22%3A%200.7%2C%0A%20%20%22fillRule%22%3A%20%22evenodd%22%2C%0A%20%20%22lineCap%22%3A%20%22round%22%2C%0A%20%20%22lineJoin%22%3A%20%22round%22%2C%0A%20%20%22opacity%22%3A%201.0%2C%0A%20%20%22radius%22%3A%205%2C%0A%20%20%22stroke%22%3A%20true%2C%0A%20%20%22weight%22%3A%203%0A%7D%0A%20%20%20%20%20%20%20%20%20%20%20%20%20%20%20%20%29%0A%20%20%20%20%20%20%20%20%20%20%20%20%20%20%20%20.addTo%28map_96334592d01a43108eb5abd6140c664f%29%3B%0A%20%20%20%20%20%20%20%20%20%20%20%20%0A%20%20%20%20%0A%20%20%20%20%20%20%20%20%20%20%20%20var%20popup_c3b71b605fb049e987b98daa88916584%20%3D%20L.popup%28%7BmaxWidth%3A%20%27100%25%27%0A%20%20%20%20%20%20%20%20%20%20%20%20%0A%20%20%20%20%20%20%20%20%20%20%20%20%7D%29%3B%0A%0A%20%20%20%20%20%20%20%20%20%20%20%20%0A%20%20%20%20%20%20%20%20%20%20%20%20%20%20%20%20var%20html_fb4f5185cd2f4eb396faf4099c9a8e91%20%3D%20%24%28%60%3Cdiv%20id%3D%22html_fb4f5185cd2f4eb396faf4099c9a8e91%22%20style%3D%22width%3A%20100.0%25%3B%20height%3A%20100.0%25%3B%22%3EChelsea%3C/div%3E%60%29%5B0%5D%3B%0A%20%20%20%20%20%20%20%20%20%20%20%20%20%20%20%20popup_c3b71b605fb049e987b98daa88916584.setContent%28html_fb4f5185cd2f4eb396faf4099c9a8e91%29%3B%0A%20%20%20%20%20%20%20%20%20%20%20%20%0A%0A%20%20%20%20%20%20%20%20%20%20%20%20circle_marker_846e99849a9e441fa6c573aa31a4c975.bindPopup%28popup_c3b71b605fb049e987b98daa88916584%29%0A%20%20%20%20%20%20%20%20%20%20%20%20%3B%0A%0A%20%20%20%20%20%20%20%20%20%20%20%20%0A%20%20%20%20%20%20%20%20%0A%20%20%20%20%0A%20%20%20%20%20%20%20%20%20%20%20%20var%20circle_marker_267ec9b307a34dba849082bd4a98232c%20%3D%20L.circleMarker%28%0A%20%20%20%20%20%20%20%20%20%20%20%20%20%20%20%20%5B40.72693288536128%2C%20-73.99991402945902%5D%2C%0A%20%20%20%20%20%20%20%20%20%20%20%20%20%20%20%20%7B%0A%20%20%22bubblingMouseEvents%22%3A%20true%2C%0A%20%20%22color%22%3A%20%22blue%22%2C%0A%20%20%22dashArray%22%3A%20null%2C%0A%20%20%22dashOffset%22%3A%20null%2C%0A%20%20%22fill%22%3A%20true%2C%0A%20%20%22fillColor%22%3A%20%22%233186cc%22%2C%0A%20%20%22fillOpacity%22%3A%200.7%2C%0A%20%20%22fillRule%22%3A%20%22evenodd%22%2C%0A%20%20%22lineCap%22%3A%20%22round%22%2C%0A%20%20%22lineJoin%22%3A%20%22round%22%2C%0A%20%20%22opacity%22%3A%201.0%2C%0A%20%20%22radius%22%3A%205%2C%0A%20%20%22stroke%22%3A%20true%2C%0A%20%20%22weight%22%3A%203%0A%7D%0A%20%20%20%20%20%20%20%20%20%20%20%20%20%20%20%20%29%0A%20%20%20%20%20%20%20%20%20%20%20%20%20%20%20%20.addTo%28map_96334592d01a43108eb5abd6140c664f%29%3B%0A%20%20%20%20%20%20%20%20%20%20%20%20%0A%20%20%20%20%0A%20%20%20%20%20%20%20%20%20%20%20%20var%20popup_eda5f85bcb7a466b9ed4b0e59dc8cc5a%20%3D%20L.popup%28%7BmaxWidth%3A%20%27100%25%27%0A%20%20%20%20%20%20%20%20%20%20%20%20%0A%20%20%20%20%20%20%20%20%20%20%20%20%7D%29%3B%0A%0A%20%20%20%20%20%20%20%20%20%20%20%20%0A%20%20%20%20%20%20%20%20%20%20%20%20%20%20%20%20var%20html_d0c0f4f74e2e4bbe85263c015727b52b%20%3D%20%24%28%60%3Cdiv%20id%3D%22html_d0c0f4f74e2e4bbe85263c015727b52b%22%20style%3D%22width%3A%20100.0%25%3B%20height%3A%20100.0%25%3B%22%3EGreenwich%20Village%3C/div%3E%60%29%5B0%5D%3B%0A%20%20%20%20%20%20%20%20%20%20%20%20%20%20%20%20popup_eda5f85bcb7a466b9ed4b0e59dc8cc5a.setContent%28html_d0c0f4f74e2e4bbe85263c015727b52b%29%3B%0A%20%20%20%20%20%20%20%20%20%20%20%20%0A%0A%20%20%20%20%20%20%20%20%20%20%20%20circle_marker_267ec9b307a34dba849082bd4a98232c.bindPopup%28popup_eda5f85bcb7a466b9ed4b0e59dc8cc5a%29%0A%20%20%20%20%20%20%20%20%20%20%20%20%3B%0A%0A%20%20%20%20%20%20%20%20%20%20%20%20%0A%20%20%20%20%20%20%20%20%0A%20%20%20%20%0A%20%20%20%20%20%20%20%20%20%20%20%20var%20circle_marker_b2b9cbad63ac4ecd81c407027a547cf5%20%3D%20L.circleMarker%28%0A%20%20%20%20%20%20%20%20%20%20%20%20%20%20%20%20%5B40.727846777270244%2C%20-73.98222616506416%5D%2C%0A%20%20%20%20%20%20%20%20%20%20%20%20%20%20%20%20%7B%0A%20%20%22bubblingMouseEvents%22%3A%20true%2C%0A%20%20%22color%22%3A%20%22blue%22%2C%0A%20%20%22dashArray%22%3A%20null%2C%0A%20%20%22dashOffset%22%3A%20null%2C%0A%20%20%22fill%22%3A%20true%2C%0A%20%20%22fillColor%22%3A%20%22%233186cc%22%2C%0A%20%20%22fillOpacity%22%3A%200.7%2C%0A%20%20%22fillRule%22%3A%20%22evenodd%22%2C%0A%20%20%22lineCap%22%3A%20%22round%22%2C%0A%20%20%22lineJoin%22%3A%20%22round%22%2C%0A%20%20%22opacity%22%3A%201.0%2C%0A%20%20%22radius%22%3A%205%2C%0A%20%20%22stroke%22%3A%20true%2C%0A%20%20%22weight%22%3A%203%0A%7D%0A%20%20%20%20%20%20%20%20%20%20%20%20%20%20%20%20%29%0A%20%20%20%20%20%20%20%20%20%20%20%20%20%20%20%20.addTo%28map_96334592d01a43108eb5abd6140c664f%29%3B%0A%20%20%20%20%20%20%20%20%20%20%20%20%0A%20%20%20%20%0A%20%20%20%20%20%20%20%20%20%20%20%20var%20popup_1d8c306f3d66423cb94c134fc5ac05b0%20%3D%20L.popup%28%7BmaxWidth%3A%20%27100%25%27%0A%20%20%20%20%20%20%20%20%20%20%20%20%0A%20%20%20%20%20%20%20%20%20%20%20%20%7D%29%3B%0A%0A%20%20%20%20%20%20%20%20%20%20%20%20%0A%20%20%20%20%20%20%20%20%20%20%20%20%20%20%20%20var%20html_8f7745674af54d76b55e46b887c8084b%20%3D%20%24%28%60%3Cdiv%20id%3D%22html_8f7745674af54d76b55e46b887c8084b%22%20style%3D%22width%3A%20100.0%25%3B%20height%3A%20100.0%25%3B%22%3EEast%20Village%3C/div%3E%60%29%5B0%5D%3B%0A%20%20%20%20%20%20%20%20%20%20%20%20%20%20%20%20popup_1d8c306f3d66423cb94c134fc5ac05b0.setContent%28html_8f7745674af54d76b55e46b887c8084b%29%3B%0A%20%20%20%20%20%20%20%20%20%20%20%20%0A%0A%20%20%20%20%20%20%20%20%20%20%20%20circle_marker_b2b9cbad63ac4ecd81c407027a547cf5.bindPopup%28popup_1d8c306f3d66423cb94c134fc5ac05b0%29%0A%20%20%20%20%20%20%20%20%20%20%20%20%3B%0A%0A%20%20%20%20%20%20%20%20%20%20%20%20%0A%20%20%20%20%20%20%20%20%0A%20%20%20%20%0A%20%20%20%20%20%20%20%20%20%20%20%20var%20circle_marker_803ba63275b44eacb7e073c3c3d5ca83%20%3D%20L.circleMarker%28%0A%20%20%20%20%20%20%20%20%20%20%20%20%20%20%20%20%5B40.71780674892765%2C%20-73.98089031999291%5D%2C%0A%20%20%20%20%20%20%20%20%20%20%20%20%20%20%20%20%7B%0A%20%20%22bubblingMouseEvents%22%3A%20true%2C%0A%20%20%22color%22%3A%20%22blue%22%2C%0A%20%20%22dashArray%22%3A%20null%2C%0A%20%20%22dashOffset%22%3A%20null%2C%0A%20%20%22fill%22%3A%20true%2C%0A%20%20%22fillColor%22%3A%20%22%233186cc%22%2C%0A%20%20%22fillOpacity%22%3A%200.7%2C%0A%20%20%22fillRule%22%3A%20%22evenodd%22%2C%0A%20%20%22lineCap%22%3A%20%22round%22%2C%0A%20%20%22lineJoin%22%3A%20%22round%22%2C%0A%20%20%22opacity%22%3A%201.0%2C%0A%20%20%22radius%22%3A%205%2C%0A%20%20%22stroke%22%3A%20true%2C%0A%20%20%22weight%22%3A%203%0A%7D%0A%20%20%20%20%20%20%20%20%20%20%20%20%20%20%20%20%29%0A%20%20%20%20%20%20%20%20%20%20%20%20%20%20%20%20.addTo%28map_96334592d01a43108eb5abd6140c664f%29%3B%0A%20%20%20%20%20%20%20%20%20%20%20%20%0A%20%20%20%20%0A%20%20%20%20%20%20%20%20%20%20%20%20var%20popup_1a8588dab24a4a0ea0a6a1058b3bf922%20%3D%20L.popup%28%7BmaxWidth%3A%20%27100%25%27%0A%20%20%20%20%20%20%20%20%20%20%20%20%0A%20%20%20%20%20%20%20%20%20%20%20%20%7D%29%3B%0A%0A%20%20%20%20%20%20%20%20%20%20%20%20%0A%20%20%20%20%20%20%20%20%20%20%20%20%20%20%20%20var%20html_2c2832741adc440b84e9dc61d2b57c20%20%3D%20%24%28%60%3Cdiv%20id%3D%22html_2c2832741adc440b84e9dc61d2b57c20%22%20style%3D%22width%3A%20100.0%25%3B%20height%3A%20100.0%25%3B%22%3ELower%20East%20Side%3C/div%3E%60%29%5B0%5D%3B%0A%20%20%20%20%20%20%20%20%20%20%20%20%20%20%20%20popup_1a8588dab24a4a0ea0a6a1058b3bf922.setContent%28html_2c2832741adc440b84e9dc61d2b57c20%29%3B%0A%20%20%20%20%20%20%20%20%20%20%20%20%0A%0A%20%20%20%20%20%20%20%20%20%20%20%20circle_marker_803ba63275b44eacb7e073c3c3d5ca83.bindPopup%28popup_1a8588dab24a4a0ea0a6a1058b3bf922%29%0A%20%20%20%20%20%20%20%20%20%20%20%20%3B%0A%0A%20%20%20%20%20%20%20%20%20%20%20%20%0A%20%20%20%20%20%20%20%20%0A%20%20%20%20%0A%20%20%20%20%20%20%20%20%20%20%20%20var%20circle_marker_0a363a904e3c41a1bea2d2e420be5f12%20%3D%20L.circleMarker%28%0A%20%20%20%20%20%20%20%20%20%20%20%20%20%20%20%20%5B40.721521967443216%2C%20-74.01068328559087%5D%2C%0A%20%20%20%20%20%20%20%20%20%20%20%20%20%20%20%20%7B%0A%20%20%22bubblingMouseEvents%22%3A%20true%2C%0A%20%20%22color%22%3A%20%22blue%22%2C%0A%20%20%22dashArray%22%3A%20null%2C%0A%20%20%22dashOffset%22%3A%20null%2C%0A%20%20%22fill%22%3A%20true%2C%0A%20%20%22fillColor%22%3A%20%22%233186cc%22%2C%0A%20%20%22fillOpacity%22%3A%200.7%2C%0A%20%20%22fillRule%22%3A%20%22evenodd%22%2C%0A%20%20%22lineCap%22%3A%20%22round%22%2C%0A%20%20%22lineJoin%22%3A%20%22round%22%2C%0A%20%20%22opacity%22%3A%201.0%2C%0A%20%20%22radius%22%3A%205%2C%0A%20%20%22stroke%22%3A%20true%2C%0A%20%20%22weight%22%3A%203%0A%7D%0A%20%20%20%20%20%20%20%20%20%20%20%20%20%20%20%20%29%0A%20%20%20%20%20%20%20%20%20%20%20%20%20%20%20%20.addTo%28map_96334592d01a43108eb5abd6140c664f%29%3B%0A%20%20%20%20%20%20%20%20%20%20%20%20%0A%20%20%20%20%0A%20%20%20%20%20%20%20%20%20%20%20%20var%20popup_7d135c2c8360461cbc95ff0f8265be44%20%3D%20L.popup%28%7BmaxWidth%3A%20%27100%25%27%0A%20%20%20%20%20%20%20%20%20%20%20%20%0A%20%20%20%20%20%20%20%20%20%20%20%20%7D%29%3B%0A%0A%20%20%20%20%20%20%20%20%20%20%20%20%0A%20%20%20%20%20%20%20%20%20%20%20%20%20%20%20%20var%20html_7a28040d184b4491832aba6187f38894%20%3D%20%24%28%60%3Cdiv%20id%3D%22html_7a28040d184b4491832aba6187f38894%22%20style%3D%22width%3A%20100.0%25%3B%20height%3A%20100.0%25%3B%22%3ETribeca%3C/div%3E%60%29%5B0%5D%3B%0A%20%20%20%20%20%20%20%20%20%20%20%20%20%20%20%20popup_7d135c2c8360461cbc95ff0f8265be44.setContent%28html_7a28040d184b4491832aba6187f38894%29%3B%0A%20%20%20%20%20%20%20%20%20%20%20%20%0A%0A%20%20%20%20%20%20%20%20%20%20%20%20circle_marker_0a363a904e3c41a1bea2d2e420be5f12.bindPopup%28popup_7d135c2c8360461cbc95ff0f8265be44%29%0A%20%20%20%20%20%20%20%20%20%20%20%20%3B%0A%0A%20%20%20%20%20%20%20%20%20%20%20%20%0A%20%20%20%20%20%20%20%20%0A%20%20%20%20%0A%20%20%20%20%20%20%20%20%20%20%20%20var%20circle_marker_8a7746dc26a94520b4ef20525c0998c8%20%3D%20L.circleMarker%28%0A%20%20%20%20%20%20%20%20%20%20%20%20%20%20%20%20%5B40.71932379395907%2C%20-73.99730467208073%5D%2C%0A%20%20%20%20%20%20%20%20%20%20%20%20%20%20%20%20%7B%0A%20%20%22bubblingMouseEvents%22%3A%20true%2C%0A%20%20%22color%22%3A%20%22blue%22%2C%0A%20%20%22dashArray%22%3A%20null%2C%0A%20%20%22dashOffset%22%3A%20null%2C%0A%20%20%22fill%22%3A%20true%2C%0A%20%20%22fillColor%22%3A%20%22%233186cc%22%2C%0A%20%20%22fillOpacity%22%3A%200.7%2C%0A%20%20%22fillRule%22%3A%20%22evenodd%22%2C%0A%20%20%22lineCap%22%3A%20%22round%22%2C%0A%20%20%22lineJoin%22%3A%20%22round%22%2C%0A%20%20%22opacity%22%3A%201.0%2C%0A%20%20%22radius%22%3A%205%2C%0A%20%20%22stroke%22%3A%20true%2C%0A%20%20%22weight%22%3A%203%0A%7D%0A%20%20%20%20%20%20%20%20%20%20%20%20%20%20%20%20%29%0A%20%20%20%20%20%20%20%20%20%20%20%20%20%20%20%20.addTo%28map_96334592d01a43108eb5abd6140c664f%29%3B%0A%20%20%20%20%20%20%20%20%20%20%20%20%0A%20%20%20%20%0A%20%20%20%20%20%20%20%20%20%20%20%20var%20popup_37222d3d2d9442768302aa9c59d28ad4%20%3D%20L.popup%28%7BmaxWidth%3A%20%27100%25%27%0A%20%20%20%20%20%20%20%20%20%20%20%20%0A%20%20%20%20%20%20%20%20%20%20%20%20%7D%29%3B%0A%0A%20%20%20%20%20%20%20%20%20%20%20%20%0A%20%20%20%20%20%20%20%20%20%20%20%20%20%20%20%20var%20html_3dd6d9483e9d453ebb65027aededcdea%20%3D%20%24%28%60%3Cdiv%20id%3D%22html_3dd6d9483e9d453ebb65027aededcdea%22%20style%3D%22width%3A%20100.0%25%3B%20height%3A%20100.0%25%3B%22%3ELittle%20Italy%3C/div%3E%60%29%5B0%5D%3B%0A%20%20%20%20%20%20%20%20%20%20%20%20%20%20%20%20popup_37222d3d2d9442768302aa9c59d28ad4.setContent%28html_3dd6d9483e9d453ebb65027aededcdea%29%3B%0A%20%20%20%20%20%20%20%20%20%20%20%20%0A%0A%20%20%20%20%20%20%20%20%20%20%20%20circle_marker_8a7746dc26a94520b4ef20525c0998c8.bindPopup%28popup_37222d3d2d9442768302aa9c59d28ad4%29%0A%20%20%20%20%20%20%20%20%20%20%20%20%3B%0A%0A%20%20%20%20%20%20%20%20%20%20%20%20%0A%20%20%20%20%20%20%20%20%0A%20%20%20%20%0A%20%20%20%20%20%20%20%20%20%20%20%20var%20circle_marker_eec4d8f66e004276afd5d561d4e90b38%20%3D%20L.circleMarker%28%0A%20%20%20%20%20%20%20%20%20%20%20%20%20%20%20%20%5B40.72218384131794%2C%20-74.00065666959759%5D%2C%0A%20%20%20%20%20%20%20%20%20%20%20%20%20%20%20%20%7B%0A%20%20%22bubblingMouseEvents%22%3A%20true%2C%0A%20%20%22color%22%3A%20%22blue%22%2C%0A%20%20%22dashArray%22%3A%20null%2C%0A%20%20%22dashOffset%22%3A%20null%2C%0A%20%20%22fill%22%3A%20true%2C%0A%20%20%22fillColor%22%3A%20%22%233186cc%22%2C%0A%20%20%22fillOpacity%22%3A%200.7%2C%0A%20%20%22fillRule%22%3A%20%22evenodd%22%2C%0A%20%20%22lineCap%22%3A%20%22round%22%2C%0A%20%20%22lineJoin%22%3A%20%22round%22%2C%0A%20%20%22opacity%22%3A%201.0%2C%0A%20%20%22radius%22%3A%205%2C%0A%20%20%22stroke%22%3A%20true%2C%0A%20%20%22weight%22%3A%203%0A%7D%0A%20%20%20%20%20%20%20%20%20%20%20%20%20%20%20%20%29%0A%20%20%20%20%20%20%20%20%20%20%20%20%20%20%20%20.addTo%28map_96334592d01a43108eb5abd6140c664f%29%3B%0A%20%20%20%20%20%20%20%20%20%20%20%20%0A%20%20%20%20%0A%20%20%20%20%20%20%20%20%20%20%20%20var%20popup_45abcf18e49343418f632e23d438dae2%20%3D%20L.popup%28%7BmaxWidth%3A%20%27100%25%27%0A%20%20%20%20%20%20%20%20%20%20%20%20%0A%20%20%20%20%20%20%20%20%20%20%20%20%7D%29%3B%0A%0A%20%20%20%20%20%20%20%20%20%20%20%20%0A%20%20%20%20%20%20%20%20%20%20%20%20%20%20%20%20var%20html_898ac06266d04e2d824afdca7f1ed4d6%20%3D%20%24%28%60%3Cdiv%20id%3D%22html_898ac06266d04e2d824afdca7f1ed4d6%22%20style%3D%22width%3A%20100.0%25%3B%20height%3A%20100.0%25%3B%22%3ESoho%3C/div%3E%60%29%5B0%5D%3B%0A%20%20%20%20%20%20%20%20%20%20%20%20%20%20%20%20popup_45abcf18e49343418f632e23d438dae2.setContent%28html_898ac06266d04e2d824afdca7f1ed4d6%29%3B%0A%20%20%20%20%20%20%20%20%20%20%20%20%0A%0A%20%20%20%20%20%20%20%20%20%20%20%20circle_marker_eec4d8f66e004276afd5d561d4e90b38.bindPopup%28popup_45abcf18e49343418f632e23d438dae2%29%0A%20%20%20%20%20%20%20%20%20%20%20%20%3B%0A%0A%20%20%20%20%20%20%20%20%20%20%20%20%0A%20%20%20%20%20%20%20%20%0A%20%20%20%20%0A%20%20%20%20%20%20%20%20%20%20%20%20var%20circle_marker_9cadb623050e424ca019ebbb47ecaa97%20%3D%20L.circleMarker%28%0A%20%20%20%20%20%20%20%20%20%20%20%20%20%20%20%20%5B40.73443393572434%2C%20-74.00617998126812%5D%2C%0A%20%20%20%20%20%20%20%20%20%20%20%20%20%20%20%20%7B%0A%20%20%22bubblingMouseEvents%22%3A%20true%2C%0A%20%20%22color%22%3A%20%22blue%22%2C%0A%20%20%22dashArray%22%3A%20null%2C%0A%20%20%22dashOffset%22%3A%20null%2C%0A%20%20%22fill%22%3A%20true%2C%0A%20%20%22fillColor%22%3A%20%22%233186cc%22%2C%0A%20%20%22fillOpacity%22%3A%200.7%2C%0A%20%20%22fillRule%22%3A%20%22evenodd%22%2C%0A%20%20%22lineCap%22%3A%20%22round%22%2C%0A%20%20%22lineJoin%22%3A%20%22round%22%2C%0A%20%20%22opacity%22%3A%201.0%2C%0A%20%20%22radius%22%3A%205%2C%0A%20%20%22stroke%22%3A%20true%2C%0A%20%20%22weight%22%3A%203%0A%7D%0A%20%20%20%20%20%20%20%20%20%20%20%20%20%20%20%20%29%0A%20%20%20%20%20%20%20%20%20%20%20%20%20%20%20%20.addTo%28map_96334592d01a43108eb5abd6140c664f%29%3B%0A%20%20%20%20%20%20%20%20%20%20%20%20%0A%20%20%20%20%0A%20%20%20%20%20%20%20%20%20%20%20%20var%20popup_304661e0ab5a4137892422678fc713da%20%3D%20L.popup%28%7BmaxWidth%3A%20%27100%25%27%0A%20%20%20%20%20%20%20%20%20%20%20%20%0A%20%20%20%20%20%20%20%20%20%20%20%20%7D%29%3B%0A%0A%20%20%20%20%20%20%20%20%20%20%20%20%0A%20%20%20%20%20%20%20%20%20%20%20%20%20%20%20%20var%20html_cd8896bf4be24825a9564ba355a0d6ae%20%3D%20%24%28%60%3Cdiv%20id%3D%22html_cd8896bf4be24825a9564ba355a0d6ae%22%20style%3D%22width%3A%20100.0%25%3B%20height%3A%20100.0%25%3B%22%3EWest%20Village%3C/div%3E%60%29%5B0%5D%3B%0A%20%20%20%20%20%20%20%20%20%20%20%20%20%20%20%20popup_304661e0ab5a4137892422678fc713da.setContent%28html_cd8896bf4be24825a9564ba355a0d6ae%29%3B%0A%20%20%20%20%20%20%20%20%20%20%20%20%0A%0A%20%20%20%20%20%20%20%20%20%20%20%20circle_marker_9cadb623050e424ca019ebbb47ecaa97.bindPopup%28popup_304661e0ab5a4137892422678fc713da%29%0A%20%20%20%20%20%20%20%20%20%20%20%20%3B%0A%0A%20%20%20%20%20%20%20%20%20%20%20%20%0A%20%20%20%20%20%20%20%20%0A%20%20%20%20%0A%20%20%20%20%20%20%20%20%20%20%20%20var%20circle_marker_f0caa5ce7c5540b8968af09f4dc5753b%20%3D%20L.circleMarker%28%0A%20%20%20%20%20%20%20%20%20%20%20%20%20%20%20%20%5B40.797307041702865%2C%20-73.96428617740655%5D%2C%0A%20%20%20%20%20%20%20%20%20%20%20%20%20%20%20%20%7B%0A%20%20%22bubblingMouseEvents%22%3A%20true%2C%0A%20%20%22color%22%3A%20%22blue%22%2C%0A%20%20%22dashArray%22%3A%20null%2C%0A%20%20%22dashOffset%22%3A%20null%2C%0A%20%20%22fill%22%3A%20true%2C%0A%20%20%22fillColor%22%3A%20%22%233186cc%22%2C%0A%20%20%22fillOpacity%22%3A%200.7%2C%0A%20%20%22fillRule%22%3A%20%22evenodd%22%2C%0A%20%20%22lineCap%22%3A%20%22round%22%2C%0A%20%20%22lineJoin%22%3A%20%22round%22%2C%0A%20%20%22opacity%22%3A%201.0%2C%0A%20%20%22radius%22%3A%205%2C%0A%20%20%22stroke%22%3A%20true%2C%0A%20%20%22weight%22%3A%203%0A%7D%0A%20%20%20%20%20%20%20%20%20%20%20%20%20%20%20%20%29%0A%20%20%20%20%20%20%20%20%20%20%20%20%20%20%20%20.addTo%28map_96334592d01a43108eb5abd6140c664f%29%3B%0A%20%20%20%20%20%20%20%20%20%20%20%20%0A%20%20%20%20%0A%20%20%20%20%20%20%20%20%20%20%20%20var%20popup_3fd73c480ad446e59defbb869a18aaf1%20%3D%20L.popup%28%7BmaxWidth%3A%20%27100%25%27%0A%20%20%20%20%20%20%20%20%20%20%20%20%0A%20%20%20%20%20%20%20%20%20%20%20%20%7D%29%3B%0A%0A%20%20%20%20%20%20%20%20%20%20%20%20%0A%20%20%20%20%20%20%20%20%20%20%20%20%20%20%20%20var%20html_c7a4c3c977264c278d6e30c8aa0a43ee%20%3D%20%24%28%60%3Cdiv%20id%3D%22html_c7a4c3c977264c278d6e30c8aa0a43ee%22%20style%3D%22width%3A%20100.0%25%3B%20height%3A%20100.0%25%3B%22%3EManhattan%20Valley%3C/div%3E%60%29%5B0%5D%3B%0A%20%20%20%20%20%20%20%20%20%20%20%20%20%20%20%20popup_3fd73c480ad446e59defbb869a18aaf1.setContent%28html_c7a4c3c977264c278d6e30c8aa0a43ee%29%3B%0A%20%20%20%20%20%20%20%20%20%20%20%20%0A%0A%20%20%20%20%20%20%20%20%20%20%20%20circle_marker_f0caa5ce7c5540b8968af09f4dc5753b.bindPopup%28popup_3fd73c480ad446e59defbb869a18aaf1%29%0A%20%20%20%20%20%20%20%20%20%20%20%20%3B%0A%0A%20%20%20%20%20%20%20%20%20%20%20%20%0A%20%20%20%20%20%20%20%20%0A%20%20%20%20%0A%20%20%20%20%20%20%20%20%20%20%20%20var%20circle_marker_a2e0282f074c4d48bb85bcabc9adaa10%20%3D%20L.circleMarker%28%0A%20%20%20%20%20%20%20%20%20%20%20%20%20%20%20%20%5B40.807999738165826%2C%20-73.96389627905332%5D%2C%0A%20%20%20%20%20%20%20%20%20%20%20%20%20%20%20%20%7B%0A%20%20%22bubblingMouseEvents%22%3A%20true%2C%0A%20%20%22color%22%3A%20%22blue%22%2C%0A%20%20%22dashArray%22%3A%20null%2C%0A%20%20%22dashOffset%22%3A%20null%2C%0A%20%20%22fill%22%3A%20true%2C%0A%20%20%22fillColor%22%3A%20%22%233186cc%22%2C%0A%20%20%22fillOpacity%22%3A%200.7%2C%0A%20%20%22fillRule%22%3A%20%22evenodd%22%2C%0A%20%20%22lineCap%22%3A%20%22round%22%2C%0A%20%20%22lineJoin%22%3A%20%22round%22%2C%0A%20%20%22opacity%22%3A%201.0%2C%0A%20%20%22radius%22%3A%205%2C%0A%20%20%22stroke%22%3A%20true%2C%0A%20%20%22weight%22%3A%203%0A%7D%0A%20%20%20%20%20%20%20%20%20%20%20%20%20%20%20%20%29%0A%20%20%20%20%20%20%20%20%20%20%20%20%20%20%20%20.addTo%28map_96334592d01a43108eb5abd6140c664f%29%3B%0A%20%20%20%20%20%20%20%20%20%20%20%20%0A%20%20%20%20%0A%20%20%20%20%20%20%20%20%20%20%20%20var%20popup_3f519067e2db4eb3af0a236db60e37f4%20%3D%20L.popup%28%7BmaxWidth%3A%20%27100%25%27%0A%20%20%20%20%20%20%20%20%20%20%20%20%0A%20%20%20%20%20%20%20%20%20%20%20%20%7D%29%3B%0A%0A%20%20%20%20%20%20%20%20%20%20%20%20%0A%20%20%20%20%20%20%20%20%20%20%20%20%20%20%20%20var%20html_c3f63d8820fb4de487ce277ed9db43b6%20%3D%20%24%28%60%3Cdiv%20id%3D%22html_c3f63d8820fb4de487ce277ed9db43b6%22%20style%3D%22width%3A%20100.0%25%3B%20height%3A%20100.0%25%3B%22%3EMorningside%20Heights%3C/div%3E%60%29%5B0%5D%3B%0A%20%20%20%20%20%20%20%20%20%20%20%20%20%20%20%20popup_3f519067e2db4eb3af0a236db60e37f4.setContent%28html_c3f63d8820fb4de487ce277ed9db43b6%29%3B%0A%20%20%20%20%20%20%20%20%20%20%20%20%0A%0A%20%20%20%20%20%20%20%20%20%20%20%20circle_marker_a2e0282f074c4d48bb85bcabc9adaa10.bindPopup%28popup_3f519067e2db4eb3af0a236db60e37f4%29%0A%20%20%20%20%20%20%20%20%20%20%20%20%3B%0A%0A%20%20%20%20%20%20%20%20%20%20%20%20%0A%20%20%20%20%20%20%20%20%0A%20%20%20%20%0A%20%20%20%20%20%20%20%20%20%20%20%20var%20circle_marker_b00e8bd21b7c4fec91d0737695ee6dc2%20%3D%20L.circleMarker%28%0A%20%20%20%20%20%20%20%20%20%20%20%20%20%20%20%20%5B40.737209832715%2C%20-73.98137594833541%5D%2C%0A%20%20%20%20%20%20%20%20%20%20%20%20%20%20%20%20%7B%0A%20%20%22bubblingMouseEvents%22%3A%20true%2C%0A%20%20%22color%22%3A%20%22blue%22%2C%0A%20%20%22dashArray%22%3A%20null%2C%0A%20%20%22dashOffset%22%3A%20null%2C%0A%20%20%22fill%22%3A%20true%2C%0A%20%20%22fillColor%22%3A%20%22%233186cc%22%2C%0A%20%20%22fillOpacity%22%3A%200.7%2C%0A%20%20%22fillRule%22%3A%20%22evenodd%22%2C%0A%20%20%22lineCap%22%3A%20%22round%22%2C%0A%20%20%22lineJoin%22%3A%20%22round%22%2C%0A%20%20%22opacity%22%3A%201.0%2C%0A%20%20%22radius%22%3A%205%2C%0A%20%20%22stroke%22%3A%20true%2C%0A%20%20%22weight%22%3A%203%0A%7D%0A%20%20%20%20%20%20%20%20%20%20%20%20%20%20%20%20%29%0A%20%20%20%20%20%20%20%20%20%20%20%20%20%20%20%20.addTo%28map_96334592d01a43108eb5abd6140c664f%29%3B%0A%20%20%20%20%20%20%20%20%20%20%20%20%0A%20%20%20%20%0A%20%20%20%20%20%20%20%20%20%20%20%20var%20popup_f62dab4ca9304979ac47ae1a113c5bc0%20%3D%20L.popup%28%7BmaxWidth%3A%20%27100%25%27%0A%20%20%20%20%20%20%20%20%20%20%20%20%0A%20%20%20%20%20%20%20%20%20%20%20%20%7D%29%3B%0A%0A%20%20%20%20%20%20%20%20%20%20%20%20%0A%20%20%20%20%20%20%20%20%20%20%20%20%20%20%20%20var%20html_f751f05a0d164d69b01faee5b98b326f%20%3D%20%24%28%60%3Cdiv%20id%3D%22html_f751f05a0d164d69b01faee5b98b326f%22%20style%3D%22width%3A%20100.0%25%3B%20height%3A%20100.0%25%3B%22%3EGramercy%3C/div%3E%60%29%5B0%5D%3B%0A%20%20%20%20%20%20%20%20%20%20%20%20%20%20%20%20popup_f62dab4ca9304979ac47ae1a113c5bc0.setContent%28html_f751f05a0d164d69b01faee5b98b326f%29%3B%0A%20%20%20%20%20%20%20%20%20%20%20%20%0A%0A%20%20%20%20%20%20%20%20%20%20%20%20circle_marker_b00e8bd21b7c4fec91d0737695ee6dc2.bindPopup%28popup_f62dab4ca9304979ac47ae1a113c5bc0%29%0A%20%20%20%20%20%20%20%20%20%20%20%20%3B%0A%0A%20%20%20%20%20%20%20%20%20%20%20%20%0A%20%20%20%20%20%20%20%20%0A%20%20%20%20%0A%20%20%20%20%20%20%20%20%20%20%20%20var%20circle_marker_aee67bafab8e47c597fffb0816b2abe8%20%3D%20L.circleMarker%28%0A%20%20%20%20%20%20%20%20%20%20%20%20%20%20%20%20%5B40.71193198394565%2C%20-74.01686930508617%5D%2C%0A%20%20%20%20%20%20%20%20%20%20%20%20%20%20%20%20%7B%0A%20%20%22bubblingMouseEvents%22%3A%20true%2C%0A%20%20%22color%22%3A%20%22blue%22%2C%0A%20%20%22dashArray%22%3A%20null%2C%0A%20%20%22dashOffset%22%3A%20null%2C%0A%20%20%22fill%22%3A%20true%2C%0A%20%20%22fillColor%22%3A%20%22%233186cc%22%2C%0A%20%20%22fillOpacity%22%3A%200.7%2C%0A%20%20%22fillRule%22%3A%20%22evenodd%22%2C%0A%20%20%22lineCap%22%3A%20%22round%22%2C%0A%20%20%22lineJoin%22%3A%20%22round%22%2C%0A%20%20%22opacity%22%3A%201.0%2C%0A%20%20%22radius%22%3A%205%2C%0A%20%20%22stroke%22%3A%20true%2C%0A%20%20%22weight%22%3A%203%0A%7D%0A%20%20%20%20%20%20%20%20%20%20%20%20%20%20%20%20%29%0A%20%20%20%20%20%20%20%20%20%20%20%20%20%20%20%20.addTo%28map_96334592d01a43108eb5abd6140c664f%29%3B%0A%20%20%20%20%20%20%20%20%20%20%20%20%0A%20%20%20%20%0A%20%20%20%20%20%20%20%20%20%20%20%20var%20popup_d308eb8c1be749ef8a74c1e6b293f8c3%20%3D%20L.popup%28%7BmaxWidth%3A%20%27100%25%27%0A%20%20%20%20%20%20%20%20%20%20%20%20%0A%20%20%20%20%20%20%20%20%20%20%20%20%7D%29%3B%0A%0A%20%20%20%20%20%20%20%20%20%20%20%20%0A%20%20%20%20%20%20%20%20%20%20%20%20%20%20%20%20var%20html_ecdd41b806064027945b08d72abcf29d%20%3D%20%24%28%60%3Cdiv%20id%3D%22html_ecdd41b806064027945b08d72abcf29d%22%20style%3D%22width%3A%20100.0%25%3B%20height%3A%20100.0%25%3B%22%3EBattery%20Park%20City%3C/div%3E%60%29%5B0%5D%3B%0A%20%20%20%20%20%20%20%20%20%20%20%20%20%20%20%20popup_d308eb8c1be749ef8a74c1e6b293f8c3.setContent%28html_ecdd41b806064027945b08d72abcf29d%29%3B%0A%20%20%20%20%20%20%20%20%20%20%20%20%0A%0A%20%20%20%20%20%20%20%20%20%20%20%20circle_marker_aee67bafab8e47c597fffb0816b2abe8.bindPopup%28popup_d308eb8c1be749ef8a74c1e6b293f8c3%29%0A%20%20%20%20%20%20%20%20%20%20%20%20%3B%0A%0A%20%20%20%20%20%20%20%20%20%20%20%20%0A%20%20%20%20%20%20%20%20%0A%20%20%20%20%0A%20%20%20%20%20%20%20%20%20%20%20%20var%20circle_marker_ae790fe584764fb09fdeb5ed6171d56e%20%3D%20L.circleMarker%28%0A%20%20%20%20%20%20%20%20%20%20%20%20%20%20%20%20%5B40.70710710727048%2C%20-74.0106654452127%5D%2C%0A%20%20%20%20%20%20%20%20%20%20%20%20%20%20%20%20%7B%0A%20%20%22bubblingMouseEvents%22%3A%20true%2C%0A%20%20%22color%22%3A%20%22blue%22%2C%0A%20%20%22dashArray%22%3A%20null%2C%0A%20%20%22dashOffset%22%3A%20null%2C%0A%20%20%22fill%22%3A%20true%2C%0A%20%20%22fillColor%22%3A%20%22%233186cc%22%2C%0A%20%20%22fillOpacity%22%3A%200.7%2C%0A%20%20%22fillRule%22%3A%20%22evenodd%22%2C%0A%20%20%22lineCap%22%3A%20%22round%22%2C%0A%20%20%22lineJoin%22%3A%20%22round%22%2C%0A%20%20%22opacity%22%3A%201.0%2C%0A%20%20%22radius%22%3A%205%2C%0A%20%20%22stroke%22%3A%20true%2C%0A%20%20%22weight%22%3A%203%0A%7D%0A%20%20%20%20%20%20%20%20%20%20%20%20%20%20%20%20%29%0A%20%20%20%20%20%20%20%20%20%20%20%20%20%20%20%20.addTo%28map_96334592d01a43108eb5abd6140c664f%29%3B%0A%20%20%20%20%20%20%20%20%20%20%20%20%0A%20%20%20%20%0A%20%20%20%20%20%20%20%20%20%20%20%20var%20popup_44bdc75179224ad888faaa52cd6ced50%20%3D%20L.popup%28%7BmaxWidth%3A%20%27100%25%27%0A%20%20%20%20%20%20%20%20%20%20%20%20%0A%20%20%20%20%20%20%20%20%20%20%20%20%7D%29%3B%0A%0A%20%20%20%20%20%20%20%20%20%20%20%20%0A%20%20%20%20%20%20%20%20%20%20%20%20%20%20%20%20var%20html_903cd64423b147eab97b1c269274918d%20%3D%20%24%28%60%3Cdiv%20id%3D%22html_903cd64423b147eab97b1c269274918d%22%20style%3D%22width%3A%20100.0%25%3B%20height%3A%20100.0%25%3B%22%3EFinancial%20District%3C/div%3E%60%29%5B0%5D%3B%0A%20%20%20%20%20%20%20%20%20%20%20%20%20%20%20%20popup_44bdc75179224ad888faaa52cd6ced50.setContent%28html_903cd64423b147eab97b1c269274918d%29%3B%0A%20%20%20%20%20%20%20%20%20%20%20%20%0A%0A%20%20%20%20%20%20%20%20%20%20%20%20circle_marker_ae790fe584764fb09fdeb5ed6171d56e.bindPopup%28popup_44bdc75179224ad888faaa52cd6ced50%29%0A%20%20%20%20%20%20%20%20%20%20%20%20%3B%0A%0A%20%20%20%20%20%20%20%20%20%20%20%20%0A%20%20%20%20%20%20%20%20%0A%20%20%20%20%0A%20%20%20%20%20%20%20%20%20%20%20%20var%20circle_marker_93a72b37a0a74d0ea533f1e1af0bdc4c%20%3D%20L.circleMarker%28%0A%20%20%20%20%20%20%20%20%20%20%20%20%20%20%20%20%5B40.7826825671257%2C%20-73.95325646837112%5D%2C%0A%20%20%20%20%20%20%20%20%20%20%20%20%20%20%20%20%7B%0A%20%20%22bubblingMouseEvents%22%3A%20true%2C%0A%20%20%22color%22%3A%20%22blue%22%2C%0A%20%20%22dashArray%22%3A%20null%2C%0A%20%20%22dashOffset%22%3A%20null%2C%0A%20%20%22fill%22%3A%20true%2C%0A%20%20%22fillColor%22%3A%20%22%233186cc%22%2C%0A%20%20%22fillOpacity%22%3A%200.7%2C%0A%20%20%22fillRule%22%3A%20%22evenodd%22%2C%0A%20%20%22lineCap%22%3A%20%22round%22%2C%0A%20%20%22lineJoin%22%3A%20%22round%22%2C%0A%20%20%22opacity%22%3A%201.0%2C%0A%20%20%22radius%22%3A%205%2C%0A%20%20%22stroke%22%3A%20true%2C%0A%20%20%22weight%22%3A%203%0A%7D%0A%20%20%20%20%20%20%20%20%20%20%20%20%20%20%20%20%29%0A%20%20%20%20%20%20%20%20%20%20%20%20%20%20%20%20.addTo%28map_96334592d01a43108eb5abd6140c664f%29%3B%0A%20%20%20%20%20%20%20%20%20%20%20%20%0A%20%20%20%20%0A%20%20%20%20%20%20%20%20%20%20%20%20var%20popup_b573aa0e8fc24d12ba8375506c2ee2a6%20%3D%20L.popup%28%7BmaxWidth%3A%20%27100%25%27%0A%20%20%20%20%20%20%20%20%20%20%20%20%0A%20%20%20%20%20%20%20%20%20%20%20%20%7D%29%3B%0A%0A%20%20%20%20%20%20%20%20%20%20%20%20%0A%20%20%20%20%20%20%20%20%20%20%20%20%20%20%20%20var%20html_96c9dfe61bcd415bab80a38fa103f5d3%20%3D%20%24%28%60%3Cdiv%20id%3D%22html_96c9dfe61bcd415bab80a38fa103f5d3%22%20style%3D%22width%3A%20100.0%25%3B%20height%3A%20100.0%25%3B%22%3ECarnegie%20Hill%3C/div%3E%60%29%5B0%5D%3B%0A%20%20%20%20%20%20%20%20%20%20%20%20%20%20%20%20popup_b573aa0e8fc24d12ba8375506c2ee2a6.setContent%28html_96c9dfe61bcd415bab80a38fa103f5d3%29%3B%0A%20%20%20%20%20%20%20%20%20%20%20%20%0A%0A%20%20%20%20%20%20%20%20%20%20%20%20circle_marker_93a72b37a0a74d0ea533f1e1af0bdc4c.bindPopup%28popup_b573aa0e8fc24d12ba8375506c2ee2a6%29%0A%20%20%20%20%20%20%20%20%20%20%20%20%3B%0A%0A%20%20%20%20%20%20%20%20%20%20%20%20%0A%20%20%20%20%20%20%20%20%0A%20%20%20%20%0A%20%20%20%20%20%20%20%20%20%20%20%20var%20circle_marker_f47362471e604c53a65613df94ff6fa5%20%3D%20L.circleMarker%28%0A%20%20%20%20%20%20%20%20%20%20%20%20%20%20%20%20%5B40.72325901885768%2C%20-73.98843368023597%5D%2C%0A%20%20%20%20%20%20%20%20%20%20%20%20%20%20%20%20%7B%0A%20%20%22bubblingMouseEvents%22%3A%20true%2C%0A%20%20%22color%22%3A%20%22blue%22%2C%0A%20%20%22dashArray%22%3A%20null%2C%0A%20%20%22dashOffset%22%3A%20null%2C%0A%20%20%22fill%22%3A%20true%2C%0A%20%20%22fillColor%22%3A%20%22%233186cc%22%2C%0A%20%20%22fillOpacity%22%3A%200.7%2C%0A%20%20%22fillRule%22%3A%20%22evenodd%22%2C%0A%20%20%22lineCap%22%3A%20%22round%22%2C%0A%20%20%22lineJoin%22%3A%20%22round%22%2C%0A%20%20%22opacity%22%3A%201.0%2C%0A%20%20%22radius%22%3A%205%2C%0A%20%20%22stroke%22%3A%20true%2C%0A%20%20%22weight%22%3A%203%0A%7D%0A%20%20%20%20%20%20%20%20%20%20%20%20%20%20%20%20%29%0A%20%20%20%20%20%20%20%20%20%20%20%20%20%20%20%20.addTo%28map_96334592d01a43108eb5abd6140c664f%29%3B%0A%20%20%20%20%20%20%20%20%20%20%20%20%0A%20%20%20%20%0A%20%20%20%20%20%20%20%20%20%20%20%20var%20popup_2b62992ed44c47fdb43b532997c0cf1a%20%3D%20L.popup%28%7BmaxWidth%3A%20%27100%25%27%0A%20%20%20%20%20%20%20%20%20%20%20%20%0A%20%20%20%20%20%20%20%20%20%20%20%20%7D%29%3B%0A%0A%20%20%20%20%20%20%20%20%20%20%20%20%0A%20%20%20%20%20%20%20%20%20%20%20%20%20%20%20%20var%20html_c3770bad656144a18899b8af1216abe4%20%3D%20%24%28%60%3Cdiv%20id%3D%22html_c3770bad656144a18899b8af1216abe4%22%20style%3D%22width%3A%20100.0%25%3B%20height%3A%20100.0%25%3B%22%3ENoho%3C/div%3E%60%29%5B0%5D%3B%0A%20%20%20%20%20%20%20%20%20%20%20%20%20%20%20%20popup_2b62992ed44c47fdb43b532997c0cf1a.setContent%28html_c3770bad656144a18899b8af1216abe4%29%3B%0A%20%20%20%20%20%20%20%20%20%20%20%20%0A%0A%20%20%20%20%20%20%20%20%20%20%20%20circle_marker_f47362471e604c53a65613df94ff6fa5.bindPopup%28popup_2b62992ed44c47fdb43b532997c0cf1a%29%0A%20%20%20%20%20%20%20%20%20%20%20%20%3B%0A%0A%20%20%20%20%20%20%20%20%20%20%20%20%0A%20%20%20%20%20%20%20%20%0A%20%20%20%20%0A%20%20%20%20%20%20%20%20%20%20%20%20var%20circle_marker_5b706212eeae4c738edff9bd2dafe7c7%20%3D%20L.circleMarker%28%0A%20%20%20%20%20%20%20%20%20%20%20%20%20%20%20%20%5B40.71522892046282%2C%20-74.00541529873355%5D%2C%0A%20%20%20%20%20%20%20%20%20%20%20%20%20%20%20%20%7B%0A%20%20%22bubblingMouseEvents%22%3A%20true%2C%0A%20%20%22color%22%3A%20%22blue%22%2C%0A%20%20%22dashArray%22%3A%20null%2C%0A%20%20%22dashOffset%22%3A%20null%2C%0A%20%20%22fill%22%3A%20true%2C%0A%20%20%22fillColor%22%3A%20%22%233186cc%22%2C%0A%20%20%22fillOpacity%22%3A%200.7%2C%0A%20%20%22fillRule%22%3A%20%22evenodd%22%2C%0A%20%20%22lineCap%22%3A%20%22round%22%2C%0A%20%20%22lineJoin%22%3A%20%22round%22%2C%0A%20%20%22opacity%22%3A%201.0%2C%0A%20%20%22radius%22%3A%205%2C%0A%20%20%22stroke%22%3A%20true%2C%0A%20%20%22weight%22%3A%203%0A%7D%0A%20%20%20%20%20%20%20%20%20%20%20%20%20%20%20%20%29%0A%20%20%20%20%20%20%20%20%20%20%20%20%20%20%20%20.addTo%28map_96334592d01a43108eb5abd6140c664f%29%3B%0A%20%20%20%20%20%20%20%20%20%20%20%20%0A%20%20%20%20%0A%20%20%20%20%20%20%20%20%20%20%20%20var%20popup_e2658ddab5954a36931572f3adcc9283%20%3D%20L.popup%28%7BmaxWidth%3A%20%27100%25%27%0A%20%20%20%20%20%20%20%20%20%20%20%20%0A%20%20%20%20%20%20%20%20%20%20%20%20%7D%29%3B%0A%0A%20%20%20%20%20%20%20%20%20%20%20%20%0A%20%20%20%20%20%20%20%20%20%20%20%20%20%20%20%20var%20html_56b17e7695ec43b392482cd93109c95f%20%3D%20%24%28%60%3Cdiv%20id%3D%22html_56b17e7695ec43b392482cd93109c95f%22%20style%3D%22width%3A%20100.0%25%3B%20height%3A%20100.0%25%3B%22%3ECivic%20Center%3C/div%3E%60%29%5B0%5D%3B%0A%20%20%20%20%20%20%20%20%20%20%20%20%20%20%20%20popup_e2658ddab5954a36931572f3adcc9283.setContent%28html_56b17e7695ec43b392482cd93109c95f%29%3B%0A%20%20%20%20%20%20%20%20%20%20%20%20%0A%0A%20%20%20%20%20%20%20%20%20%20%20%20circle_marker_5b706212eeae4c738edff9bd2dafe7c7.bindPopup%28popup_e2658ddab5954a36931572f3adcc9283%29%0A%20%20%20%20%20%20%20%20%20%20%20%20%3B%0A%0A%20%20%20%20%20%20%20%20%20%20%20%20%0A%20%20%20%20%20%20%20%20%0A%20%20%20%20%0A%20%20%20%20%20%20%20%20%20%20%20%20var%20circle_marker_856e23fb8cbc4fcf8ce130eac8a297d5%20%3D%20L.circleMarker%28%0A%20%20%20%20%20%20%20%20%20%20%20%20%20%20%20%20%5B40.7485096643122%2C%20-73.98871313285247%5D%2C%0A%20%20%20%20%20%20%20%20%20%20%20%20%20%20%20%20%7B%0A%20%20%22bubblingMouseEvents%22%3A%20true%2C%0A%20%20%22color%22%3A%20%22blue%22%2C%0A%20%20%22dashArray%22%3A%20null%2C%0A%20%20%22dashOffset%22%3A%20null%2C%0A%20%20%22fill%22%3A%20true%2C%0A%20%20%22fillColor%22%3A%20%22%233186cc%22%2C%0A%20%20%22fillOpacity%22%3A%200.7%2C%0A%20%20%22fillRule%22%3A%20%22evenodd%22%2C%0A%20%20%22lineCap%22%3A%20%22round%22%2C%0A%20%20%22lineJoin%22%3A%20%22round%22%2C%0A%20%20%22opacity%22%3A%201.0%2C%0A%20%20%22radius%22%3A%205%2C%0A%20%20%22stroke%22%3A%20true%2C%0A%20%20%22weight%22%3A%203%0A%7D%0A%20%20%20%20%20%20%20%20%20%20%20%20%20%20%20%20%29%0A%20%20%20%20%20%20%20%20%20%20%20%20%20%20%20%20.addTo%28map_96334592d01a43108eb5abd6140c664f%29%3B%0A%20%20%20%20%20%20%20%20%20%20%20%20%0A%20%20%20%20%0A%20%20%20%20%20%20%20%20%20%20%20%20var%20popup_8d92d624ae8f4affa1514056ca05f35d%20%3D%20L.popup%28%7BmaxWidth%3A%20%27100%25%27%0A%20%20%20%20%20%20%20%20%20%20%20%20%0A%20%20%20%20%20%20%20%20%20%20%20%20%7D%29%3B%0A%0A%20%20%20%20%20%20%20%20%20%20%20%20%0A%20%20%20%20%20%20%20%20%20%20%20%20%20%20%20%20var%20html_43807e191ccd4a1cbefd3ab7eb479cde%20%3D%20%24%28%60%3Cdiv%20id%3D%22html_43807e191ccd4a1cbefd3ab7eb479cde%22%20style%3D%22width%3A%20100.0%25%3B%20height%3A%20100.0%25%3B%22%3EMidtown%20South%3C/div%3E%60%29%5B0%5D%3B%0A%20%20%20%20%20%20%20%20%20%20%20%20%20%20%20%20popup_8d92d624ae8f4affa1514056ca05f35d.setContent%28html_43807e191ccd4a1cbefd3ab7eb479cde%29%3B%0A%20%20%20%20%20%20%20%20%20%20%20%20%0A%0A%20%20%20%20%20%20%20%20%20%20%20%20circle_marker_856e23fb8cbc4fcf8ce130eac8a297d5.bindPopup%28popup_8d92d624ae8f4affa1514056ca05f35d%29%0A%20%20%20%20%20%20%20%20%20%20%20%20%3B%0A%0A%20%20%20%20%20%20%20%20%20%20%20%20%0A%20%20%20%20%20%20%20%20%0A%20%20%20%20%0A%20%20%20%20%20%20%20%20%20%20%20%20var%20circle_marker_e133fba4320a415992cc07bc7b8be450%20%3D%20L.circleMarker%28%0A%20%20%20%20%20%20%20%20%20%20%20%20%20%20%20%20%5B40.76028033131374%2C%20-73.96355614094303%5D%2C%0A%20%20%20%20%20%20%20%20%20%20%20%20%20%20%20%20%7B%0A%20%20%22bubblingMouseEvents%22%3A%20true%2C%0A%20%20%22color%22%3A%20%22blue%22%2C%0A%20%20%22dashArray%22%3A%20null%2C%0A%20%20%22dashOffset%22%3A%20null%2C%0A%20%20%22fill%22%3A%20true%2C%0A%20%20%22fillColor%22%3A%20%22%233186cc%22%2C%0A%20%20%22fillOpacity%22%3A%200.7%2C%0A%20%20%22fillRule%22%3A%20%22evenodd%22%2C%0A%20%20%22lineCap%22%3A%20%22round%22%2C%0A%20%20%22lineJoin%22%3A%20%22round%22%2C%0A%20%20%22opacity%22%3A%201.0%2C%0A%20%20%22radius%22%3A%205%2C%0A%20%20%22stroke%22%3A%20true%2C%0A%20%20%22weight%22%3A%203%0A%7D%0A%20%20%20%20%20%20%20%20%20%20%20%20%20%20%20%20%29%0A%20%20%20%20%20%20%20%20%20%20%20%20%20%20%20%20.addTo%28map_96334592d01a43108eb5abd6140c664f%29%3B%0A%20%20%20%20%20%20%20%20%20%20%20%20%0A%20%20%20%20%0A%20%20%20%20%20%20%20%20%20%20%20%20var%20popup_815ec70490ba4ecaaef32ef0c9d4cbca%20%3D%20L.popup%28%7BmaxWidth%3A%20%27100%25%27%0A%20%20%20%20%20%20%20%20%20%20%20%20%0A%20%20%20%20%20%20%20%20%20%20%20%20%7D%29%3B%0A%0A%20%20%20%20%20%20%20%20%20%20%20%20%0A%20%20%20%20%20%20%20%20%20%20%20%20%20%20%20%20var%20html_4478498cdcf446c1942dac838843b74d%20%3D%20%24%28%60%3Cdiv%20id%3D%22html_4478498cdcf446c1942dac838843b74d%22%20style%3D%22width%3A%20100.0%25%3B%20height%3A%20100.0%25%3B%22%3ESutton%20Place%3C/div%3E%60%29%5B0%5D%3B%0A%20%20%20%20%20%20%20%20%20%20%20%20%20%20%20%20popup_815ec70490ba4ecaaef32ef0c9d4cbca.setContent%28html_4478498cdcf446c1942dac838843b74d%29%3B%0A%20%20%20%20%20%20%20%20%20%20%20%20%0A%0A%20%20%20%20%20%20%20%20%20%20%20%20circle_marker_e133fba4320a415992cc07bc7b8be450.bindPopup%28popup_815ec70490ba4ecaaef32ef0c9d4cbca%29%0A%20%20%20%20%20%20%20%20%20%20%20%20%3B%0A%0A%20%20%20%20%20%20%20%20%20%20%20%20%0A%20%20%20%20%20%20%20%20%0A%20%20%20%20%0A%20%20%20%20%20%20%20%20%20%20%20%20var%20circle_marker_c391e9cc90f94565b19d8a46ac0abe38%20%3D%20L.circleMarker%28%0A%20%20%20%20%20%20%20%20%20%20%20%20%20%20%20%20%5B40.75204236950722%2C%20-73.96770824581834%5D%2C%0A%20%20%20%20%20%20%20%20%20%20%20%20%20%20%20%20%7B%0A%20%20%22bubblingMouseEvents%22%3A%20true%2C%0A%20%20%22color%22%3A%20%22blue%22%2C%0A%20%20%22dashArray%22%3A%20null%2C%0A%20%20%22dashOffset%22%3A%20null%2C%0A%20%20%22fill%22%3A%20true%2C%0A%20%20%22fillColor%22%3A%20%22%233186cc%22%2C%0A%20%20%22fillOpacity%22%3A%200.7%2C%0A%20%20%22fillRule%22%3A%20%22evenodd%22%2C%0A%20%20%22lineCap%22%3A%20%22round%22%2C%0A%20%20%22lineJoin%22%3A%20%22round%22%2C%0A%20%20%22opacity%22%3A%201.0%2C%0A%20%20%22radius%22%3A%205%2C%0A%20%20%22stroke%22%3A%20true%2C%0A%20%20%22weight%22%3A%203%0A%7D%0A%20%20%20%20%20%20%20%20%20%20%20%20%20%20%20%20%29%0A%20%20%20%20%20%20%20%20%20%20%20%20%20%20%20%20.addTo%28map_96334592d01a43108eb5abd6140c664f%29%3B%0A%20%20%20%20%20%20%20%20%20%20%20%20%0A%20%20%20%20%0A%20%20%20%20%20%20%20%20%20%20%20%20var%20popup_91582dde7c1e48a3ad70e4cfbfa00e34%20%3D%20L.popup%28%7BmaxWidth%3A%20%27100%25%27%0A%20%20%20%20%20%20%20%20%20%20%20%20%0A%20%20%20%20%20%20%20%20%20%20%20%20%7D%29%3B%0A%0A%20%20%20%20%20%20%20%20%20%20%20%20%0A%20%20%20%20%20%20%20%20%20%20%20%20%20%20%20%20var%20html_3e03021f0a4d4224832815813c83aa81%20%3D%20%24%28%60%3Cdiv%20id%3D%22html_3e03021f0a4d4224832815813c83aa81%22%20style%3D%22width%3A%20100.0%25%3B%20height%3A%20100.0%25%3B%22%3ETurtle%20Bay%3C/div%3E%60%29%5B0%5D%3B%0A%20%20%20%20%20%20%20%20%20%20%20%20%20%20%20%20popup_91582dde7c1e48a3ad70e4cfbfa00e34.setContent%28html_3e03021f0a4d4224832815813c83aa81%29%3B%0A%20%20%20%20%20%20%20%20%20%20%20%20%0A%0A%20%20%20%20%20%20%20%20%20%20%20%20circle_marker_c391e9cc90f94565b19d8a46ac0abe38.bindPopup%28popup_91582dde7c1e48a3ad70e4cfbfa00e34%29%0A%20%20%20%20%20%20%20%20%20%20%20%20%3B%0A%0A%20%20%20%20%20%20%20%20%20%20%20%20%0A%20%20%20%20%20%20%20%20%0A%20%20%20%20%0A%20%20%20%20%20%20%20%20%20%20%20%20var%20circle_marker_ba8f97a323244029932be00f3d142b55%20%3D%20L.circleMarker%28%0A%20%20%20%20%20%20%20%20%20%20%20%20%20%20%20%20%5B40.746917410740195%2C%20-73.97121928722265%5D%2C%0A%20%20%20%20%20%20%20%20%20%20%20%20%20%20%20%20%7B%0A%20%20%22bubblingMouseEvents%22%3A%20true%2C%0A%20%20%22color%22%3A%20%22blue%22%2C%0A%20%20%22dashArray%22%3A%20null%2C%0A%20%20%22dashOffset%22%3A%20null%2C%0A%20%20%22fill%22%3A%20true%2C%0A%20%20%22fillColor%22%3A%20%22%233186cc%22%2C%0A%20%20%22fillOpacity%22%3A%200.7%2C%0A%20%20%22fillRule%22%3A%20%22evenodd%22%2C%0A%20%20%22lineCap%22%3A%20%22round%22%2C%0A%20%20%22lineJoin%22%3A%20%22round%22%2C%0A%20%20%22opacity%22%3A%201.0%2C%0A%20%20%22radius%22%3A%205%2C%0A%20%20%22stroke%22%3A%20true%2C%0A%20%20%22weight%22%3A%203%0A%7D%0A%20%20%20%20%20%20%20%20%20%20%20%20%20%20%20%20%29%0A%20%20%20%20%20%20%20%20%20%20%20%20%20%20%20%20.addTo%28map_96334592d01a43108eb5abd6140c664f%29%3B%0A%20%20%20%20%20%20%20%20%20%20%20%20%0A%20%20%20%20%0A%20%20%20%20%20%20%20%20%20%20%20%20var%20popup_5b7e48df86bc4fdcbf5a2cf83e027c54%20%3D%20L.popup%28%7BmaxWidth%3A%20%27100%25%27%0A%20%20%20%20%20%20%20%20%20%20%20%20%0A%20%20%20%20%20%20%20%20%20%20%20%20%7D%29%3B%0A%0A%20%20%20%20%20%20%20%20%20%20%20%20%0A%20%20%20%20%20%20%20%20%20%20%20%20%20%20%20%20var%20html_012490dd36fe4926978d1dba2a78257b%20%3D%20%24%28%60%3Cdiv%20id%3D%22html_012490dd36fe4926978d1dba2a78257b%22%20style%3D%22width%3A%20100.0%25%3B%20height%3A%20100.0%25%3B%22%3ETudor%20City%3C/div%3E%60%29%5B0%5D%3B%0A%20%20%20%20%20%20%20%20%20%20%20%20%20%20%20%20popup_5b7e48df86bc4fdcbf5a2cf83e027c54.setContent%28html_012490dd36fe4926978d1dba2a78257b%29%3B%0A%20%20%20%20%20%20%20%20%20%20%20%20%0A%0A%20%20%20%20%20%20%20%20%20%20%20%20circle_marker_ba8f97a323244029932be00f3d142b55.bindPopup%28popup_5b7e48df86bc4fdcbf5a2cf83e027c54%29%0A%20%20%20%20%20%20%20%20%20%20%20%20%3B%0A%0A%20%20%20%20%20%20%20%20%20%20%20%20%0A%20%20%20%20%20%20%20%20%0A%20%20%20%20%0A%20%20%20%20%20%20%20%20%20%20%20%20var%20circle_marker_06d89b527022421a81d0f571f5572336%20%3D%20L.circleMarker%28%0A%20%20%20%20%20%20%20%20%20%20%20%20%20%20%20%20%5B40.73099955477061%2C%20-73.97405170469203%5D%2C%0A%20%20%20%20%20%20%20%20%20%20%20%20%20%20%20%20%7B%0A%20%20%22bubblingMouseEvents%22%3A%20true%2C%0A%20%20%22color%22%3A%20%22blue%22%2C%0A%20%20%22dashArray%22%3A%20null%2C%0A%20%20%22dashOffset%22%3A%20null%2C%0A%20%20%22fill%22%3A%20true%2C%0A%20%20%22fillColor%22%3A%20%22%233186cc%22%2C%0A%20%20%22fillOpacity%22%3A%200.7%2C%0A%20%20%22fillRule%22%3A%20%22evenodd%22%2C%0A%20%20%22lineCap%22%3A%20%22round%22%2C%0A%20%20%22lineJoin%22%3A%20%22round%22%2C%0A%20%20%22opacity%22%3A%201.0%2C%0A%20%20%22radius%22%3A%205%2C%0A%20%20%22stroke%22%3A%20true%2C%0A%20%20%22weight%22%3A%203%0A%7D%0A%20%20%20%20%20%20%20%20%20%20%20%20%20%20%20%20%29%0A%20%20%20%20%20%20%20%20%20%20%20%20%20%20%20%20.addTo%28map_96334592d01a43108eb5abd6140c664f%29%3B%0A%20%20%20%20%20%20%20%20%20%20%20%20%0A%20%20%20%20%0A%20%20%20%20%20%20%20%20%20%20%20%20var%20popup_0386304254344401be3a230ff7770edf%20%3D%20L.popup%28%7BmaxWidth%3A%20%27100%25%27%0A%20%20%20%20%20%20%20%20%20%20%20%20%0A%20%20%20%20%20%20%20%20%20%20%20%20%7D%29%3B%0A%0A%20%20%20%20%20%20%20%20%20%20%20%20%0A%20%20%20%20%20%20%20%20%20%20%20%20%20%20%20%20var%20html_7df07bbbc7b046d6a7f602c5e8a39f70%20%3D%20%24%28%60%3Cdiv%20id%3D%22html_7df07bbbc7b046d6a7f602c5e8a39f70%22%20style%3D%22width%3A%20100.0%25%3B%20height%3A%20100.0%25%3B%22%3EStuyvesant%20Town%3C/div%3E%60%29%5B0%5D%3B%0A%20%20%20%20%20%20%20%20%20%20%20%20%20%20%20%20popup_0386304254344401be3a230ff7770edf.setContent%28html_7df07bbbc7b046d6a7f602c5e8a39f70%29%3B%0A%20%20%20%20%20%20%20%20%20%20%20%20%0A%0A%20%20%20%20%20%20%20%20%20%20%20%20circle_marker_06d89b527022421a81d0f571f5572336.bindPopup%28popup_0386304254344401be3a230ff7770edf%29%0A%20%20%20%20%20%20%20%20%20%20%20%20%3B%0A%0A%20%20%20%20%20%20%20%20%20%20%20%20%0A%20%20%20%20%20%20%20%20%0A%20%20%20%20%0A%20%20%20%20%20%20%20%20%20%20%20%20var%20circle_marker_17e95ec780df42e681c940afe6c628ca%20%3D%20L.circleMarker%28%0A%20%20%20%20%20%20%20%20%20%20%20%20%20%20%20%20%5B40.739673047638426%2C%20-73.9909471052826%5D%2C%0A%20%20%20%20%20%20%20%20%20%20%20%20%20%20%20%20%7B%0A%20%20%22bubblingMouseEvents%22%3A%20true%2C%0A%20%20%22color%22%3A%20%22blue%22%2C%0A%20%20%22dashArray%22%3A%20null%2C%0A%20%20%22dashOffset%22%3A%20null%2C%0A%20%20%22fill%22%3A%20true%2C%0A%20%20%22fillColor%22%3A%20%22%233186cc%22%2C%0A%20%20%22fillOpacity%22%3A%200.7%2C%0A%20%20%22fillRule%22%3A%20%22evenodd%22%2C%0A%20%20%22lineCap%22%3A%20%22round%22%2C%0A%20%20%22lineJoin%22%3A%20%22round%22%2C%0A%20%20%22opacity%22%3A%201.0%2C%0A%20%20%22radius%22%3A%205%2C%0A%20%20%22stroke%22%3A%20true%2C%0A%20%20%22weight%22%3A%203%0A%7D%0A%20%20%20%20%20%20%20%20%20%20%20%20%20%20%20%20%29%0A%20%20%20%20%20%20%20%20%20%20%20%20%20%20%20%20.addTo%28map_96334592d01a43108eb5abd6140c664f%29%3B%0A%20%20%20%20%20%20%20%20%20%20%20%20%0A%20%20%20%20%0A%20%20%20%20%20%20%20%20%20%20%20%20var%20popup_358f6e1d36eb4f629f92cacc62eac444%20%3D%20L.popup%28%7BmaxWidth%3A%20%27100%25%27%0A%20%20%20%20%20%20%20%20%20%20%20%20%0A%20%20%20%20%20%20%20%20%20%20%20%20%7D%29%3B%0A%0A%20%20%20%20%20%20%20%20%20%20%20%20%0A%20%20%20%20%20%20%20%20%20%20%20%20%20%20%20%20var%20html_ba14fe2174cf4e9ca49ba52bfdd1b884%20%3D%20%24%28%60%3Cdiv%20id%3D%22html_ba14fe2174cf4e9ca49ba52bfdd1b884%22%20style%3D%22width%3A%20100.0%25%3B%20height%3A%20100.0%25%3B%22%3EFlatiron%3C/div%3E%60%29%5B0%5D%3B%0A%20%20%20%20%20%20%20%20%20%20%20%20%20%20%20%20popup_358f6e1d36eb4f629f92cacc62eac444.setContent%28html_ba14fe2174cf4e9ca49ba52bfdd1b884%29%3B%0A%20%20%20%20%20%20%20%20%20%20%20%20%0A%0A%20%20%20%20%20%20%20%20%20%20%20%20circle_marker_17e95ec780df42e681c940afe6c628ca.bindPopup%28popup_358f6e1d36eb4f629f92cacc62eac444%29%0A%20%20%20%20%20%20%20%20%20%20%20%20%3B%0A%0A%20%20%20%20%20%20%20%20%20%20%20%20%0A%20%20%20%20%20%20%20%20%0A%20%20%20%20%0A%20%20%20%20%20%20%20%20%20%20%20%20var%20circle_marker_0b7521bbbec146548aa135fa52c117ef%20%3D%20L.circleMarker%28%0A%20%20%20%20%20%20%20%20%20%20%20%20%20%20%20%20%5B40.75665808227519%2C%20-74.00011136202637%5D%2C%0A%20%20%20%20%20%20%20%20%20%20%20%20%20%20%20%20%7B%0A%20%20%22bubblingMouseEvents%22%3A%20true%2C%0A%20%20%22color%22%3A%20%22blue%22%2C%0A%20%20%22dashArray%22%3A%20null%2C%0A%20%20%22dashOffset%22%3A%20null%2C%0A%20%20%22fill%22%3A%20true%2C%0A%20%20%22fillColor%22%3A%20%22%233186cc%22%2C%0A%20%20%22fillOpacity%22%3A%200.7%2C%0A%20%20%22fillRule%22%3A%20%22evenodd%22%2C%0A%20%20%22lineCap%22%3A%20%22round%22%2C%0A%20%20%22lineJoin%22%3A%20%22round%22%2C%0A%20%20%22opacity%22%3A%201.0%2C%0A%20%20%22radius%22%3A%205%2C%0A%20%20%22stroke%22%3A%20true%2C%0A%20%20%22weight%22%3A%203%0A%7D%0A%20%20%20%20%20%20%20%20%20%20%20%20%20%20%20%20%29%0A%20%20%20%20%20%20%20%20%20%20%20%20%20%20%20%20.addTo%28map_96334592d01a43108eb5abd6140c664f%29%3B%0A%20%20%20%20%20%20%20%20%20%20%20%20%0A%20%20%20%20%0A%20%20%20%20%20%20%20%20%20%20%20%20var%20popup_1712aa6f6e914c2f9ab19bab33e3ca2e%20%3D%20L.popup%28%7BmaxWidth%3A%20%27100%25%27%0A%20%20%20%20%20%20%20%20%20%20%20%20%0A%20%20%20%20%20%20%20%20%20%20%20%20%7D%29%3B%0A%0A%20%20%20%20%20%20%20%20%20%20%20%20%0A%20%20%20%20%20%20%20%20%20%20%20%20%20%20%20%20var%20html_ffd7e1a9645f426284d5237461334d5b%20%3D%20%24%28%60%3Cdiv%20id%3D%22html_ffd7e1a9645f426284d5237461334d5b%22%20style%3D%22width%3A%20100.0%25%3B%20height%3A%20100.0%25%3B%22%3EHudson%20Yards%3C/div%3E%60%29%5B0%5D%3B%0A%20%20%20%20%20%20%20%20%20%20%20%20%20%20%20%20popup_1712aa6f6e914c2f9ab19bab33e3ca2e.setContent%28html_ffd7e1a9645f426284d5237461334d5b%29%3B%0A%20%20%20%20%20%20%20%20%20%20%20%20%0A%0A%20%20%20%20%20%20%20%20%20%20%20%20circle_marker_0b7521bbbec146548aa135fa52c117ef.bindPopup%28popup_1712aa6f6e914c2f9ab19bab33e3ca2e%29%0A%20%20%20%20%20%20%20%20%20%20%20%20%3B%0A%0A%20%20%20%20%20%20%20%20%20%20%20%20%0A%20%20%20%20%20%20%20%20%0A%3C/script%3E onload=\"this.contentDocument.open();this.contentDocument.write(    decodeURIComponent(this.getAttribute('data-html')));this.contentDocument.close();\" allowfullscreen webkitallowfullscreen mozallowfullscreen></iframe></div></div>"
            ],
            "text/plain": [
              "<folium.folium.Map at 0x7feaef7ae810>"
            ]
          },
          "metadata": {
            "tags": []
          },
          "execution_count": 16
        }
      ]
    },
    {
      "cell_type": "code",
      "metadata": {
        "colab": {
          "base_uri": "https://localhost:8080/"
        },
        "id": "uQ7lXHE9wM03",
        "outputId": "8fea377b-a02e-4d53-97e7-8b4190ce8dd9"
      },
      "source": [
        "CLIENT_ID = 'SQJU3NP5PSZZ4SEHGSC3ILIU3VPY0VMHAQNU1JWLKMNYN2GA' # your Foursquare ID\n",
        "CLIENT_SECRET = 'P3SDDVEOOGVU2W5A4DJLOVREYURICFU000DDYLDJ3HHISJ4V' # your Foursquare Secret\n",
        "VERSION = '20180605' # Foursquare API version\n",
        "LIMIT = 100 # A default Foursquare API limit value\n",
        "\n",
        "print('Your credentails:')\n",
        "print('CLIENT_ID: ' + CLIENT_ID)\n",
        "print('CLIENT_SECRET:' + CLIENT_SECRET)"
      ],
      "execution_count": null,
      "outputs": [
        {
          "output_type": "stream",
          "text": [
            "Your credentails:\n",
            "CLIENT_ID: SQJU3NP5PSZZ4SEHGSC3ILIU3VPY0VMHAQNU1JWLKMNYN2GA\n",
            "CLIENT_SECRET:P3SDDVEOOGVU2W5A4DJLOVREYURICFU000DDYLDJ3HHISJ4V\n"
          ],
          "name": "stdout"
        }
      ]
    },
    {
      "cell_type": "code",
      "metadata": {
        "colab": {
          "base_uri": "https://localhost:8080/",
          "height": 419
        },
        "id": "Cxpf1Oj8wdpu",
        "outputId": "6e61b40e-ccbf-4730-96c0-1865654a1676"
      },
      "source": [
        "manhattan_data"
      ],
      "execution_count": null,
      "outputs": [
        {
          "output_type": "execute_result",
          "data": {
            "text/html": [
              "<div>\n",
              "<style scoped>\n",
              "    .dataframe tbody tr th:only-of-type {\n",
              "        vertical-align: middle;\n",
              "    }\n",
              "\n",
              "    .dataframe tbody tr th {\n",
              "        vertical-align: top;\n",
              "    }\n",
              "\n",
              "    .dataframe thead th {\n",
              "        text-align: right;\n",
              "    }\n",
              "</style>\n",
              "<table border=\"1\" class=\"dataframe\">\n",
              "  <thead>\n",
              "    <tr style=\"text-align: right;\">\n",
              "      <th></th>\n",
              "      <th>Borough</th>\n",
              "      <th>Neighborhood</th>\n",
              "      <th>Latitude</th>\n",
              "      <th>Longitude</th>\n",
              "    </tr>\n",
              "  </thead>\n",
              "  <tbody>\n",
              "    <tr>\n",
              "      <th>0</th>\n",
              "      <td>Manhattan</td>\n",
              "      <td>Marble Hill</td>\n",
              "      <td>40.876551</td>\n",
              "      <td>-73.910660</td>\n",
              "    </tr>\n",
              "    <tr>\n",
              "      <th>1</th>\n",
              "      <td>Manhattan</td>\n",
              "      <td>Chinatown</td>\n",
              "      <td>40.715618</td>\n",
              "      <td>-73.994279</td>\n",
              "    </tr>\n",
              "    <tr>\n",
              "      <th>2</th>\n",
              "      <td>Manhattan</td>\n",
              "      <td>Washington Heights</td>\n",
              "      <td>40.851903</td>\n",
              "      <td>-73.936900</td>\n",
              "    </tr>\n",
              "    <tr>\n",
              "      <th>3</th>\n",
              "      <td>Manhattan</td>\n",
              "      <td>Inwood</td>\n",
              "      <td>40.867684</td>\n",
              "      <td>-73.921210</td>\n",
              "    </tr>\n",
              "    <tr>\n",
              "      <th>4</th>\n",
              "      <td>Manhattan</td>\n",
              "      <td>Hamilton Heights</td>\n",
              "      <td>40.823604</td>\n",
              "      <td>-73.949688</td>\n",
              "    </tr>\n",
              "    <tr>\n",
              "      <th>...</th>\n",
              "      <td>...</td>\n",
              "      <td>...</td>\n",
              "      <td>...</td>\n",
              "      <td>...</td>\n",
              "    </tr>\n",
              "    <tr>\n",
              "      <th>35</th>\n",
              "      <td>Manhattan</td>\n",
              "      <td>Turtle Bay</td>\n",
              "      <td>40.752042</td>\n",
              "      <td>-73.967708</td>\n",
              "    </tr>\n",
              "    <tr>\n",
              "      <th>36</th>\n",
              "      <td>Manhattan</td>\n",
              "      <td>Tudor City</td>\n",
              "      <td>40.746917</td>\n",
              "      <td>-73.971219</td>\n",
              "    </tr>\n",
              "    <tr>\n",
              "      <th>37</th>\n",
              "      <td>Manhattan</td>\n",
              "      <td>Stuyvesant Town</td>\n",
              "      <td>40.731000</td>\n",
              "      <td>-73.974052</td>\n",
              "    </tr>\n",
              "    <tr>\n",
              "      <th>38</th>\n",
              "      <td>Manhattan</td>\n",
              "      <td>Flatiron</td>\n",
              "      <td>40.739673</td>\n",
              "      <td>-73.990947</td>\n",
              "    </tr>\n",
              "    <tr>\n",
              "      <th>39</th>\n",
              "      <td>Manhattan</td>\n",
              "      <td>Hudson Yards</td>\n",
              "      <td>40.756658</td>\n",
              "      <td>-74.000111</td>\n",
              "    </tr>\n",
              "  </tbody>\n",
              "</table>\n",
              "<p>40 rows × 4 columns</p>\n",
              "</div>"
            ],
            "text/plain": [
              "      Borough        Neighborhood   Latitude  Longitude\n",
              "0   Manhattan         Marble Hill  40.876551 -73.910660\n",
              "1   Manhattan           Chinatown  40.715618 -73.994279\n",
              "2   Manhattan  Washington Heights  40.851903 -73.936900\n",
              "3   Manhattan              Inwood  40.867684 -73.921210\n",
              "4   Manhattan    Hamilton Heights  40.823604 -73.949688\n",
              "..        ...                 ...        ...        ...\n",
              "35  Manhattan          Turtle Bay  40.752042 -73.967708\n",
              "36  Manhattan          Tudor City  40.746917 -73.971219\n",
              "37  Manhattan     Stuyvesant Town  40.731000 -73.974052\n",
              "38  Manhattan            Flatiron  40.739673 -73.990947\n",
              "39  Manhattan        Hudson Yards  40.756658 -74.000111\n",
              "\n",
              "[40 rows x 4 columns]"
            ]
          },
          "metadata": {
            "tags": []
          },
          "execution_count": 18
        }
      ]
    },
    {
      "cell_type": "code",
      "metadata": {
        "colab": {
          "base_uri": "https://localhost:8080/",
          "height": 53
        },
        "id": "NiMLq21pwmq9",
        "outputId": "4b3eb0ec-e477-4079-f81e-8b1beea7b38c"
      },
      "source": [
        "LIMIT = 100\n",
        "radius = 500\n",
        "\n",
        "url = 'https://api.foursquare.com/v2/venues/explore?&client_id={}&client_secret={}&v={}&ll={},{}&radius={}&limit={}'.format(\n",
        "    CLIENT_ID, \n",
        "    CLIENT_SECRET, \n",
        "    VERSION, \n",
        "    latitude, \n",
        "    longitude, \n",
        "    radius, \n",
        "    LIMIT)\n",
        "\n",
        "url"
      ],
      "execution_count": null,
      "outputs": [
        {
          "output_type": "execute_result",
          "data": {
            "application/vnd.google.colaboratory.intrinsic+json": {
              "type": "string"
            },
            "text/plain": [
              "'https://api.foursquare.com/v2/venues/explore?&client_id=SQJU3NP5PSZZ4SEHGSC3ILIU3VPY0VMHAQNU1JWLKMNYN2GA&client_secret=P3SDDVEOOGVU2W5A4DJLOVREYURICFU000DDYLDJ3HHISJ4V&v=20180605&ll=40.7896239,-73.9598939&radius=500&limit=100'"
            ]
          },
          "metadata": {
            "tags": []
          },
          "execution_count": 19
        }
      ]
    },
    {
      "cell_type": "code",
      "metadata": {
        "id": "_68Sv0z0xB0I"
      },
      "source": [
        "results = requests.get(url).json()\n",
        "results"
      ],
      "execution_count": null,
      "outputs": []
    },
    {
      "cell_type": "code",
      "metadata": {
        "id": "GM0K9paDxJ0m"
      },
      "source": [
        "def get_category_type(row):\n",
        "    try:\n",
        "        categories_list = row['categories']\n",
        "    except:\n",
        "        categories_list = row['venue.categories']\n",
        "        \n",
        "    if len(categories_list) == 0:\n",
        "        return None\n",
        "    else:\n",
        "        return categories_list[0]['name']"
      ],
      "execution_count": null,
      "outputs": []
    },
    {
      "cell_type": "code",
      "metadata": {
        "colab": {
          "base_uri": "https://localhost:8080/",
          "height": 260
        },
        "id": "1PC3uxTVxXRH",
        "outputId": "c6eaae18-46d5-4cd2-a54b-07c77b5665d4"
      },
      "source": [
        "venues = results['response']['groups'][0]['items']\n",
        "    \n",
        "nearby_venues = json_normalize(venues)\n",
        "\n",
        "filtered_columns = ['venue.name', 'venue.categories', 'venue.location.lat', 'venue.location.lng']\n",
        "nearby_venues =nearby_venues.loc[:, filtered_columns]\n",
        "\n",
        "nearby_venues['venue.categories'] = nearby_venues.apply(get_category_type, axis=1)\n",
        "\n",
        "nearby_venues.columns = [col.split(\".\")[-1] for col in nearby_venues.columns]\n",
        "\n",
        "nearby_venues.head()"
      ],
      "execution_count": null,
      "outputs": [
        {
          "output_type": "stream",
          "text": [
            "/usr/local/lib/python3.7/dist-packages/ipykernel_launcher.py:3: FutureWarning: pandas.io.json.json_normalize is deprecated, use pandas.json_normalize instead\n",
            "  This is separate from the ipykernel package so we can avoid doing imports until\n"
          ],
          "name": "stderr"
        },
        {
          "output_type": "execute_result",
          "data": {
            "text/html": [
              "<div>\n",
              "<style scoped>\n",
              "    .dataframe tbody tr th:only-of-type {\n",
              "        vertical-align: middle;\n",
              "    }\n",
              "\n",
              "    .dataframe tbody tr th {\n",
              "        vertical-align: top;\n",
              "    }\n",
              "\n",
              "    .dataframe thead th {\n",
              "        text-align: right;\n",
              "    }\n",
              "</style>\n",
              "<table border=\"1\" class=\"dataframe\">\n",
              "  <thead>\n",
              "    <tr style=\"text-align: right;\">\n",
              "      <th></th>\n",
              "      <th>name</th>\n",
              "      <th>categories</th>\n",
              "      <th>lat</th>\n",
              "      <th>lng</th>\n",
              "    </tr>\n",
              "  </thead>\n",
              "  <tbody>\n",
              "    <tr>\n",
              "      <th>0</th>\n",
              "      <td>Central Park Tennis Center</td>\n",
              "      <td>Tennis Court</td>\n",
              "      <td>40.789313</td>\n",
              "      <td>-73.961862</td>\n",
              "    </tr>\n",
              "    <tr>\n",
              "      <th>1</th>\n",
              "      <td>North Meadow Recreation Center</td>\n",
              "      <td>Recreation Center</td>\n",
              "      <td>40.791216</td>\n",
              "      <td>-73.959661</td>\n",
              "    </tr>\n",
              "    <tr>\n",
              "      <th>2</th>\n",
              "      <td>East Meadow</td>\n",
              "      <td>Field</td>\n",
              "      <td>40.790160</td>\n",
              "      <td>-73.955498</td>\n",
              "    </tr>\n",
              "    <tr>\n",
              "      <th>3</th>\n",
              "      <td>Oldest Tree in Central Park</td>\n",
              "      <td>Park</td>\n",
              "      <td>40.789188</td>\n",
              "      <td>-73.957867</td>\n",
              "    </tr>\n",
              "    <tr>\n",
              "      <th>4</th>\n",
              "      <td>Central Park - 96th Street Playground</td>\n",
              "      <td>Playground</td>\n",
              "      <td>40.787813</td>\n",
              "      <td>-73.956257</td>\n",
              "    </tr>\n",
              "  </tbody>\n",
              "</table>\n",
              "</div>"
            ],
            "text/plain": [
              "                                    name  ...        lng\n",
              "0             Central Park Tennis Center  ... -73.961862\n",
              "1         North Meadow Recreation Center  ... -73.959661\n",
              "2                            East Meadow  ... -73.955498\n",
              "3            Oldest Tree in Central Park  ... -73.957867\n",
              "4  Central Park - 96th Street Playground  ... -73.956257\n",
              "\n",
              "[5 rows x 4 columns]"
            ]
          },
          "metadata": {
            "tags": []
          },
          "execution_count": 22
        }
      ]
    },
    {
      "cell_type": "code",
      "metadata": {
        "colab": {
          "base_uri": "https://localhost:8080/"
        },
        "id": "e8gExS0rxlI3",
        "outputId": "75574927-dce8-4647-8491-71478e0a81db"
      },
      "source": [
        "print('{} venues were returned by Foursquare.'.format(nearby_venues.shape[0]))"
      ],
      "execution_count": null,
      "outputs": [
        {
          "output_type": "stream",
          "text": [
            "28 venues were returned by Foursquare.\n"
          ],
          "name": "stdout"
        }
      ]
    },
    {
      "cell_type": "code",
      "metadata": {
        "id": "l4xfJ8Whxx9k"
      },
      "source": [
        "def getNearbyVenues(names, latitudes, longitudes, radius=500):\n",
        "    \n",
        "    venues_list=[]\n",
        "    for name, lat, lng in zip(names, latitudes, longitudes):\n",
        "        print(name)\n",
        "            \n",
        "        # create the API request URL\n",
        "        url = 'https://api.foursquare.com/v2/venues/explore?&client_id={}&client_secret={}&v={}&ll={},{}&radius={}&limit={}'.format(\n",
        "            CLIENT_ID, \n",
        "            CLIENT_SECRET, \n",
        "            VERSION, \n",
        "            lat, \n",
        "            lng, \n",
        "            radius, \n",
        "            LIMIT)\n",
        "            \n",
        "        # make the GET request\n",
        "        results = requests.get(url).json()[\"response\"]['groups'][0]['items']\n",
        "        \n",
        "        # return only relevant information for each nearby venue\n",
        "        venues_list.append([(\n",
        "            name, \n",
        "            lat, \n",
        "            lng, \n",
        "            v['venue']['name'], \n",
        "            v['venue']['location']['lat'], \n",
        "            v['venue']['location']['lng'],  \n",
        "            v['venue']['categories'][0]['name']) for v in results])\n",
        "\n",
        "    nearby_venues = pd.DataFrame([item for venue_list in venues_list for item in venue_list])\n",
        "    nearby_venues.columns = ['Neighborhood', \n",
        "                  'Neighborhood Latitude', \n",
        "                  'Neighborhood Longitude', \n",
        "                  'Venue', \n",
        "                  'Venue Latitude', \n",
        "                  'Venue Longitude', \n",
        "                  'Venue Category']\n",
        "    \n",
        "    return(nearby_venues)"
      ],
      "execution_count": null,
      "outputs": []
    },
    {
      "cell_type": "code",
      "metadata": {
        "colab": {
          "base_uri": "https://localhost:8080/"
        },
        "id": "0ZvdD5scx-Nk",
        "outputId": "8917c718-f3f8-42b3-f7ce-169b41ca5b2d"
      },
      "source": [
        "manhattan_venues = getNearbyVenues(names = manhattan_data['Neighborhood'],\n",
        "                                  latitudes = manhattan_data['Latitude'],\n",
        "                                  longitudes = manhattan_data['Longitude'])"
      ],
      "execution_count": null,
      "outputs": [
        {
          "output_type": "stream",
          "text": [
            "Marble Hill\n",
            "Chinatown\n",
            "Washington Heights\n",
            "Inwood\n",
            "Hamilton Heights\n",
            "Manhattanville\n",
            "Central Harlem\n",
            "East Harlem\n",
            "Upper East Side\n",
            "Yorkville\n",
            "Lenox Hill\n",
            "Roosevelt Island\n",
            "Upper West Side\n",
            "Lincoln Square\n",
            "Clinton\n",
            "Midtown\n",
            "Murray Hill\n",
            "Chelsea\n",
            "Greenwich Village\n",
            "East Village\n",
            "Lower East Side\n",
            "Tribeca\n",
            "Little Italy\n",
            "Soho\n",
            "West Village\n",
            "Manhattan Valley\n",
            "Morningside Heights\n",
            "Gramercy\n",
            "Battery Park City\n",
            "Financial District\n",
            "Carnegie Hill\n",
            "Noho\n",
            "Civic Center\n",
            "Midtown South\n",
            "Sutton Place\n",
            "Turtle Bay\n",
            "Tudor City\n",
            "Stuyvesant Town\n",
            "Flatiron\n",
            "Hudson Yards\n"
          ],
          "name": "stdout"
        }
      ]
    },
    {
      "cell_type": "code",
      "metadata": {
        "colab": {
          "base_uri": "https://localhost:8080/",
          "height": 256
        },
        "id": "jOk1wW0wyBkL",
        "outputId": "b98bc612-4f48-4094-ca6f-d76fc8ed8c95"
      },
      "source": [
        "print(manhattan_venues.shape)\n",
        "manhattan_venues.head()"
      ],
      "execution_count": null,
      "outputs": [
        {
          "output_type": "stream",
          "text": [
            "(3231, 7)\n"
          ],
          "name": "stdout"
        },
        {
          "output_type": "execute_result",
          "data": {
            "text/html": [
              "<div>\n",
              "<style scoped>\n",
              "    .dataframe tbody tr th:only-of-type {\n",
              "        vertical-align: middle;\n",
              "    }\n",
              "\n",
              "    .dataframe tbody tr th {\n",
              "        vertical-align: top;\n",
              "    }\n",
              "\n",
              "    .dataframe thead th {\n",
              "        text-align: right;\n",
              "    }\n",
              "</style>\n",
              "<table border=\"1\" class=\"dataframe\">\n",
              "  <thead>\n",
              "    <tr style=\"text-align: right;\">\n",
              "      <th></th>\n",
              "      <th>Neighborhood</th>\n",
              "      <th>Neighborhood Latitude</th>\n",
              "      <th>Neighborhood Longitude</th>\n",
              "      <th>Venue</th>\n",
              "      <th>Venue Latitude</th>\n",
              "      <th>Venue Longitude</th>\n",
              "      <th>Venue Category</th>\n",
              "    </tr>\n",
              "  </thead>\n",
              "  <tbody>\n",
              "    <tr>\n",
              "      <th>0</th>\n",
              "      <td>Marble Hill</td>\n",
              "      <td>40.876551</td>\n",
              "      <td>-73.91066</td>\n",
              "      <td>Bikram Yoga</td>\n",
              "      <td>40.876844</td>\n",
              "      <td>-73.906204</td>\n",
              "      <td>Yoga Studio</td>\n",
              "    </tr>\n",
              "    <tr>\n",
              "      <th>1</th>\n",
              "      <td>Marble Hill</td>\n",
              "      <td>40.876551</td>\n",
              "      <td>-73.91066</td>\n",
              "      <td>Arturo's</td>\n",
              "      <td>40.874412</td>\n",
              "      <td>-73.910271</td>\n",
              "      <td>Pizza Place</td>\n",
              "    </tr>\n",
              "    <tr>\n",
              "      <th>2</th>\n",
              "      <td>Marble Hill</td>\n",
              "      <td>40.876551</td>\n",
              "      <td>-73.91066</td>\n",
              "      <td>Tibbett Diner</td>\n",
              "      <td>40.880404</td>\n",
              "      <td>-73.908937</td>\n",
              "      <td>Diner</td>\n",
              "    </tr>\n",
              "    <tr>\n",
              "      <th>3</th>\n",
              "      <td>Marble Hill</td>\n",
              "      <td>40.876551</td>\n",
              "      <td>-73.91066</td>\n",
              "      <td>Astral Fitness &amp; Wellness Center</td>\n",
              "      <td>40.876705</td>\n",
              "      <td>-73.906372</td>\n",
              "      <td>Gym</td>\n",
              "    </tr>\n",
              "    <tr>\n",
              "      <th>4</th>\n",
              "      <td>Marble Hill</td>\n",
              "      <td>40.876551</td>\n",
              "      <td>-73.91066</td>\n",
              "      <td>Dunkin'</td>\n",
              "      <td>40.877136</td>\n",
              "      <td>-73.906666</td>\n",
              "      <td>Donut Shop</td>\n",
              "    </tr>\n",
              "  </tbody>\n",
              "</table>\n",
              "</div>"
            ],
            "text/plain": [
              "  Neighborhood  Neighborhood Latitude  ...  Venue Longitude Venue Category\n",
              "0  Marble Hill              40.876551  ...       -73.906204    Yoga Studio\n",
              "1  Marble Hill              40.876551  ...       -73.910271    Pizza Place\n",
              "2  Marble Hill              40.876551  ...       -73.908937          Diner\n",
              "3  Marble Hill              40.876551  ...       -73.906372            Gym\n",
              "4  Marble Hill              40.876551  ...       -73.906666     Donut Shop\n",
              "\n",
              "[5 rows x 7 columns]"
            ]
          },
          "metadata": {
            "tags": []
          },
          "execution_count": 26
        }
      ]
    },
    {
      "cell_type": "markdown",
      "metadata": {
        "id": "g95gwRllyif0"
      },
      "source": [
        "Filter out Neighborhoods with Gyms or Fitness Centers"
      ]
    },
    {
      "cell_type": "code",
      "metadata": {
        "colab": {
          "base_uri": "https://localhost:8080/",
          "height": 289
        },
        "id": "GFG3C7oWyHTY",
        "outputId": "b1edce23-a3ac-4d91-f4bf-4c328e341c54"
      },
      "source": [
        "fitness_venues_list = ['Gym', 'Gym / Fitness Center']\n",
        "manhattan_gyms = manhattan_venues[manhattan_venues['Venue Category'].isin(fitness_venues_list)]\n",
        "manhattan_gyms.head()"
      ],
      "execution_count": null,
      "outputs": [
        {
          "output_type": "execute_result",
          "data": {
            "text/html": [
              "<div>\n",
              "<style scoped>\n",
              "    .dataframe tbody tr th:only-of-type {\n",
              "        vertical-align: middle;\n",
              "    }\n",
              "\n",
              "    .dataframe tbody tr th {\n",
              "        vertical-align: top;\n",
              "    }\n",
              "\n",
              "    .dataframe thead th {\n",
              "        text-align: right;\n",
              "    }\n",
              "</style>\n",
              "<table border=\"1\" class=\"dataframe\">\n",
              "  <thead>\n",
              "    <tr style=\"text-align: right;\">\n",
              "      <th></th>\n",
              "      <th>Neighborhood</th>\n",
              "      <th>Neighborhood Latitude</th>\n",
              "      <th>Neighborhood Longitude</th>\n",
              "      <th>Venue</th>\n",
              "      <th>Venue Latitude</th>\n",
              "      <th>Venue Longitude</th>\n",
              "      <th>Venue Category</th>\n",
              "    </tr>\n",
              "  </thead>\n",
              "  <tbody>\n",
              "    <tr>\n",
              "      <th>3</th>\n",
              "      <td>Marble Hill</td>\n",
              "      <td>40.876551</td>\n",
              "      <td>-73.910660</td>\n",
              "      <td>Astral Fitness &amp; Wellness Center</td>\n",
              "      <td>40.876705</td>\n",
              "      <td>-73.906372</td>\n",
              "      <td>Gym</td>\n",
              "    </tr>\n",
              "    <tr>\n",
              "      <th>8</th>\n",
              "      <td>Marble Hill</td>\n",
              "      <td>40.876551</td>\n",
              "      <td>-73.910660</td>\n",
              "      <td>Blink Fitness</td>\n",
              "      <td>40.877271</td>\n",
              "      <td>-73.905595</td>\n",
              "      <td>Gym</td>\n",
              "    </tr>\n",
              "    <tr>\n",
              "      <th>166</th>\n",
              "      <td>Washington Heights</td>\n",
              "      <td>40.851903</td>\n",
              "      <td>-73.936900</td>\n",
              "      <td>Planet Fitness</td>\n",
              "      <td>40.847536</td>\n",
              "      <td>-73.937937</td>\n",
              "      <td>Gym / Fitness Center</td>\n",
              "    </tr>\n",
              "    <tr>\n",
              "      <th>184</th>\n",
              "      <td>Washington Heights</td>\n",
              "      <td>40.851903</td>\n",
              "      <td>-73.936900</td>\n",
              "      <td>Blink Fitness</td>\n",
              "      <td>40.848562</td>\n",
              "      <td>-73.936941</td>\n",
              "      <td>Gym</td>\n",
              "    </tr>\n",
              "    <tr>\n",
              "      <th>378</th>\n",
              "      <td>Central Harlem</td>\n",
              "      <td>40.815976</td>\n",
              "      <td>-73.943211</td>\n",
              "      <td>Harlem YMCA</td>\n",
              "      <td>40.814790</td>\n",
              "      <td>-73.942910</td>\n",
              "      <td>Gym / Fitness Center</td>\n",
              "    </tr>\n",
              "  </tbody>\n",
              "</table>\n",
              "</div>"
            ],
            "text/plain": [
              "           Neighborhood  ...        Venue Category\n",
              "3           Marble Hill  ...                   Gym\n",
              "8           Marble Hill  ...                   Gym\n",
              "166  Washington Heights  ...  Gym / Fitness Center\n",
              "184  Washington Heights  ...                   Gym\n",
              "378      Central Harlem  ...  Gym / Fitness Center\n",
              "\n",
              "[5 rows x 7 columns]"
            ]
          },
          "metadata": {
            "tags": []
          },
          "execution_count": 27
        }
      ]
    },
    {
      "cell_type": "markdown",
      "metadata": {
        "id": "cMykvZGOYYbt"
      },
      "source": [
        "### **Analysis Continued**\n",
        "\n",
        "Here we see a heatmap of the gyms and fitness centers and you can immediately notice that there are more gyms towards the Southern end of Manhattan than the Northern end (much like the density of the neighborhoods)"
      ]
    },
    {
      "cell_type": "code",
      "metadata": {
        "id": "-G5oXuZMbZpS"
      },
      "source": [
        "gyms_latlongs = manhattan_gyms[['Venue Latitude', 'Venue Longitude']]\n",
        "gyms_latlongs_list = gyms_latlongs.values.tolist()"
      ],
      "execution_count": null,
      "outputs": []
    },
    {
      "cell_type": "code",
      "metadata": {
        "id": "wRmazo9if6Tn"
      },
      "source": [
        "manhattan_neighborhood_latlongs = manhattan_gyms[['Neighborhood Latitude', 'Neighborhood Longitude']]\n",
        "manhattan_neighborhood_latlongs_list = manhattan_neighborhood_latlongs.values.tolist()"
      ],
      "execution_count": null,
      "outputs": []
    },
    {
      "cell_type": "code",
      "metadata": {
        "id": "OSo_2Gzhgr2_"
      },
      "source": [
        "def manhattan_neighborhood_style(feature):\n",
        "    return { 'color': 'blue', 'fill': False }"
      ],
      "execution_count": null,
      "outputs": []
    },
    {
      "cell_type": "code",
      "metadata": {
        "colab": {
          "base_uri": "https://localhost:8080/",
          "height": 634
        },
        "id": "aUaQE6K8yMOp",
        "outputId": "6588ba65-43e0-42a5-86bb-fd734c1107de"
      },
      "source": [
        "heatmap_manhattan = folium.Map(location=[latitude, longitude], zoom_start=12, width = '50%', height = '70%')\n",
        "folium.TileLayer('cartodbpositron').add_to(heatmap_manhattan)\n",
        "HeatMap(gyms_latlongs_list).add_to(heatmap_manhattan)\n",
        "folium.Marker(manhattan_center).add_to(heatmap_manhattan)\n",
        "folium.Circle(manhattan_center, radius=3000, fill=False, color='white').add_to(heatmap_manhattan)\n",
        "folium.Circle(manhattan_center, radius=6000, fill=False, color='white').add_to(heatmap_manhattan)\n",
        "folium.Circle(manhattan_center, radius=9000, fill=False, color='white').add_to(heatmap_manhattan)\n",
        "heatmap_manhattan"
      ],
      "execution_count": null,
      "outputs": [
        {
          "output_type": "execute_result",
          "data": {
            "text/html": [
              "<div style=\"width:100%;\"><div style=\"position:relative;width:100%;height:0;padding-bottom:60%;\"><span style=\"color:#565656\">Make this Notebook Trusted to load map: File -> Trust Notebook</span><iframe src=\"about:blank\" style=\"position:absolute;width:100%;height:100%;left:0;top:0;border:none !important;\" data-html=%3C%21DOCTYPE%20html%3E%0A%3Chead%3E%20%20%20%20%0A%20%20%20%20%3Cmeta%20http-equiv%3D%22content-type%22%20content%3D%22text/html%3B%20charset%3DUTF-8%22%20/%3E%0A%20%20%20%20%3Cscript%3EL_PREFER_CANVAS%3Dfalse%3B%20L_NO_TOUCH%3Dfalse%3B%20L_DISABLE_3D%3Dfalse%3B%3C/script%3E%0A%20%20%20%20%3Cscript%20src%3D%22https%3A//cdn.jsdelivr.net/npm/leaflet%401.4.0/dist/leaflet.js%22%3E%3C/script%3E%0A%20%20%20%20%3Cscript%20src%3D%22https%3A//code.jquery.com/jquery-1.12.4.min.js%22%3E%3C/script%3E%0A%20%20%20%20%3Cscript%20src%3D%22https%3A//maxcdn.bootstrapcdn.com/bootstrap/3.2.0/js/bootstrap.min.js%22%3E%3C/script%3E%0A%20%20%20%20%3Cscript%20src%3D%22https%3A//cdnjs.cloudflare.com/ajax/libs/Leaflet.awesome-markers/2.0.2/leaflet.awesome-markers.js%22%3E%3C/script%3E%0A%20%20%20%20%3Clink%20rel%3D%22stylesheet%22%20href%3D%22https%3A//cdn.jsdelivr.net/npm/leaflet%401.4.0/dist/leaflet.css%22/%3E%0A%20%20%20%20%3Clink%20rel%3D%22stylesheet%22%20href%3D%22https%3A//maxcdn.bootstrapcdn.com/bootstrap/3.2.0/css/bootstrap.min.css%22/%3E%0A%20%20%20%20%3Clink%20rel%3D%22stylesheet%22%20href%3D%22https%3A//maxcdn.bootstrapcdn.com/bootstrap/3.2.0/css/bootstrap-theme.min.css%22/%3E%0A%20%20%20%20%3Clink%20rel%3D%22stylesheet%22%20href%3D%22https%3A//maxcdn.bootstrapcdn.com/font-awesome/4.6.3/css/font-awesome.min.css%22/%3E%0A%20%20%20%20%3Clink%20rel%3D%22stylesheet%22%20href%3D%22https%3A//cdnjs.cloudflare.com/ajax/libs/Leaflet.awesome-markers/2.0.2/leaflet.awesome-markers.css%22/%3E%0A%20%20%20%20%3Clink%20rel%3D%22stylesheet%22%20href%3D%22https%3A//rawcdn.githack.com/python-visualization/folium/master/folium/templates/leaflet.awesome.rotate.css%22/%3E%0A%20%20%20%20%3Cstyle%3Ehtml%2C%20body%20%7Bwidth%3A%20100%25%3Bheight%3A%20100%25%3Bmargin%3A%200%3Bpadding%3A%200%3B%7D%3C/style%3E%0A%20%20%20%20%3Cstyle%3E%23map%20%7Bposition%3Aabsolute%3Btop%3A0%3Bbottom%3A0%3Bright%3A0%3Bleft%3A0%3B%7D%3C/style%3E%0A%20%20%20%20%0A%20%20%20%20%3Cmeta%20name%3D%22viewport%22%20content%3D%22width%3Ddevice-width%2C%0A%20%20%20%20%20%20%20%20initial-scale%3D1.0%2C%20maximum-scale%3D1.0%2C%20user-scalable%3Dno%22%20/%3E%0A%20%20%20%20%3Cstyle%3E%23map_3fd85f2f9b7c4a4dab51d05ed550348b%20%7B%0A%20%20%20%20%20%20%20%20position%3A%20relative%3B%0A%20%20%20%20%20%20%20%20width%3A%2050.0%25%3B%0A%20%20%20%20%20%20%20%20height%3A%2070.0%25%3B%0A%20%20%20%20%20%20%20%20left%3A%200.0%25%3B%0A%20%20%20%20%20%20%20%20top%3A%200.0%25%3B%0A%20%20%20%20%20%20%20%20%7D%0A%20%20%20%20%3C/style%3E%0A%20%20%20%20%3Cscript%20src%3D%22https%3A//leaflet.github.io/Leaflet.heat/dist/leaflet-heat.js%22%3E%3C/script%3E%0A%3C/head%3E%0A%3Cbody%3E%20%20%20%20%0A%20%20%20%20%0A%20%20%20%20%3Cdiv%20class%3D%22folium-map%22%20id%3D%22map_3fd85f2f9b7c4a4dab51d05ed550348b%22%20%3E%3C/div%3E%0A%3C/body%3E%0A%3Cscript%3E%20%20%20%20%0A%20%20%20%20%0A%20%20%20%20%0A%20%20%20%20%20%20%20%20var%20bounds%20%3D%20null%3B%0A%20%20%20%20%0A%0A%20%20%20%20var%20map_3fd85f2f9b7c4a4dab51d05ed550348b%20%3D%20L.map%28%0A%20%20%20%20%20%20%20%20%27map_3fd85f2f9b7c4a4dab51d05ed550348b%27%2C%20%7B%0A%20%20%20%20%20%20%20%20center%3A%20%5B40.7896239%2C%20-73.9598939%5D%2C%0A%20%20%20%20%20%20%20%20zoom%3A%2012%2C%0A%20%20%20%20%20%20%20%20maxBounds%3A%20bounds%2C%0A%20%20%20%20%20%20%20%20layers%3A%20%5B%5D%2C%0A%20%20%20%20%20%20%20%20worldCopyJump%3A%20false%2C%0A%20%20%20%20%20%20%20%20crs%3A%20L.CRS.EPSG3857%2C%0A%20%20%20%20%20%20%20%20zoomControl%3A%20true%2C%0A%20%20%20%20%20%20%20%20%7D%29%3B%0A%0A%0A%20%20%20%20%0A%20%20%20%20var%20tile_layer_f3d7988dd05345c4944c03f6b7319e8a%20%3D%20L.tileLayer%28%0A%20%20%20%20%20%20%20%20%27https%3A//%7Bs%7D.tile.openstreetmap.org/%7Bz%7D/%7Bx%7D/%7By%7D.png%27%2C%0A%20%20%20%20%20%20%20%20%7B%0A%20%20%20%20%20%20%20%20%22attribution%22%3A%20null%2C%0A%20%20%20%20%20%20%20%20%22detectRetina%22%3A%20false%2C%0A%20%20%20%20%20%20%20%20%22maxNativeZoom%22%3A%2018%2C%0A%20%20%20%20%20%20%20%20%22maxZoom%22%3A%2018%2C%0A%20%20%20%20%20%20%20%20%22minZoom%22%3A%200%2C%0A%20%20%20%20%20%20%20%20%22noWrap%22%3A%20false%2C%0A%20%20%20%20%20%20%20%20%22opacity%22%3A%201%2C%0A%20%20%20%20%20%20%20%20%22subdomains%22%3A%20%22abc%22%2C%0A%20%20%20%20%20%20%20%20%22tms%22%3A%20false%0A%7D%29.addTo%28map_3fd85f2f9b7c4a4dab51d05ed550348b%29%3B%0A%20%20%20%20var%20tile_layer_2c7fddbd33194153904e8df337b326c4%20%3D%20L.tileLayer%28%0A%20%20%20%20%20%20%20%20%27https%3A//cartodb-basemaps-%7Bs%7D.global.ssl.fastly.net/light_all/%7Bz%7D/%7Bx%7D/%7By%7D.png%27%2C%0A%20%20%20%20%20%20%20%20%7B%0A%20%20%20%20%20%20%20%20%22attribution%22%3A%20null%2C%0A%20%20%20%20%20%20%20%20%22detectRetina%22%3A%20false%2C%0A%20%20%20%20%20%20%20%20%22maxNativeZoom%22%3A%2018%2C%0A%20%20%20%20%20%20%20%20%22maxZoom%22%3A%2018%2C%0A%20%20%20%20%20%20%20%20%22minZoom%22%3A%200%2C%0A%20%20%20%20%20%20%20%20%22noWrap%22%3A%20false%2C%0A%20%20%20%20%20%20%20%20%22opacity%22%3A%201%2C%0A%20%20%20%20%20%20%20%20%22subdomains%22%3A%20%22abc%22%2C%0A%20%20%20%20%20%20%20%20%22tms%22%3A%20false%0A%7D%29.addTo%28map_3fd85f2f9b7c4a4dab51d05ed550348b%29%3B%0A%20%20%20%20%0A%20%20%20%20%20%20%20%20%20%20%20%20var%20heat_map_e744bfc65fcb4d89a820933e0b9f9a60%20%3D%20L.heatLayer%28%0A%20%20%20%20%20%20%20%20%20%20%20%20%20%20%20%20%5B%5B40.87670526507199%2C%20-73.90637207670373%5D%2C%20%5B40.877271495944626%2C%20-73.90559491338075%5D%2C%20%5B40.84753584822694%2C%20-73.93793656267817%5D%2C%20%5B40.848562%2C%20-73.936941%5D%2C%20%5B40.81479%2C%20-73.94291%5D%2C%20%5B40.81260785559189%2C%20-73.93969908127347%5D%2C%20%5B40.81264914038415%2C%20-73.93948866127762%5D%2C%20%5B40.793549%2C%20-73.940495%5D%2C%20%5B40.77674515212741%2C%20-73.95759126481023%5D%2C%20%5B40.77484736228385%2C%20-73.95674766396186%5D%2C%20%5B40.775943269169765%2C%20-73.95604125683425%5D%2C%20%5B40.77719197102275%2C%20-73.95518048990078%5D%2C%20%5B40.776010084941554%2C%20-73.95641908049589%5D%2C%20%5B40.77562494620712%2C%20-73.94740183923969%5D%2C%20%5B40.77554876714521%2C%20-73.94745085692637%5D%2C%20%5B40.779061977935854%2C%20-73.9440952293109%5D%2C%20%5B40.773077690538436%2C%20-73.94832704446911%5D%2C%20%5B40.77794663322817%2C%20-73.94937814314801%5D%2C%20%5B40.774547019372655%2C%20-73.95186601526352%5D%2C%20%5B40.77199212174999%2C%20-73.94956521462328%5D%2C%20%5B40.77046%2C%20-73.957387%5D%2C%20%5B40.766466038164914%2C%20-73.96262874941318%5D%2C%20%5B40.766508%2C%20-73.962584%5D%2C%20%5B40.77101827851563%2C%20-73.95761331851189%5D%2C%20%5B40.770471174428444%2C%20-73.96188967243695%5D%2C%20%5B40.76591047366576%2C%20-73.94664073849377%5D%2C%20%5B40.759954%2C%20-73.951787%5D%2C%20%5B40.78526946430776%2C%20-73.9758449792862%5D%2C%20%5B40.787885862108354%2C%20-73.97126228698342%5D%2C%20%5B40.77519532191418%2C%20-73.98413457594117%5D%2C%20%5B40.77439%2C%20-73.981231%5D%2C%20%5B40.77441561462417%2C%20-73.98109653863574%5D%2C%20%5B40.774517352832156%2C%20-73.99066389105948%5D%2C%20%5B40.77086%2C%20-73.98064%5D%2C%20%5B40.77666304497307%2C%20-73.98892886325355%5D%2C%20%5B40.75996689999999%2C%20-73.99458489999999%5D%2C%20%5B40.75920115265559%2C%20-73.99508032030828%5D%2C%20%5B40.75683627951094%2C%20-73.99471875886772%5D%2C%20%5B40.76115126873309%2C%20-73.99913217426928%5D%2C%20%5B40.75636043759353%2C%20-73.99731271933179%5D%2C%20%5B40.76082717166776%2C%20-73.99912031260314%5D%2C%20%5B40.76063181255091%2C%20-73.99924872560831%5D%2C%20%5B40.75727530635666%2C%20-73.99779701418834%5D%2C%20%5B40.763460561220136%2C%20-73.99629149162%5D%2C%20%5B40.754089%2C%20-73.9799%5D%2C%20%5B40.753973603231486%2C%20-73.98017667861575%5D%2C%20%5B40.75468%2C%20-73.985466%5D%2C%20%5B40.749334%2C%20-73.975913%5D%2C%20%5B40.74503265187938%2C%20-73.97710514599794%5D%2C%20%5B40.74679016051969%2C%20-73.98288534895833%5D%2C%20%5B40.746093%2C%20-73.98135%5D%2C%20%5B40.74617150115289%2C%20-73.9831643795631%5D%2C%20%5B40.74370943522512%2C%20-74.00697437112993%5D%2C%20%5B40.725883426523026%2C%20-74.00378718082742%5D%2C%20%5B40.726382875668484%2C%20-73.99584194137591%5D%2C%20%5B40.72337%2C%20-74.009003%5D%2C%20%5B40.724496417243046%2C%20-74.00902589928198%5D%2C%20%5B40.721128035611365%2C%20-74.00539755821228%5D%2C%20%5B40.7210258578459%2C%20-73.99383718121187%5D%2C%20%5B40.72397271279325%2C%20-73.9970421147778%5D%2C%20%5B40.73496122634544%2C%20-74.00756833990988%5D%2C%20%5B40.712704%2C%20-74.014995%5D%2C%20%5B40.70891090598323%2C%20-74.0133789212536%5D%2C%20%5B40.70899473841247%2C%20-74.01835776369661%5D%2C%20%5B40.708614%2C%20-74.010013%5D%2C%20%5B40.706843676084894%2C%20-74.01301424688859%5D%2C%20%5B40.70727326752029%2C%20-74.01054311858566%5D%2C%20%5B40.70554386423745%2C%20-74.01213909064103%5D%2C%20%5B40.70434084081434%2C%20-74.00916057926591%5D%2C%20%5B40.70891090598323%2C%20-74.0133789212536%5D%2C%20%5B40.70614064913209%2C%20-74.00935632342313%5D%2C%20%5B40.7825%2C%20-73.95058%5D%2C%20%5B40.78310834374145%2C%20-73.9527579922648%5D%2C%20%5B40.78306516804938%2C%20-73.95264774585988%5D%2C%20%5B40.781022807147%2C%20-73.95420957724832%5D%2C%20%5B40.784920890143646%2C%20-73.94853276492782%5D%2C%20%5B40.72237017311023%2C%20-73.98793738659782%5D%2C%20%5B40.7156286200256%2C%20-74.0079922583853%5D%2C%20%5B40.7178305720227%2C%20-74.0062042065723%5D%2C%20%5B40.717195410510364%2C%20-74.00512799620634%5D%2C%20%5B40.71409860726041%2C%20-74.0096857179283%5D%2C%20%5B40.71275251771485%2C%20-74.00873355601571%5D%2C%20%5B40.748047017352285%2C%20-73.99095741364096%5D%2C%20%5B40.74589871935009%2C%20-73.99009029202607%5D%2C%20%5B40.74843014154783%2C%20-73.99233772770262%5D%2C%20%5B40.74575059255085%2C%20-73.99168146292683%5D%2C%20%5B40.761151%2C%20-73.961958%5D%2C%20%5B40.76011254023884%2C%20-73.96295510114648%5D%2C%20%5B40.76024460802107%2C%20-73.96461067907435%5D%2C%20%5B40.759490364841156%2C%20-73.96492090527245%5D%2C%20%5B40.763501%2C%20-73.962023%5D%2C%20%5B40.75770519212359%2C%20-73.96760144330764%5D%2C%20%5B40.757466%2C%20-73.967448%5D%2C%20%5B40.7533773%2C%20-73.97102199999999%5D%2C%20%5B40.74515330979293%2C%20-73.97250108871965%5D%2C%20%5B40.749334%2C%20-73.975913%5D%2C%20%5B40.749005866915496%2C%20-73.97580392634383%5D%2C%20%5B40.74822371538265%2C%20-73.97024191430063%5D%2C%20%5B40.72901302093476%2C%20-73.97667636455161%5D%2C%20%5B40.739856864845336%2C%20-73.99319384310543%5D%2C%20%5B40.738961433134314%2C%20-73.9897805284278%5D%2C%20%5B40.73914434247855%2C%20-73.98734536441805%5D%2C%20%5B40.75636043759353%2C%20-73.99731271933179%5D%2C%20%5B40.754192%2C%20-74.002777%5D%2C%20%5B40.75683627951094%2C%20-73.99471875886772%5D%2C%20%5B40.75727530635666%2C%20-73.99779701418834%5D%2C%20%5B40.752369%2C%20-74.00058%5D%2C%20%5B40.76082717166776%2C%20-73.99912031260314%5D%2C%20%5B40.76063181255091%2C%20-73.99924872560831%5D%5D%2C%0A%20%20%20%20%20%20%20%20%20%20%20%20%20%20%20%20%7B%0A%20%20%20%20%20%20%20%20%20%20%20%20%20%20%20%20%20%20%20%20minOpacity%3A%200.5%2C%0A%20%20%20%20%20%20%20%20%20%20%20%20%20%20%20%20%20%20%20%20maxZoom%3A%2018%2C%0A%20%20%20%20%20%20%20%20%20%20%20%20%20%20%20%20%20%20%20%20max%3A%201.0%2C%0A%20%20%20%20%20%20%20%20%20%20%20%20%20%20%20%20%20%20%20%20radius%3A%2025%2C%0A%20%20%20%20%20%20%20%20%20%20%20%20%20%20%20%20%20%20%20%20blur%3A%2015%2C%0A%20%20%20%20%20%20%20%20%20%20%20%20%20%20%20%20%20%20%20%20gradient%3A%20null%0A%20%20%20%20%20%20%20%20%20%20%20%20%20%20%20%20%20%20%20%20%7D%29%0A%20%20%20%20%20%20%20%20%20%20%20%20%20%20%20%20.addTo%28map_3fd85f2f9b7c4a4dab51d05ed550348b%29%3B%0A%20%20%20%20%20%20%20%20%0A%20%20%20%20%0A%20%20%20%20%20%20%20%20var%20marker_3b570622811f48d2b0e5005d1f71c2a3%20%3D%20L.marker%28%0A%20%20%20%20%20%20%20%20%20%20%20%20%5B40.7896239%2C%20-73.9598939%5D%2C%0A%20%20%20%20%20%20%20%20%20%20%20%20%7B%0A%20%20%20%20%20%20%20%20%20%20%20%20%20%20%20%20icon%3A%20new%20L.Icon.Default%28%29%2C%0A%20%20%20%20%20%20%20%20%20%20%20%20%20%20%20%20%7D%0A%20%20%20%20%20%20%20%20%20%20%20%20%29.addTo%28map_3fd85f2f9b7c4a4dab51d05ed550348b%29%3B%0A%20%20%20%20%20%20%20%20%0A%20%20%20%20%0A%0A%20%20%20%20%20%20%20%20%20%20%20%20var%20circle_94d180edb3fc4a0289bc896d89d2a012%20%3D%20L.circle%28%0A%20%20%20%20%20%20%20%20%20%20%20%20%20%20%20%20%5B40.7896239%2C%20-73.9598939%5D%2C%0A%20%20%20%20%20%20%20%20%20%20%20%20%20%20%20%20%7B%0A%20%20%22bubblingMouseEvents%22%3A%20true%2C%0A%20%20%22color%22%3A%20%22white%22%2C%0A%20%20%22dashArray%22%3A%20null%2C%0A%20%20%22dashOffset%22%3A%20null%2C%0A%20%20%22fill%22%3A%20false%2C%0A%20%20%22fillColor%22%3A%20%22white%22%2C%0A%20%20%22fillOpacity%22%3A%200.2%2C%0A%20%20%22fillRule%22%3A%20%22evenodd%22%2C%0A%20%20%22lineCap%22%3A%20%22round%22%2C%0A%20%20%22lineJoin%22%3A%20%22round%22%2C%0A%20%20%22opacity%22%3A%201.0%2C%0A%20%20%22radius%22%3A%203000%2C%0A%20%20%22stroke%22%3A%20true%2C%0A%20%20%22weight%22%3A%203%0A%7D%0A%20%20%20%20%20%20%20%20%20%20%20%20%20%20%20%20%29%0A%20%20%20%20%20%20%20%20%20%20%20%20%20%20%20%20.addTo%28map_3fd85f2f9b7c4a4dab51d05ed550348b%29%3B%0A%20%20%20%20%20%20%20%20%20%20%20%20%0A%20%20%20%20%0A%0A%20%20%20%20%20%20%20%20%20%20%20%20var%20circle_ab09a5b293fa4da089656e3a3f6dfbdd%20%3D%20L.circle%28%0A%20%20%20%20%20%20%20%20%20%20%20%20%20%20%20%20%5B40.7896239%2C%20-73.9598939%5D%2C%0A%20%20%20%20%20%20%20%20%20%20%20%20%20%20%20%20%7B%0A%20%20%22bubblingMouseEvents%22%3A%20true%2C%0A%20%20%22color%22%3A%20%22white%22%2C%0A%20%20%22dashArray%22%3A%20null%2C%0A%20%20%22dashOffset%22%3A%20null%2C%0A%20%20%22fill%22%3A%20false%2C%0A%20%20%22fillColor%22%3A%20%22white%22%2C%0A%20%20%22fillOpacity%22%3A%200.2%2C%0A%20%20%22fillRule%22%3A%20%22evenodd%22%2C%0A%20%20%22lineCap%22%3A%20%22round%22%2C%0A%20%20%22lineJoin%22%3A%20%22round%22%2C%0A%20%20%22opacity%22%3A%201.0%2C%0A%20%20%22radius%22%3A%206000%2C%0A%20%20%22stroke%22%3A%20true%2C%0A%20%20%22weight%22%3A%203%0A%7D%0A%20%20%20%20%20%20%20%20%20%20%20%20%20%20%20%20%29%0A%20%20%20%20%20%20%20%20%20%20%20%20%20%20%20%20.addTo%28map_3fd85f2f9b7c4a4dab51d05ed550348b%29%3B%0A%20%20%20%20%20%20%20%20%20%20%20%20%0A%20%20%20%20%0A%0A%20%20%20%20%20%20%20%20%20%20%20%20var%20circle_d530631297d44550b4839326ac36837e%20%3D%20L.circle%28%0A%20%20%20%20%20%20%20%20%20%20%20%20%20%20%20%20%5B40.7896239%2C%20-73.9598939%5D%2C%0A%20%20%20%20%20%20%20%20%20%20%20%20%20%20%20%20%7B%0A%20%20%22bubblingMouseEvents%22%3A%20true%2C%0A%20%20%22color%22%3A%20%22white%22%2C%0A%20%20%22dashArray%22%3A%20null%2C%0A%20%20%22dashOffset%22%3A%20null%2C%0A%20%20%22fill%22%3A%20false%2C%0A%20%20%22fillColor%22%3A%20%22white%22%2C%0A%20%20%22fillOpacity%22%3A%200.2%2C%0A%20%20%22fillRule%22%3A%20%22evenodd%22%2C%0A%20%20%22lineCap%22%3A%20%22round%22%2C%0A%20%20%22lineJoin%22%3A%20%22round%22%2C%0A%20%20%22opacity%22%3A%201.0%2C%0A%20%20%22radius%22%3A%209000%2C%0A%20%20%22stroke%22%3A%20true%2C%0A%20%20%22weight%22%3A%203%0A%7D%0A%20%20%20%20%20%20%20%20%20%20%20%20%20%20%20%20%29%0A%20%20%20%20%20%20%20%20%20%20%20%20%20%20%20%20.addTo%28map_3fd85f2f9b7c4a4dab51d05ed550348b%29%3B%0A%20%20%20%20%20%20%20%20%20%20%20%20%0A%3C/script%3E onload=\"this.contentDocument.open();this.contentDocument.write(    decodeURIComponent(this.getAttribute('data-html')));this.contentDocument.close();\" allowfullscreen webkitallowfullscreen mozallowfullscreen></iframe></div></div>"
            ],
            "text/plain": [
              "<folium.folium.Map at 0x7feaee1cbf10>"
            ]
          },
          "metadata": {
            "tags": []
          },
          "execution_count": 52
        }
      ]
    },
    {
      "cell_type": "markdown",
      "metadata": {
        "id": "5w9Z_LPgoJIi"
      },
      "source": [
        "### **Results and Discussion**\n",
        "\n",
        "Viewing the analysis shows us that Manhattan has a lot more neighborhoods towards its Southern end, and it also has more gyms and fitness centers in that direction.\n",
        "\n",
        "It seems to have the highest number of fitness centers in the Financial District and Upper East Side and very few in Harlem, Carnegie Hill and Manhattan Valley - these neighborhoods could be ideal oppurtunities in therms of the lack of fitness centers.\n",
        "\n"
      ]
    },
    {
      "cell_type": "markdown",
      "metadata": {
        "id": "qFHZ8mDrpZBw"
      },
      "source": [
        "\n",
        "\n",
        "---\n",
        "\n",
        "### **Conclusion**\n",
        "\n",
        "This report simply explored the oppurtinity for opening a new gym or fitness center in Manhattan purely based on how many other fitness centers were in each neighborhood of Manhattan.\n",
        "\n",
        "A business owner has oppurtuny in the North side of Manhattan solely based on the advantage of the lack of competition, however it is encouraged to use this report as a guide to collect additional information on the less dense neighborhoods, such as income, population density and more.\n"
      ]
    },
    {
      "cell_type": "code",
      "metadata": {
        "id": "RZBWBrMgpqV5"
      },
      "source": [
        ""
      ],
      "execution_count": null,
      "outputs": []
    }
  ]
}